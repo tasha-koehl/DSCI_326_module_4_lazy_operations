{
 "cells": [
  {
   "cell_type": "markdown",
   "metadata": {
    "id": "HmGoJGPARy2q"
   },
   "source": [
    "# Introduction to `pyspark.sql.DataFrame`s\n",
    "\n",
    "Adapted from [Databrick's tutorial](https://docs.databricks.com/spark/latest/dataframes-datasets/introduction-to-dataframes-python.html)"
   ]
  },
  {
   "cell_type": "markdown",
   "metadata": {},
   "source": [
    "## Installing a `pyspark` Anaconda virtual environment\n",
    "\n",
    "Use Anaconda Navigator to create a virtual environment with the following packages installed"
   ]
  },
  {
   "cell_type": "markdown",
   "metadata": {},
   "source": [
    "#### `pyspark` Stuff\n",
    "1. `openjdk` to install Java,\n",
    "2. `pyspark` to install `spark` and `pyspark`, and\n",
    "3. `findspark` to (possibly) deal with any issues finding `spark`."
   ]
  },
  {
   "cell_type": "markdown",
   "metadata": {},
   "source": [
    "#### The usual suspects - data management\n",
    "\n",
    "1. `pandas`\n",
    "2. `polars`\n",
    "3. `pyarrow[all]`"
   ]
  },
  {
   "cell_type": "markdown",
   "metadata": {},
   "source": [
    "#### The usual suspects - visualization and ML\n",
    "\n",
    "1. `scikit-learn`\n",
    "2. `seaborn`\n",
    "3. `plotnine`\n",
    "4. `altair`"
   ]
  },
  {
   "cell_type": "code",
   "execution_count": 1,
   "metadata": {
    "id": "L5K2nZoKRy2u"
   },
   "outputs": [],
   "source": [
    "# import pyspark class Row from module sql\n",
    "from pyspark.sql import SparkSession"
   ]
  },
  {
   "cell_type": "markdown",
   "metadata": {
    "id": "D24uSpsiRy2v"
   },
   "source": [
    "## What is spark?\n",
    "\n",
    "* Build for the Hadoop platform\n",
    "* Replacement of MapReduce\n",
    "* Second-generation optimization\n",
    "    * Lazy\n",
    "    * Optimized\n",
    "    * Persistent data structures\n",
    "* Written in scala"
   ]
  },
  {
   "cell_type": "markdown",
   "metadata": {
    "id": "Uw5GmuzoRy2v"
   },
   "source": [
    "## Ok ... so what's Hadoop?\n",
    "\n",
    "* Distributed computing platform\n",
    "* [Used by lots of companies](https://wiki.apache.org/hadoop/PoweredBy)\n",
    "* Becoming an industry standard\n"
   ]
  },
  {
   "cell_type": "markdown",
   "metadata": {
    "id": "9qkETupURy2w"
   },
   "source": [
    "## What is `pyspark`?\n",
    "\n",
    "* Python interface to spark\n",
    "* Needs a spark session\n",
    "    * `session` $\\leftrightarrow$ spark\n"
   ]
  },
  {
   "cell_type": "markdown",
   "metadata": {
    "id": "8v26KFc3Ry2w"
   },
   "source": [
    "## Step 0 - Create a spark session\n",
    "\n",
    "`pyspark` (Python) communicates with `spark` (JVM via Scala) through a session"
   ]
  },
  {
   "cell_type": "code",
   "execution_count": 2,
   "metadata": {
    "id": "inmnI_3_Ry2x"
   },
   "outputs": [],
   "source": [
    "spark = SparkSession.builder.appName('Ops').getOrCreate()"
   ]
  },
  {
   "cell_type": "markdown",
   "metadata": {
    "id": "bZct8N4PRy2y"
   },
   "source": [
    "## Overview -  `pyspark.DataFrame`\n",
    "\n",
    "* A `DataFrame` is a collection of `Row`s\n",
    "* `Row`s can be distributed over many machines\n",
    "* `spark`\n",
    "    * Hides the messy details\n",
    "    * Optimizes operations"
   ]
  },
  {
   "cell_type": "markdown",
   "metadata": {
    "id": "jKVuBwbtRy26"
   },
   "source": [
    "## How to think about a `pyspark.DataFrame`\n",
    "\n",
    "<img src=\"https://github.com/wsu-stat489/module5_intro_to_pyspark/blob/main/img/pyspark_df.png?raw=1\" width=600>"
   ]
  },
  {
   "cell_type": "markdown",
   "metadata": {
    "id": "BKrVK7sARy28"
   },
   "source": [
    "## Reading a `csv` file with `spark.read.csv`"
   ]
  },
  {
   "cell_type": "markdown",
   "metadata": {},
   "source": [
    "#### `read.csv` is lazy"
   ]
  },
  {
   "cell_type": "code",
   "execution_count": 3,
   "metadata": {
    "colab": {
     "base_uri": "https://localhost:8080/"
    },
    "id": "DhbWSRcWRy29",
    "outputId": "41f5ee1c-bc8e-42ce-ea48-a79ce1788c2c"
   },
   "outputs": [
    {
     "data": {
      "text/plain": [
       "DataFrame[ID: string, name: string, Gender: string, Eye color: string, Race: string, Hair color: string, Height: string, Publisher: string, Skin color: string, Alignment: string, Weight: string]"
      ]
     },
     "execution_count": 3,
     "metadata": {},
     "output_type": "execute_result"
    }
   ],
   "source": [
    "(heroes := \n",
    " spark.read.csv('./data/heroes_information.csv', header=True)\n",
    ")"
   ]
  },
  {
   "cell_type": "markdown",
   "metadata": {
    "id": "BLf4rjDrRy26"
   },
   "source": [
    "## Example - `filter` and `collect`"
   ]
  },
  {
   "cell_type": "markdown",
   "metadata": {},
   "source": [
    "#### `filter` is lazy"
   ]
  },
  {
   "cell_type": "code",
   "execution_count": 4,
   "metadata": {},
   "outputs": [
    {
     "data": {
      "text/plain": [
       "DataFrame[ID: string, name: string, Gender: string, Eye color: string, Race: string, Hair color: string, Height: string, Publisher: string, Skin color: string, Alignment: string, Weight: string]"
      ]
     },
     "execution_count": 4,
     "metadata": {},
     "output_type": "execute_result"
    }
   ],
   "source": [
    "from pyspark.sql.functions import col\n",
    "\n",
    "(heroes\n",
    " .filter(col('Eye color') == 'yellow')\n",
    ")"
   ]
  },
  {
   "cell_type": "markdown",
   "metadata": {},
   "source": [
    "#### `limit` is lazy"
   ]
  },
  {
   "cell_type": "code",
   "execution_count": 5,
   "metadata": {},
   "outputs": [
    {
     "data": {
      "text/plain": [
       "DataFrame[ID: string, name: string, Gender: string, Eye color: string, Race: string, Hair color: string, Height: string, Publisher: string, Skin color: string, Alignment: string, Weight: string]"
      ]
     },
     "execution_count": 5,
     "metadata": {},
     "output_type": "execute_result"
    }
   ],
   "source": [
    "from pyspark.sql.functions import col\n",
    "\n",
    "(heroes\n",
    " .filter(col('Eye color') == 'yellow')\n",
    " .limit(5)\n",
    ")"
   ]
  },
  {
   "cell_type": "markdown",
   "metadata": {},
   "source": [
    "#### `take` is eager"
   ]
  },
  {
   "cell_type": "code",
   "execution_count": 6,
   "metadata": {},
   "outputs": [
    {
     "data": {
      "text/plain": [
       "[Row(ID='0', name='A-Bomb', Gender='Male', Eye color='yellow', Race='Human', Hair color='No Hair', Height='203', Publisher='Marvel Comics', Skin color='-', Alignment='good', Weight='441'),\n",
       " Row(ID='24', name='Angel Dust', Gender='Female', Eye color='yellow', Race='Mutant', Hair color='Black', Height='165', Publisher='Marvel Comics', Skin color='-', Alignment='good', Weight='57'),\n",
       " Row(ID='31', name='Anti-Monitor', Gender='Male', Eye color='yellow', Race='God / Eternal', Hair color='No Hair', Height='61', Publisher='DC Comics', Skin color='-', Alignment='bad', Weight='-99'),\n",
       " Row(ID='56', name='Azazel', Gender='Male', Eye color='yellow', Race='Neyaphem', Hair color='Black', Height='183', Publisher='Marvel Comics', Skin color='red', Alignment='bad', Weight='67'),\n",
       " Row(ID='207', name='Darth Vader', Gender='Male', Eye color='yellow', Race='Cyborg', Hair color='No Hair', Height='198', Publisher='George Lucas', Skin color='-', Alignment='bad', Weight='135')]"
      ]
     },
     "execution_count": 6,
     "metadata": {},
     "output_type": "execute_result"
    }
   ],
   "source": [
    "from pyspark.sql.functions import col\n",
    "\n",
    "(heroes\n",
    " .filter(col('Eye color') == 'yellow')\n",
    " .take(5)\n",
    ")"
   ]
  },
  {
   "cell_type": "markdown",
   "metadata": {},
   "source": [
    "#### `collect` is eager"
   ]
  },
  {
   "cell_type": "code",
   "execution_count": 7,
   "metadata": {},
   "outputs": [
    {
     "data": {
      "text/plain": [
       "[Row(ID='0', name='A-Bomb', Gender='Male', Eye color='yellow', Race='Human', Hair color='No Hair', Height='203', Publisher='Marvel Comics', Skin color='-', Alignment='good', Weight='441'),\n",
       " Row(ID='24', name='Angel Dust', Gender='Female', Eye color='yellow', Race='Mutant', Hair color='Black', Height='165', Publisher='Marvel Comics', Skin color='-', Alignment='good', Weight='57'),\n",
       " Row(ID='31', name='Anti-Monitor', Gender='Male', Eye color='yellow', Race='God / Eternal', Hair color='No Hair', Height='61', Publisher='DC Comics', Skin color='-', Alignment='bad', Weight='-99'),\n",
       " Row(ID='56', name='Azazel', Gender='Male', Eye color='yellow', Race='Neyaphem', Hair color='Black', Height='183', Publisher='Marvel Comics', Skin color='red', Alignment='bad', Weight='67'),\n",
       " Row(ID='207', name='Darth Vader', Gender='Male', Eye color='yellow', Race='Cyborg', Hair color='No Hair', Height='198', Publisher='George Lucas', Skin color='-', Alignment='bad', Weight='135'),\n",
       " Row(ID='209', name='Data', Gender='Male', Eye color='yellow', Race='Android', Hair color='Brown', Height='-99', Publisher='Star Trek', Skin color='-', Alignment='good', Weight='-99'),\n",
       " Row(ID='231', name='Dormammu', Gender='Male', Eye color='yellow', Race='-', Hair color='No Hair', Height='185', Publisher='Marvel Comics', Skin color='-', Alignment='bad', Weight='-99'),\n",
       " Row(ID='266', name='Flash IV', Gender='Male', Eye color='yellow', Race='Human', Hair color='Auburn', Height='157', Publisher='DC Comics', Skin color='-', Alignment='good', Weight='52'),\n",
       " Row(ID='274', name='Gamora', Gender='Female', Eye color='yellow', Race='Zen-Whoberian', Hair color='Black', Height='183', Publisher='Marvel Comics', Skin color='green', Alignment='good', Weight='77'),\n",
       " Row(ID='293', name='Gorilla Grodd', Gender='Male', Eye color='yellow', Race='Gorilla', Hair color='Black', Height='198', Publisher='DC Comics', Skin color='-', Alignment='bad', Weight='270'),\n",
       " Row(ID='302', name='Groot', Gender='Male', Eye color='yellow', Race='Flora Colossus', Hair color='-', Height='701', Publisher='Marvel Comics', Skin color='-', Alignment='good', Weight='4'),\n",
       " Row(ID='339', name='Impulse', Gender='Male', Eye color='yellow', Race='Human', Hair color='Auburn', Height='170', Publisher='DC Comics', Skin color='-', Alignment='good', Weight='65'),\n",
       " Row(ID='353', name='Jar Jar Binks', Gender='Male', Eye color='yellow', Race='Gungan', Hair color='-', Height='193', Publisher='George Lucas', Skin color='orange / white', Alignment='good', Weight='-99'),\n",
       " Row(ID='389', name='King Kong', Gender='Male', Eye color='yellow', Race='Animal', Hair color='Black', Height='30.5', Publisher=None, Skin color='-', Alignment='good', Weight=None),\n",
       " Row(ID='409', name='Living Brain', Gender='-', Eye color='yellow', Race='-', Hair color='-', Height='198', Publisher='Marvel Comics', Skin color='-', Alignment='bad', Weight='360'),\n",
       " Row(ID='490', name='Nightcrawler', Gender='Male', Eye color='yellow', Race='-', Hair color='Indigo', Height='175', Publisher='Marvel Comics', Skin color='-', Alignment='good', Weight='88'),\n",
       " Row(ID='549', name='Red Hulk', Gender='Male', Eye color='yellow', Race='Human / Radiation', Hair color='Black', Height='213', Publisher='Marvel Comics', Skin color='red', Alignment='neutral', Weight='630'),\n",
       " Row(ID='648', name='Swarm', Gender='Male', Eye color='yellow', Race='Mutant', Hair color='No Hair', Height='196', Publisher='Marvel Comics', Skin color='yellow', Alignment='bad', Weight='47'),\n",
       " Row(ID='677', name='Trigon', Gender='Male', Eye color='yellow', Race='God / Eternal', Hair color='Black', Height='-99', Publisher='DC Comics', Skin color='red', Alignment='bad', Weight='-99')]"
      ]
     },
     "execution_count": 7,
     "metadata": {},
     "output_type": "execute_result"
    }
   ],
   "source": [
    "from pyspark.sql.functions import col\n",
    "\n",
    "(heroes\n",
    " .filter(col('Eye color') == 'yellow')\n",
    "#  .limit(5)\n",
    " .collect()\n",
    ")"
   ]
  },
  {
   "cell_type": "markdown",
   "metadata": {
    "id": "q9SJPtXWRy27"
   },
   "source": [
    "### Why is `pyspark` so slow?\n",
    "\n",
    "* Optimized for \n",
    "    * Distributed computation\n",
    "    * Big data \n",
    "* Not great for\n",
    "    * Local work on\n",
    "    * Small data"
   ]
  },
  {
   "cell_type": "markdown",
   "metadata": {},
   "source": [
    "### Why is `pyspark` so fast?\n",
    "\n",
    "* Distributed nature $\\longrightarrow$ leverage multi-core CPU,\n",
    "* Data model can optimize data access via predicate/projection/slice pushdown,\n",
    "* Lazy evaluation allow optimized memory usages (e.g., for a grouped aggregation), and\n",
    "* Arrow allows FAST implementation of `pandas` user defined functions (UDF).\n",
    "\n",
    "See [this article](https://www.databricks.com/blog/2018/05/03/benchmarking-apache-spark-on-a-single-node-machine.html) for details."
   ]
  },
  {
   "cell_type": "markdown",
   "metadata": {
    "id": "ZeGQ8V3WRy28"
   },
   "source": [
    "## `filter` and `collect` illustrated\n",
    "\n",
    "<img src=\"https://github.com/wsu-stat489/module5_intro_to_pyspark/blob/main/img/pyspark_filter_collect.gif?raw=1\" width=600>"
   ]
  },
  {
   "cell_type": "markdown",
   "metadata": {
    "id": "qeWlqKJhRy29"
   },
   "source": [
    "## Inspecting the column types"
   ]
  },
  {
   "cell_type": "code",
   "execution_count": 11,
   "metadata": {
    "colab": {
     "base_uri": "https://localhost:8080/"
    },
    "id": "UxukDxMURy2-",
    "outputId": "f7d5d16d-06c5-45bd-9eca-85769a9a4196"
   },
   "outputs": [
    {
     "name": "stdout",
     "output_type": "stream",
     "text": [
      "root\n",
      " |-- ID: string (nullable = true)\n",
      " |-- name: string (nullable = true)\n",
      " |-- Gender: string (nullable = true)\n",
      " |-- Eye color: string (nullable = true)\n",
      " |-- Race: string (nullable = true)\n",
      " |-- Hair color: string (nullable = true)\n",
      " |-- Height: string (nullable = true)\n",
      " |-- Publisher: string (nullable = true)\n",
      " |-- Skin color: string (nullable = true)\n",
      " |-- Alignment: string (nullable = true)\n",
      " |-- Weight: string (nullable = true)\n",
      "\n"
     ]
    }
   ],
   "source": [
    "heroes.printSchema()"
   ]
  },
  {
   "cell_type": "markdown",
   "metadata": {
    "id": "m_fo_qJRRy2-"
   },
   "source": [
    "## Gathering results in `pyspark.sql`\n",
    "\n",
    "* **Important fact** All `pyspark` queries end in a collection method\n",
    "* **Why?** Data is (possibly) spread across many machines\n",
    "* <font color = \"red\"> **Warning** This might be is *expensive*! Know how much data your are requesting! </font>"
   ]
  },
  {
   "cell_type": "markdown",
   "metadata": {
    "id": "w0RzEUbPRy2_"
   },
   "source": [
    "## Gathering methods\n",
    "\n",
    "Here are the default methods for gathering the results.\n",
    "\n",
    "* `collect` returns all values\n",
    "* `take(n)` returns the first `n` values \n",
    "* `sample(n)` returns `n` randomly selected values\n",
    "\n",
    "**Note.** These are combersome, as they return a list of `Row`s :("
   ]
  },
  {
   "cell_type": "markdown",
   "metadata": {
    "id": "6ps4FCptRy2_"
   },
   "source": [
    "### Inspecting the content - `take`"
   ]
  },
  {
   "cell_type": "code",
   "execution_count": 12,
   "metadata": {
    "colab": {
     "base_uri": "https://localhost:8080/"
    },
    "id": "ChQBZx0DRy3A",
    "outputId": "b67a92a6-24f9-48ae-d7d9-9e0bc7311e7a"
   },
   "outputs": [
    {
     "data": {
      "text/plain": [
       "[Row(ID='0', name='A-Bomb', Gender='Male', Eye color='yellow', Race='Human', Hair color='No Hair', Height='203', Publisher='Marvel Comics', Skin color='-', Alignment='good', Weight='441'),\n",
       " Row(ID='1', name='Abe Sapien', Gender='Male', Eye color='blue', Race='Icthyo Sapien', Hair color='No Hair', Height='191', Publisher='Dark Horse Comics', Skin color='blue', Alignment='good', Weight='65'),\n",
       " Row(ID='2', name='Abin Sur', Gender='Male', Eye color='blue', Race='Ungaran', Hair color='No Hair', Height='185', Publisher='DC Comics', Skin color='red', Alignment='good', Weight='90'),\n",
       " Row(ID='3', name='Abomination', Gender='Male', Eye color='green', Race='Human / Radiation', Hair color='No Hair', Height='203', Publisher='Marvel Comics', Skin color='-', Alignment='bad', Weight='441'),\n",
       " Row(ID='4', name='Abraxas', Gender='Male', Eye color='blue', Race='Cosmic Entity', Hair color='Black', Height='-99', Publisher='Marvel Comics', Skin color='-', Alignment='bad', Weight='-99')]"
      ]
     },
     "execution_count": 12,
     "metadata": {},
     "output_type": "execute_result"
    }
   ],
   "source": [
    "heroes.take(5) # BAD!!!"
   ]
  },
  {
   "cell_type": "markdown",
   "metadata": {
    "id": "kVUEEQsoRy3B"
   },
   "source": [
    "## Inspecting the whole table - `collect`"
   ]
  },
  {
   "cell_type": "code",
   "execution_count": 13,
   "metadata": {
    "colab": {
     "base_uri": "https://localhost:8080/"
    },
    "id": "Ukr-YV_dRy3C",
    "outputId": "88a8a533-7471-48fd-921a-7376d3f1baba",
    "scrolled": true
   },
   "outputs": [
    {
     "data": {
      "text/plain": [
       "[Row(ID='0', name='A-Bomb', Gender='Male', Eye color='yellow', Race='Human', Hair color='No Hair', Height='203', Publisher='Marvel Comics', Skin color='-', Alignment='good', Weight='441'),\n",
       " Row(ID='1', name='Abe Sapien', Gender='Male', Eye color='blue', Race='Icthyo Sapien', Hair color='No Hair', Height='191', Publisher='Dark Horse Comics', Skin color='blue', Alignment='good', Weight='65'),\n",
       " Row(ID='2', name='Abin Sur', Gender='Male', Eye color='blue', Race='Ungaran', Hair color='No Hair', Height='185', Publisher='DC Comics', Skin color='red', Alignment='good', Weight='90'),\n",
       " Row(ID='3', name='Abomination', Gender='Male', Eye color='green', Race='Human / Radiation', Hair color='No Hair', Height='203', Publisher='Marvel Comics', Skin color='-', Alignment='bad', Weight='441'),\n",
       " Row(ID='4', name='Abraxas', Gender='Male', Eye color='blue', Race='Cosmic Entity', Hair color='Black', Height='-99', Publisher='Marvel Comics', Skin color='-', Alignment='bad', Weight='-99'),\n",
       " Row(ID='5', name='Absorbing Man', Gender='Male', Eye color='blue', Race='Human', Hair color='No Hair', Height='193', Publisher='Marvel Comics', Skin color='-', Alignment='bad', Weight='122'),\n",
       " Row(ID='6', name='Adam Monroe', Gender='Male', Eye color='blue', Race='-', Hair color='Blond', Height='-99', Publisher='NBC - Heroes', Skin color='-', Alignment='good', Weight='-99'),\n",
       " Row(ID='7', name='Adam Strange', Gender='Male', Eye color='blue', Race='Human', Hair color='Blond', Height='185', Publisher='DC Comics', Skin color='-', Alignment='good', Weight='88'),\n",
       " Row(ID='8', name='Agent 13', Gender='Female', Eye color='blue', Race='-', Hair color='Blond', Height='173', Publisher='Marvel Comics', Skin color='-', Alignment='good', Weight='61'),\n",
       " Row(ID='9', name='Agent Bob', Gender='Male', Eye color='brown', Race='Human', Hair color='Brown', Height='178', Publisher='Marvel Comics', Skin color='-', Alignment='good', Weight='81'),\n",
       " Row(ID='10', name='Agent Zero', Gender='Male', Eye color='-', Race='-', Hair color='-', Height='191', Publisher='Marvel Comics', Skin color='-', Alignment='good', Weight='104'),\n",
       " Row(ID='11', name='Air-Walker', Gender='Male', Eye color='blue', Race='-', Hair color='White', Height='188', Publisher='Marvel Comics', Skin color='-', Alignment='bad', Weight='108'),\n",
       " Row(ID='12', name='Ajax', Gender='Male', Eye color='brown', Race='Cyborg', Hair color='Black', Height='193', Publisher='Marvel Comics', Skin color='-', Alignment='bad', Weight='90'),\n",
       " Row(ID='13', name='Alan Scott', Gender='Male', Eye color='blue', Race='-', Hair color='Blond', Height='180', Publisher='DC Comics', Skin color='-', Alignment='good', Weight='90'),\n",
       " Row(ID='14', name='Alex Mercer', Gender='Male', Eye color='-', Race='Human', Hair color='-', Height='-99', Publisher='Wildstorm', Skin color='-', Alignment='bad', Weight='-99'),\n",
       " Row(ID='15', name='Alex Woolsly', Gender='Male', Eye color='-', Race='-', Hair color='-', Height='-99', Publisher='NBC - Heroes', Skin color='-', Alignment='good', Weight='-99'),\n",
       " Row(ID='16', name='Alfred Pennyworth', Gender='Male', Eye color='blue', Race='Human', Hair color='Black', Height='178', Publisher='DC Comics', Skin color='-', Alignment='good', Weight='72'),\n",
       " Row(ID='17', name='Alien', Gender='Male', Eye color='-', Race='Xenomorph XX121', Hair color='No Hair', Height='244', Publisher='Dark Horse Comics', Skin color='black', Alignment='bad', Weight='169'),\n",
       " Row(ID='18', name='Allan Quatermain', Gender='Male', Eye color='-', Race='-', Hair color='-', Height='-99', Publisher='Wildstorm', Skin color='-', Alignment='good', Weight='-99'),\n",
       " Row(ID='19', name='Amazo', Gender='Male', Eye color='red', Race='Android', Hair color='-', Height='257', Publisher='DC Comics', Skin color='-', Alignment='bad', Weight='173'),\n",
       " Row(ID='20', name='Ammo', Gender='Male', Eye color='brown', Race='Human', Hair color='Black', Height='188', Publisher='Marvel Comics', Skin color='-', Alignment='bad', Weight='101'),\n",
       " Row(ID='21', name='Ando Masahashi', Gender='Male', Eye color='-', Race='-', Hair color='-', Height='-99', Publisher='NBC - Heroes', Skin color='-', Alignment='good', Weight='-99'),\n",
       " Row(ID='22', name='Angel', Gender='Male', Eye color='blue', Race='-', Hair color='Blond', Height='183', Publisher='Marvel Comics', Skin color='-', Alignment='good', Weight='68'),\n",
       " Row(ID='23', name='Angel', Gender='Male', Eye color='-', Race='Vampire', Hair color='-', Height='-99', Publisher='Dark Horse Comics', Skin color='-', Alignment='good', Weight='-99'),\n",
       " Row(ID='24', name='Angel Dust', Gender='Female', Eye color='yellow', Race='Mutant', Hair color='Black', Height='165', Publisher='Marvel Comics', Skin color='-', Alignment='good', Weight='57'),\n",
       " Row(ID='25', name='Angel Salvadore', Gender='Female', Eye color='brown', Race='-', Hair color='Black', Height='163', Publisher='Marvel Comics', Skin color='-', Alignment='good', Weight='54'),\n",
       " Row(ID='26', name='Angela', Gender='Female', Eye color='-', Race='-', Hair color='-', Height='-99', Publisher='Image Comics', Skin color='-', Alignment='bad', Weight='-99'),\n",
       " Row(ID='27', name='Animal Man', Gender='Male', Eye color='blue', Race='Human', Hair color='Blond', Height='183', Publisher='DC Comics', Skin color='-', Alignment='good', Weight='83'),\n",
       " Row(ID='28', name='Annihilus', Gender='Male', Eye color='green', Race='-', Hair color='No Hair', Height='180', Publisher='Marvel Comics', Skin color='-', Alignment='bad', Weight='90'),\n",
       " Row(ID='29', name='Ant-Man', Gender='Male', Eye color='blue', Race='Human', Hair color='Blond', Height='211', Publisher='Marvel Comics', Skin color='-', Alignment='good', Weight='122'),\n",
       " Row(ID='30', name='Ant-Man II', Gender='Male', Eye color='blue', Race='Human', Hair color='Blond', Height='183', Publisher='Marvel Comics', Skin color='-', Alignment='good', Weight='86'),\n",
       " Row(ID='31', name='Anti-Monitor', Gender='Male', Eye color='yellow', Race='God / Eternal', Hair color='No Hair', Height='61', Publisher='DC Comics', Skin color='-', Alignment='bad', Weight='-99'),\n",
       " Row(ID='32', name='Anti-Spawn', Gender='Male', Eye color='-', Race='-', Hair color='-', Height='-99', Publisher='Image Comics', Skin color='-', Alignment='bad', Weight='-99'),\n",
       " Row(ID='33', name='Anti-Venom', Gender='Male', Eye color='blue', Race='Symbiote', Hair color='Blond', Height='229', Publisher='Marvel Comics', Skin color='-', Alignment='-', Weight='358'),\n",
       " Row(ID='34', name='Apocalypse', Gender='Male', Eye color='red', Race='Mutant', Hair color='Black', Height='213', Publisher='Marvel Comics', Skin color='grey', Alignment='bad', Weight='135'),\n",
       " Row(ID='35', name='Aquababy', Gender='Male', Eye color='blue', Race='-', Hair color='Blond', Height='-99', Publisher='DC Comics', Skin color='-', Alignment='good', Weight='-99'),\n",
       " Row(ID='36', name='Aqualad', Gender='Male', Eye color='blue', Race='Atlantean', Hair color='Black', Height='178', Publisher='DC Comics', Skin color='-', Alignment='good', Weight='106'),\n",
       " Row(ID='37', name='Aquaman', Gender='Male', Eye color='blue', Race='Atlantean', Hair color='Blond', Height='185', Publisher='DC Comics', Skin color='-', Alignment='good', Weight='146'),\n",
       " Row(ID='38', name='Arachne', Gender='Female', Eye color='blue', Race='Human', Hair color='Blond', Height='175', Publisher='Marvel Comics', Skin color='-', Alignment='good', Weight='63'),\n",
       " Row(ID='39', name='Archangel', Gender='Male', Eye color='blue', Race='Mutant', Hair color='Blond', Height='183', Publisher='Marvel Comics', Skin color='blue', Alignment='good', Weight='68'),\n",
       " Row(ID='40', name='Arclight', Gender='Female', Eye color='violet', Race='-', Hair color='Purple', Height='173', Publisher='Marvel Comics', Skin color='-', Alignment='bad', Weight='57'),\n",
       " Row(ID='41', name='Ardina', Gender='Female', Eye color='white', Race='Alien', Hair color='Orange', Height='193', Publisher='Marvel Comics', Skin color='gold', Alignment='good', Weight='98'),\n",
       " Row(ID='42', name='Ares', Gender='Male', Eye color='brown', Race='-', Hair color='Brown', Height='185', Publisher='Marvel Comics', Skin color='-', Alignment='good', Weight='270'),\n",
       " Row(ID='43', name='Ariel', Gender='Female', Eye color='purple', Race='-', Hair color='Pink', Height='165', Publisher='Marvel Comics', Skin color='-', Alignment='good', Weight='59'),\n",
       " Row(ID='44', name='Armor', Gender='Female', Eye color='black', Race='-', Hair color='Black', Height='163', Publisher='Marvel Comics', Skin color='-', Alignment='good', Weight='50'),\n",
       " Row(ID='45', name='Arsenal', Gender='Male', Eye color='-', Race='Human', Hair color='-', Height='-99', Publisher='DC Comics', Skin color='-', Alignment='good', Weight='-99'),\n",
       " Row(ID='46', name='Astro Boy', Gender='Male', Eye color='brown', Race='-', Hair color='Black', Height='-99', Publisher=None, Skin color='-', Alignment='good', Weight='-99'),\n",
       " Row(ID='47', name='Atlas', Gender='Male', Eye color='brown', Race='Mutant', Hair color='Red', Height='183', Publisher='Marvel Comics', Skin color='-', Alignment='good', Weight='101'),\n",
       " Row(ID='48', name='Atlas', Gender='Male', Eye color='blue', Race='God / Eternal', Hair color='Brown', Height='198', Publisher='DC Comics', Skin color='-', Alignment='bad', Weight='126'),\n",
       " Row(ID='49', name='Atom', Gender='Male', Eye color='blue', Race='-', Hair color='Red', Height='178', Publisher='DC Comics', Skin color='-', Alignment='good', Weight='68'),\n",
       " Row(ID='50', name='Atom', Gender='Male', Eye color='-', Race='-', Hair color='-', Height='-99', Publisher='DC Comics', Skin color='-', Alignment='good', Weight='-99'),\n",
       " Row(ID='51', name='Atom Girl', Gender='Female', Eye color='black', Race='-', Hair color='Black', Height='168', Publisher='DC Comics', Skin color='-', Alignment='good', Weight='54'),\n",
       " Row(ID='52', name='Atom II', Gender='Male', Eye color='brown', Race='Human', Hair color='Auburn', Height='183', Publisher='DC Comics', Skin color='-', Alignment='good', Weight='81'),\n",
       " Row(ID='53', name='Atom III', Gender='Male', Eye color='-', Race='-', Hair color='Red', Height='-99', Publisher='DC Comics', Skin color='-', Alignment='good', Weight='-99'),\n",
       " Row(ID='54', name='Atom IV', Gender='Male', Eye color='brown', Race='-', Hair color='Black', Height='-99', Publisher='DC Comics', Skin color='-', Alignment='good', Weight='72'),\n",
       " Row(ID='55', name='Aurora', Gender='Female', Eye color='blue', Race='Mutant', Hair color='Black', Height='180', Publisher='Marvel Comics', Skin color='-', Alignment='good', Weight='63'),\n",
       " Row(ID='56', name='Azazel', Gender='Male', Eye color='yellow', Race='Neyaphem', Hair color='Black', Height='183', Publisher='Marvel Comics', Skin color='red', Alignment='bad', Weight='67'),\n",
       " Row(ID='57', name='Azrael', Gender='Male', Eye color='brown', Race='Human', Hair color='Black', Height='-99', Publisher='DC Comics', Skin color='-', Alignment='good', Weight='-99'),\n",
       " Row(ID='58', name='Aztar', Gender='Male', Eye color='-', Race='-', Hair color='-', Height='-99', Publisher='DC Comics', Skin color='-', Alignment='good', Weight='-99'),\n",
       " Row(ID='59', name='Bane', Gender='Male', Eye color='-', Race='Human', Hair color='-', Height='203', Publisher='DC Comics', Skin color='-', Alignment='bad', Weight='180'),\n",
       " Row(ID='60', name='Banshee', Gender='Male', Eye color='green', Race='Human', Hair color='Strawberry Blond', Height='183', Publisher='Marvel Comics', Skin color='-', Alignment='good', Weight='77'),\n",
       " Row(ID='61', name='Bantam', Gender='Male', Eye color='brown', Race='-', Hair color='Black', Height='165', Publisher='Marvel Comics', Skin color='-', Alignment='good', Weight='54'),\n",
       " Row(ID='62', name='Batgirl', Gender='Female', Eye color='-', Race='-', Hair color='-', Height='-99', Publisher='DC Comics', Skin color='-', Alignment='good', Weight='-99'),\n",
       " Row(ID='63', name='Batgirl', Gender='Female', Eye color='green', Race='Human', Hair color='Red', Height='170', Publisher='DC Comics', Skin color='-', Alignment='good', Weight='57'),\n",
       " Row(ID='64', name='Batgirl III', Gender='Female', Eye color='-', Race='-', Hair color='-', Height='-99', Publisher='DC Comics', Skin color='-', Alignment='good', Weight='-99'),\n",
       " Row(ID='65', name='Batgirl IV', Gender='Female', Eye color='green', Race='Human', Hair color='Black', Height='165', Publisher='DC Comics', Skin color='-', Alignment='good', Weight='52'),\n",
       " Row(ID='66', name='Batgirl V', Gender='Female', Eye color='-', Race='-', Hair color='-', Height='-99', Publisher='DC Comics', Skin color='-', Alignment='good', Weight='-99'),\n",
       " Row(ID='67', name='Batgirl VI', Gender='Female', Eye color='blue', Race='-', Hair color='Blond', Height='168', Publisher='DC Comics', Skin color='-', Alignment='good', Weight='61'),\n",
       " Row(ID='68', name='Batman', Gender='Male', Eye color='blue', Race='Human', Hair color='black', Height='188', Publisher='DC Comics', Skin color='-', Alignment='good', Weight='95'),\n",
       " Row(ID='69', name='Batman', Gender='Male', Eye color='blue', Race='Human', Hair color='Black', Height='178', Publisher='DC Comics', Skin color='-', Alignment='good', Weight='77'),\n",
       " Row(ID='70', name='Batman II', Gender='Male', Eye color='blue', Race='Human', Hair color='Black', Height='178', Publisher='DC Comics', Skin color='-', Alignment='good', Weight='79'),\n",
       " Row(ID='71', name='Battlestar', Gender='Male', Eye color='brown', Race='-', Hair color='Black', Height='198', Publisher='Marvel Comics', Skin color='-', Alignment='good', Weight='133'),\n",
       " Row(ID='72', name='Batwoman V', Gender='Female', Eye color='green', Race='Human', Hair color='Red', Height='178', Publisher='DC Comics', Skin color='-', Alignment='good', Weight='-99'),\n",
       " Row(ID='73', name='Beak', Gender='Male', Eye color='black', Race='-', Hair color='White', Height='175', Publisher='Marvel Comics', Skin color='-', Alignment='good', Weight='63'),\n",
       " Row(ID='74', name='Beast', Gender='Male', Eye color='blue', Race='Mutant', Hair color='Blue', Height='180', Publisher='Marvel Comics', Skin color='blue', Alignment='good', Weight='181'),\n",
       " Row(ID='75', name='Beast Boy', Gender='Male', Eye color='green', Race='Human', Hair color='Green', Height='173', Publisher='DC Comics', Skin color='green', Alignment='good', Weight='68'),\n",
       " Row(ID='76', name='Beetle', Gender='Male', Eye color='-', Race='-', Hair color='-', Height='-99', Publisher='Marvel Comics', Skin color='-', Alignment='bad', Weight='-99'),\n",
       " Row(ID='77', name='Ben 10', Gender='Male', Eye color='-', Race='-', Hair color='-', Height='-99', Publisher='DC Comics', Skin color='-', Alignment='good', Weight='-99'),\n",
       " Row(ID='78', name='Beta Ray Bill', Gender='Male', Eye color='-', Race='-', Hair color='No Hair', Height='201', Publisher='Marvel Comics', Skin color='-', Alignment='good', Weight='216'),\n",
       " Row(ID='79', name='Beyonder', Gender='Male', Eye color='-', Race='God / Eternal', Hair color='-', Height='-99', Publisher='Marvel Comics', Skin color='-', Alignment='good', Weight='-99'),\n",
       " Row(ID='80', name='Big Barda', Gender='Female', Eye color='blue', Race='New God', Hair color='Black', Height='188', Publisher='DC Comics', Skin color='-', Alignment='bad', Weight='135'),\n",
       " Row(ID='81', name='Big Daddy', Gender='Male', Eye color='-', Race='-', Hair color='-', Height='-99', Publisher='Icon Comics', Skin color='-', Alignment='good', Weight='-99'),\n",
       " Row(ID='82', name='Big Man', Gender='Male', Eye color='blue', Race='-', Hair color='Brown', Height='165', Publisher='Marvel Comics', Skin color='-', Alignment='bad', Weight='71'),\n",
       " Row(ID='83', name='Bill Harken', Gender='Male', Eye color='-', Race='Alpha', Hair color='-', Height='-99', Publisher='SyFy', Skin color='-', Alignment='good', Weight='-99'),\n",
       " Row(ID='84', name='Billy Kincaid', Gender='Male', Eye color='-', Race='-', Hair color='-', Height='-99', Publisher='Image Comics', Skin color='-', Alignment='bad', Weight='-99'),\n",
       " Row(ID='85', name='Binary', Gender='Female', Eye color='blue', Race='-', Hair color='Blond', Height='180', Publisher='Marvel Comics', Skin color='-', Alignment='good', Weight='54'),\n",
       " Row(ID='86', name='Bionic Woman', Gender='Female', Eye color='blue', Race='Cyborg', Hair color='Black', Height='-99', Publisher=None, Skin color='-', Alignment='good', Weight='-99'),\n",
       " Row(ID='87', name='Bird-Brain', Gender='-', Eye color='-', Race='-', Hair color='-', Height='-99', Publisher='Marvel Comics', Skin color='-', Alignment='good', Weight='-99'),\n",
       " Row(ID='88', name='Bird-Man', Gender='Male', Eye color='-', Race='Human', Hair color='-', Height='-99', Publisher='Marvel Comics', Skin color='-', Alignment='bad', Weight='-99'),\n",
       " Row(ID='89', name='Bird-Man II', Gender='Male', Eye color='-', Race='Human', Hair color='-', Height='-99', Publisher='Marvel Comics', Skin color='-', Alignment='bad', Weight='-99'),\n",
       " Row(ID='90', name='Birdman', Gender='Male', Eye color='-', Race='God / Eternal', Hair color='-', Height='-99', Publisher='Hanna-Barbera', Skin color='-', Alignment='good', Weight='-99'),\n",
       " Row(ID='91', name='Bishop', Gender='Male', Eye color='brown', Race='Mutant', Hair color='No Hair', Height='198', Publisher='Marvel Comics', Skin color='-', Alignment='good', Weight='124'),\n",
       " Row(ID='92', name='Bizarro', Gender='Male', Eye color='black', Race='Bizarro', Hair color='Black', Height='191', Publisher='DC Comics', Skin color='white', Alignment='neutral', Weight='155'),\n",
       " Row(ID='93', name='Black Abbott', Gender='Male', Eye color='red', Race='-', Hair color='Black', Height='-99', Publisher='Marvel Comics', Skin color='-', Alignment='bad', Weight='-99'),\n",
       " Row(ID='94', name='Black Adam', Gender='Male', Eye color='brown', Race='-', Hair color='Black', Height='191', Publisher='DC Comics', Skin color='-', Alignment='bad', Weight='113'),\n",
       " Row(ID='95', name='Black Bolt', Gender='Male', Eye color='blue', Race='Inhuman', Hair color='Black', Height='188', Publisher='Marvel Comics', Skin color='-', Alignment='good', Weight='95'),\n",
       " Row(ID='96', name='Black Canary', Gender='Female', Eye color='blue', Race='Human', Hair color='Blond', Height='165', Publisher='DC Comics', Skin color='-', Alignment='good', Weight='58'),\n",
       " Row(ID='97', name='Black Canary', Gender='Female', Eye color='blue', Race='Metahuman', Hair color='Blond', Height='170', Publisher='DC Comics', Skin color='-', Alignment='good', Weight='59'),\n",
       " Row(ID='98', name='Black Cat', Gender='Female', Eye color='green', Race='Human', Hair color='Blond', Height='178', Publisher='Marvel Comics', Skin color='-', Alignment='good', Weight='54'),\n",
       " Row(ID='99', name='Black Flash', Gender='Male', Eye color='-', Race='God / Eternal', Hair color='-', Height='-99', Publisher='DC Comics', Skin color='-', Alignment='neutral', Weight='-99'),\n",
       " Row(ID='100', name='Black Goliath', Gender='Male', Eye color='-', Race='-', Hair color='-', Height='-99', Publisher='Marvel Comics', Skin color='-', Alignment='good', Weight='-99'),\n",
       " Row(ID='101', name='Black Knight III', Gender='Male', Eye color='brown', Race='Human', Hair color='Brown', Height='183', Publisher='Marvel Comics', Skin color='-', Alignment='good', Weight='86'),\n",
       " Row(ID='102', name='Black Lightning', Gender='Male', Eye color='brown', Race='-', Hair color='No Hair', Height='185', Publisher='DC Comics', Skin color='-', Alignment='good', Weight='90'),\n",
       " Row(ID='103', name='Black Mamba', Gender='Female', Eye color='green', Race='-', Hair color='Black', Height='170', Publisher='Marvel Comics', Skin color='-', Alignment='bad', Weight='52'),\n",
       " Row(ID='104', name='Black Manta', Gender='Male', Eye color='black', Race='Human', Hair color='No Hair', Height='188', Publisher='DC Comics', Skin color='-', Alignment='bad', Weight='92'),\n",
       " Row(ID='105', name='Black Panther', Gender='Male', Eye color='brown', Race='Human', Hair color='Black', Height='183', Publisher='Marvel Comics', Skin color='-', Alignment='good', Weight='90'),\n",
       " Row(ID='106', name='Black Widow', Gender='Female', Eye color='green', Race='Human', Hair color='Auburn', Height='170', Publisher='Marvel Comics', Skin color='-', Alignment='good', Weight='59'),\n",
       " Row(ID='107', name='Black Widow II', Gender='Female', Eye color='blue', Race='-', Hair color='Blond', Height='170', Publisher='Marvel Comics', Skin color='-', Alignment='good', Weight='61'),\n",
       " Row(ID='108', name='Blackout', Gender='Male', Eye color='red', Race='Demon', Hair color='White', Height='191', Publisher='Marvel Comics', Skin color='white', Alignment='bad', Weight='104'),\n",
       " Row(ID='109', name='Blackwing', Gender='Male', Eye color='blue', Race='-', Hair color='Black', Height='185', Publisher='Marvel Comics', Skin color='-', Alignment='bad', Weight='86'),\n",
       " Row(ID='110', name='Blackwulf', Gender='Male', Eye color='red', Race='Alien', Hair color='White', Height='188', Publisher='Marvel Comics', Skin color='-', Alignment='-', Weight='88'),\n",
       " Row(ID='111', name='Blade', Gender='Male', Eye color='brown', Race='Vampire', Hair color='Black', Height='188', Publisher='Marvel Comics', Skin color='-', Alignment='good', Weight='97'),\n",
       " Row(ID='112', name='Blaquesmith', Gender='-', Eye color='black', Race='-', Hair color='No Hair', Height='-99', Publisher='Marvel Comics', Skin color='-', Alignment='good', Weight='-99'),\n",
       " Row(ID='113', name='Bling!', Gender='Female', Eye color='-', Race='-', Hair color='-', Height='168', Publisher='Marvel Comics', Skin color='-', Alignment='good', Weight='68'),\n",
       " Row(ID='114', name='Blink', Gender='Female', Eye color='green', Race='Mutant', Hair color='Magenta', Height='165', Publisher='Marvel Comics', Skin color='pink', Alignment='good', Weight='56'),\n",
       " Row(ID='115', name='Blizzard', Gender='Male', Eye color='-', Race='-', Hair color='-', Height='-99', Publisher='Marvel Comics', Skin color='-', Alignment='bad', Weight='-99'),\n",
       " Row(ID='116', name='Blizzard', Gender='Male', Eye color='-', Race='-', Hair color='Brown', Height='-99', Publisher='Marvel Comics', Skin color='-', Alignment='bad', Weight='-99'),\n",
       " Row(ID='117', name='Blizzard II', Gender='Male', Eye color='brown', Race='-', Hair color='Brown', Height='175', Publisher='Marvel Comics', Skin color='-', Alignment='bad', Weight='77'),\n",
       " Row(ID='118', name='Blob', Gender='Male', Eye color='brown', Race='-', Hair color='Brown', Height='178', Publisher='Marvel Comics', Skin color='-', Alignment='bad', Weight='230'),\n",
       " Row(ID='119', name='Bloodaxe', Gender='Female', Eye color='blue', Race='Human', Hair color='Brown', Height='218', Publisher='Marvel Comics', Skin color='-', Alignment='bad', Weight='495'),\n",
       " Row(ID='120', name='Bloodhawk', Gender='Male', Eye color='black', Race='Mutant', Hair color='No Hair', Height='-99', Publisher='Marvel Comics', Skin color='-', Alignment='good', Weight='-99'),\n",
       " Row(ID='121', name='Bloodwraith', Gender='Male', Eye color='white', Race='-', Hair color='No Hair', Height='30.5', Publisher='Marvel Comics', Skin color='-', Alignment='bad', Weight='-99'),\n",
       " Row(ID='122', name='Blue Beetle', Gender='Male', Eye color='blue', Race='-', Hair color='Brown', Height='-99', Publisher='DC Comics', Skin color='-', Alignment='good', Weight='-99'),\n",
       " Row(ID='123', name='Blue Beetle', Gender='Male', Eye color='-', Race='-', Hair color='-', Height='-99', Publisher='DC Comics', Skin color='-', Alignment='good', Weight='-99'),\n",
       " Row(ID='124', name='Blue Beetle II', Gender='Male', Eye color='blue', Race='-', Hair color='Brown', Height='183', Publisher='DC Comics', Skin color='-', Alignment='good', Weight='86'),\n",
       " Row(ID='125', name='Blue Beetle III', Gender='Male', Eye color='brown', Race='Human', Hair color='Black', Height='-99', Publisher='DC Comics', Skin color='-', Alignment='good', Weight='-99'),\n",
       " Row(ID='126', name='Boba Fett', Gender='Male', Eye color='brown', Race='Human / Clone', Hair color='Black', Height='183', Publisher='George Lucas', Skin color='-', Alignment='bad', Weight='-99'),\n",
       " Row(ID='127', name='Bolt', Gender='Male', Eye color='-', Race='-', Hair color='-', Height='-99', Publisher='Marvel Comics', Skin color='-', Alignment='good', Weight='-99'),\n",
       " Row(ID='128', name='Bomb Queen', Gender='Female', Eye color='-', Race='-', Hair color='-', Height='-99', Publisher='Image Comics', Skin color='-', Alignment='bad', Weight='-99'),\n",
       " Row(ID='129', name='Boom-Boom', Gender='Female', Eye color='blue', Race='Mutant', Hair color='Blond', Height='165', Publisher='Marvel Comics', Skin color='-', Alignment='good', Weight='55'),\n",
       " Row(ID='130', name='Boomer', Gender='Female', Eye color='-', Race='-', Hair color='-', Height='-99', Publisher='Marvel Comics', Skin color='-', Alignment='good', Weight='-99'),\n",
       " Row(ID='131', name='Booster Gold', Gender='Male', Eye color='blue', Race='Human', Hair color='Blond', Height='196', Publisher='DC Comics', Skin color='-', Alignment='good', Weight='97'),\n",
       " Row(ID='132', name='Box', Gender='Male', Eye color='-', Race='-', Hair color='-', Height='-99', Publisher='Marvel Comics', Skin color='-', Alignment='good', Weight='-99'),\n",
       " Row(ID='133', name='Box III', Gender='-', Eye color='blue', Race='-', Hair color='Blond', Height='193', Publisher='Marvel Comics', Skin color='-', Alignment='good', Weight='110'),\n",
       " Row(ID='134', name='Box IV', Gender='-', Eye color='brown', Race='-', Hair color='Brown / Black', Height='-99', Publisher='Marvel Comics', Skin color='-', Alignment='good', Weight='-99'),\n",
       " Row(ID='135', name='Brainiac', Gender='Male', Eye color='green', Race='Android', Hair color='No Hair', Height='198', Publisher='DC Comics', Skin color='green', Alignment='bad', Weight='135'),\n",
       " Row(ID='136', name='Brainiac 5', Gender='Male', Eye color='green', Race='-', Hair color='Blond', Height='170', Publisher='DC Comics', Skin color='-', Alignment='good', Weight='61'),\n",
       " Row(ID='137', name='Brother Voodoo', Gender='Male', Eye color='brown', Race='Human', Hair color='Brown / White', Height='183', Publisher='Marvel Comics', Skin color='-', Alignment='good', Weight='99'),\n",
       " Row(ID='138', name='Brundlefly', Gender='Male', Eye color='-', Race='Mutant', Hair color='-', Height='193', Publisher=None, Skin color='-', Alignment='-', Weight='-99'),\n",
       " Row(ID='139', name='Buffy', Gender='Female', Eye color='green', Race='Human', Hair color='Blond', Height='157', Publisher='Dark Horse Comics', Skin color='-', Alignment='good', Weight='52'),\n",
       " Row(ID='140', name='Bullseye', Gender='Male', Eye color='blue', Race='Human', Hair color='blond', Height='183', Publisher='Marvel Comics', Skin color='-', Alignment='bad', Weight='90'),\n",
       " Row(ID='141', name='Bumblebee', Gender='Female', Eye color='brown', Race='Human', Hair color='Black', Height='170', Publisher='DC Comics', Skin color='-', Alignment='good', Weight='59'),\n",
       " Row(ID='142', name='Bumbleboy', Gender='Male', Eye color='-', Race='-', Hair color='-', Height='-99', Publisher='Marvel Comics', Skin color='-', Alignment='good', Weight='-99'),\n",
       " Row(ID='143', name='Bushido', Gender='Male', Eye color='-', Race='Human', Hair color='-', Height='-99', Publisher='DC Comics', Skin color='-', Alignment='good', Weight='-99'),\n",
       " Row(ID='144', name='Cable', Gender='Male', Eye color='blue', Race='Mutant', Hair color='White', Height='203', Publisher='Marvel Comics', Skin color='-', Alignment='good', Weight='158'),\n",
       " Row(ID='145', name='Callisto', Gender='Female', Eye color='blue', Race='-', Hair color='Black', Height='175', Publisher='Marvel Comics', Skin color='-', Alignment='bad', Weight='74'),\n",
       " Row(ID='146', name='Cameron Hicks', Gender='Male', Eye color='-', Race='Alpha', Hair color='-', Height='-99', Publisher='SyFy', Skin color='-', Alignment='good', Weight='-99'),\n",
       " Row(ID='147', name='Cannonball', Gender='Male', Eye color='blue', Race='-', Hair color='Blond', Height='183', Publisher='Marvel Comics', Skin color='-', Alignment='good', Weight='81'),\n",
       " Row(ID='148', name='Captain America', Gender='Male', Eye color='blue', Race='Human', Hair color='blond', Height='188', Publisher='Marvel Comics', Skin color='-', Alignment='good', Weight='108'),\n",
       " Row(ID='149', name='Captain Atom', Gender='Male', Eye color='blue', Race='Human / Radiation', Hair color='Silver', Height='193', Publisher='DC Comics', Skin color='silver', Alignment='good', Weight='90'),\n",
       " Row(ID='150', name='Captain Britain', Gender='Male', Eye color='blue', Race='Human', Hair color='Blond', Height='198', Publisher='Marvel Comics', Skin color='-', Alignment='good', Weight='116'),\n",
       " Row(ID='151', name='Captain Cold', Gender='Male', Eye color='brown', Race='Human', Hair color='Brown', Height='-99', Publisher='DC Comics', Skin color='-', Alignment='neutral', Weight='-99'),\n",
       " Row(ID='152', name='Captain Epic', Gender='Male', Eye color='blue', Race='-', Hair color='Brown', Height='188', Publisher='Team Epic TV', Skin color='-', Alignment='good', Weight='-99'),\n",
       " Row(ID='153', name='Captain Hindsight', Gender='Male', Eye color='-', Race='Human', Hair color='Black', Height='-99', Publisher='South Park', Skin color='-', Alignment='good', Weight='-99'),\n",
       " Row(ID='154', name='Captain Mar-vell', Gender='Male', Eye color='blue', Race='-', Hair color='Blond', Height='188', Publisher='Marvel Comics', Skin color='-', Alignment='good', Weight='108'),\n",
       " Row(ID='155', name='Captain Marvel', Gender='Female', Eye color='blue', Race='Human-Kree', Hair color='Blond', Height='180', Publisher='Marvel Comics', Skin color='-', Alignment='good', Weight='74'),\n",
       " Row(ID='156', name='Captain Marvel', Gender='Male', Eye color='blue', Race='Human', Hair color='Black', Height='193', Publisher='DC Comics', Skin color='-', Alignment='good', Weight='101'),\n",
       " Row(ID='157', name='Captain Marvel II', Gender='Male', Eye color='blue', Race='Human', Hair color='Black', Height='175', Publisher='DC Comics', Skin color='-', Alignment='good', Weight='74'),\n",
       " Row(ID='158', name='Captain Midnight', Gender='Male', Eye color='-', Race='Human', Hair color='-', Height='-99', Publisher='Dark Horse Comics', Skin color='-', Alignment='good', Weight='-99'),\n",
       " Row(ID='159', name='Captain Planet', Gender='Male', Eye color='red', Race='God / Eternal', Hair color='Green', Height='-99', Publisher='Marvel Comics', Skin color='-', Alignment='good', Weight='-99'),\n",
       " Row(ID='160', name='Captain Universe', Gender='-', Eye color='-', Race='God / Eternal', Hair color='-', Height='-99', Publisher='Marvel Comics', Skin color='-', Alignment='good', Weight='-99'),\n",
       " Row(ID='161', name='Carnage', Gender='Male', Eye color='green', Race='Symbiote', Hair color='Red', Height='185', Publisher='Marvel Comics', Skin color='-', Alignment='bad', Weight='86'),\n",
       " Row(ID='162', name='Cat', Gender='Female', Eye color='blue', Race='-', Hair color='Blond', Height='173', Publisher='Marvel Comics', Skin color='-', Alignment='good', Weight='61'),\n",
       " Row(ID='163', name='Cat II', Gender='Female', Eye color='-', Race='-', Hair color='-', Height='-99', Publisher='Marvel Comics', Skin color='-', Alignment='good', Weight='-99'),\n",
       " Row(ID='164', name='Catwoman', Gender='Female', Eye color='green', Race='Human', Hair color='Black', Height='175', Publisher='DC Comics', Skin color='-', Alignment='good', Weight='61'),\n",
       " Row(ID='165', name='Cecilia Reyes', Gender='-', Eye color='brown', Race='-', Hair color='Brown', Height='170', Publisher='Marvel Comics', Skin color='-', Alignment='good', Weight='62'),\n",
       " Row(ID='166', name='Century', Gender='Male', Eye color='white', Race='Alien', Hair color='White', Height='201', Publisher='Marvel Comics', Skin color='grey', Alignment='good', Weight='97'),\n",
       " Row(ID='167', name='Cerebra', Gender='Female', Eye color='-', Race='Mutant', Hair color='-', Height='-99', Publisher='Marvel Comics', Skin color='-', Alignment='good', Weight='-99'),\n",
       " Row(ID='168', name='Chamber', Gender='Male', Eye color='brown', Race='Mutant', Hair color='Brown', Height='175', Publisher='Marvel Comics', Skin color='-', Alignment='good', Weight='63'),\n",
       " Row(ID='169', name='Chameleon', Gender='Male', Eye color='-', Race='-', Hair color='-', Height='-99', Publisher='DC Comics', Skin color='-', Alignment='bad', Weight='-99'),\n",
       " Row(ID='170', name='Changeling', Gender='Male', Eye color='brown', Race='-', Hair color='Black', Height='180', Publisher='Marvel Comics', Skin color='-', Alignment='bad', Weight='81'),\n",
       " Row(ID='171', name='Cheetah', Gender='Female', Eye color='green', Race='Human', Hair color='Blond', Height='163', Publisher='DC Comics', Skin color='-', Alignment='bad', Weight='50'),\n",
       " Row(ID='172', name='Cheetah II', Gender='Female', Eye color='green', Race='Human', Hair color='Brown', Height='170', Publisher='DC Comics', Skin color='-', Alignment='bad', Weight='55'),\n",
       " Row(ID='173', name='Cheetah III', Gender='Female', Eye color='brown', Race='Human', Hair color='Brown', Height='175', Publisher='DC Comics', Skin color='-', Alignment='bad', Weight='54'),\n",
       " Row(ID='174', name='Chromos', Gender='Male', Eye color='brown', Race='-', Hair color='Red / Grey', Height='185', Publisher='Team Epic TV', Skin color='-', Alignment='bad', Weight='86'),\n",
       " Row(ID='175', name='Chuck Norris', Gender='Male', Eye color='-', Race='-', Hair color='-', Height='178', Publisher=None, Skin color='-', Alignment='good', Weight='-99'),\n",
       " Row(ID='176', name='Citizen Steel', Gender='Male', Eye color='green', Race='Human', Hair color='Red', Height='183', Publisher='DC Comics', Skin color='-', Alignment='good', Weight='170'),\n",
       " Row(ID='177', name='Claire Bennet', Gender='Female', Eye color='blue', Race='-', Hair color='Blond', Height='-99', Publisher='NBC - Heroes', Skin color='-', Alignment='good', Weight='-99'),\n",
       " Row(ID='178', name='Clea', Gender='-', Eye color='-', Race='-', Hair color='White', Height='-99', Publisher='Marvel Comics', Skin color='-', Alignment='good', Weight='-99'),\n",
       " Row(ID='179', name='Cloak', Gender='Male', Eye color='brown', Race='-', Hair color='black', Height='226', Publisher='Marvel Comics', Skin color='-', Alignment='good', Weight='70'),\n",
       " Row(ID='180', name='Clock King', Gender='Male', Eye color='blue', Race='Human', Hair color='Black', Height='178', Publisher='DC Comics', Skin color='-', Alignment='bad', Weight='78'),\n",
       " Row(ID='181', name='Cogliostro', Gender='Male', Eye color='-', Race='-', Hair color='-', Height='-99', Publisher='Image Comics', Skin color='-', Alignment='bad', Weight='-99'),\n",
       " Row(ID='182', name='Colin Wagner', Gender='Male', Eye color='grey', Race='-', Hair color='Brown', Height='-99', Publisher='HarperCollins', Skin color='-', Alignment='good', Weight='-99'),\n",
       " Row(ID='183', name='Colossal Boy', Gender='Male', Eye color='-', Race='-', Hair color='-', Height='-99', Publisher='DC Comics', Skin color='-', Alignment='good', Weight='-99'),\n",
       " Row(ID='184', name='Colossus', Gender='Male', Eye color='silver', Race='Mutant', Hair color='Black', Height='226', Publisher='Marvel Comics', Skin color='-', Alignment='good', Weight='225'),\n",
       " Row(ID='185', name='Copycat', Gender='Female', Eye color='red', Race='Mutant', Hair color='White', Height='183', Publisher='Marvel Comics', Skin color='blue', Alignment='neutral', Weight='67'),\n",
       " Row(ID='186', name='Corsair', Gender='Male', Eye color='brown', Race='-', Hair color='Brown', Height='191', Publisher='Marvel Comics', Skin color='-', Alignment='good', Weight='79'),\n",
       " Row(ID='187', name='Cottonmouth', Gender='Male', Eye color='brown', Race='Human', Hair color='Black', Height='183', Publisher='Marvel Comics', Skin color='-', Alignment='bad', Weight='99'),\n",
       " Row(ID='188', name='Crimson Crusader', Gender='Male', Eye color='blue', Race='-', Hair color='Strawberry Blond', Height='-99', Publisher='Marvel Comics', Skin color='-', Alignment='good', Weight='-99'),\n",
       " Row(ID='189', name='Crimson Dynamo', Gender='Male', Eye color='brown', Race='-', Hair color='No Hair', Height='180', Publisher='Marvel Comics', Skin color='-', Alignment='good', Weight='104'),\n",
       " Row(ID='190', name='Crystal', Gender='Female', Eye color='green', Race='Inhuman', Hair color='Red', Height='168', Publisher='Marvel Comics', Skin color='-', Alignment='good', Weight='50'),\n",
       " Row(ID='191', name='Curse', Gender='Male', Eye color='-', Race='-', Hair color='-', Height='-99', Publisher='Image Comics', Skin color='-', Alignment='bad', Weight='-99'),\n",
       " Row(ID='192', name='Cy-Gor', Gender='Male', Eye color='-', Race='-', Hair color='-', Height='-99', Publisher='Image Comics', Skin color='-', Alignment='bad', Weight='-99'),\n",
       " Row(ID='193', name='Cyborg', Gender='Male', Eye color='brown', Race='Cyborg', Hair color='Black', Height='198', Publisher='DC Comics', Skin color='-', Alignment='good', Weight='173'),\n",
       " Row(ID='194', name='Cyborg Superman', Gender='Male', Eye color='blue', Race='Cyborg', Hair color='Black', Height='-99', Publisher='DC Comics', Skin color='-', Alignment='bad', Weight='-99'),\n",
       " Row(ID='195', name='Cyclops', Gender='Male', Eye color='brown', Race='Mutant', Hair color='Brown', Height='191', Publisher='Marvel Comics', Skin color='-', Alignment='good', Weight='88'),\n",
       " Row(ID='196', name='Cypher', Gender='-', Eye color='blue', Race='-', Hair color='Blond', Height='175', Publisher='Marvel Comics', Skin color='-', Alignment='good', Weight='68'),\n",
       " Row(ID='197', name='Dagger', Gender='Female', Eye color='blue', Race='-', Hair color='Blond', Height='165', Publisher='Marvel Comics', Skin color='-', Alignment='good', Weight='52'),\n",
       " Row(ID='198', name='Danny Cooper', Gender='Male', Eye color='brown', Race='-', Hair color='Blond', Height='-99', Publisher='HarperCollins', Skin color='-', Alignment='good', Weight='-99'),\n",
       " Row(ID='199', name='Daphne Powell', Gender='Female', Eye color='-', Race='-', Hair color='-', Height='-99', Publisher='ABC Studios', Skin color='-', Alignment='good', Weight='-99'),\n",
       " Row(ID='200', name='Daredevil', Gender='Male', Eye color='blue', Race='Human', Hair color='Red', Height='183', Publisher='Marvel Comics', Skin color='-', Alignment='good', Weight='90'),\n",
       " Row(ID='201', name='Darkhawk', Gender='Male', Eye color='brown', Race='Human', Hair color='Brown', Height='185', Publisher='Marvel Comics', Skin color='-', Alignment='good', Weight='81'),\n",
       " Row(ID='202', name='Darkman', Gender='Male', Eye color='-', Race='-', Hair color='-', Height='-99', Publisher='Universal Studios', Skin color='-', Alignment='good', Weight='-99'),\n",
       " Row(ID='203', name='Darkseid', Gender='Male', Eye color='red', Race='New God', Hair color='No Hair', Height='267', Publisher='DC Comics', Skin color='grey', Alignment='bad', Weight='817'),\n",
       " Row(ID='204', name='Darkside', Gender='-', Eye color='-', Race='-', Hair color='-', Height='-99', Publisher=None, Skin color='-', Alignment='bad', Weight='-99'),\n",
       " Row(ID='205', name='Darkstar', Gender='Female', Eye color='brown', Race='Mutant', Hair color='Blond', Height='168', Publisher='Marvel Comics', Skin color='-', Alignment='good', Weight='56'),\n",
       " Row(ID='206', name='Darth Maul', Gender='Male', Eye color='yellow / red', Race='Dathomirian Zabrak', Hair color='-', Height='170', Publisher='George Lucas', Skin color='red / black', Alignment='bad', Weight='-99'),\n",
       " Row(ID='207', name='Darth Vader', Gender='Male', Eye color='yellow', Race='Cyborg', Hair color='No Hair', Height='198', Publisher='George Lucas', Skin color='-', Alignment='bad', Weight='135'),\n",
       " Row(ID='208', name='Dash', Gender='Male', Eye color='blue', Race='Human', Hair color='Blond', Height='122', Publisher='Dark Horse Comics', Skin color='-', Alignment='good', Weight='27'),\n",
       " Row(ID='209', name='Data', Gender='Male', Eye color='yellow', Race='Android', Hair color='Brown', Height='-99', Publisher='Star Trek', Skin color='-', Alignment='good', Weight='-99'),\n",
       " Row(ID='210', name='Dazzler', Gender='Female', Eye color='blue', Race='Mutant', Hair color='Blond', Height='173', Publisher='Marvel Comics', Skin color='-', Alignment='good', Weight='52'),\n",
       " Row(ID='211', name='Deadman', Gender='Male', Eye color='blue', Race='Human', Hair color='Black', Height='183', Publisher='DC Comics', Skin color='-', Alignment='good', Weight='90'),\n",
       " Row(ID='212', name='Deadpool', Gender='Male', Eye color='brown', Race='Mutant', Hair color='No Hair', Height='188', Publisher='Marvel Comics', Skin color='-', Alignment='neutral', Weight='95'),\n",
       " Row(ID='213', name='Deadshot', Gender='Male', Eye color='brown', Race='Human', Hair color='Brown', Height='185', Publisher='DC Comics', Skin color='-', Alignment='bad', Weight='91'),\n",
       " Row(ID='214', name='Deathlok', Gender='Male', Eye color='brown', Race='Cyborg', Hair color='Grey', Height='193', Publisher='Marvel Comics', Skin color='-', Alignment='good', Weight='178'),\n",
       " Row(ID='215', name='Deathstroke', Gender='Male', Eye color='blue', Race='Human', Hair color='White', Height='193', Publisher='DC Comics', Skin color='-', Alignment='neutral', Weight='101'),\n",
       " Row(ID='216', name='Demogoblin', Gender='Male', Eye color='red', Race='Demon', Hair color='No Hair', Height='185', Publisher='Marvel Comics', Skin color='-', Alignment='bad', Weight='95'),\n",
       " Row(ID='217', name='Destroyer', Gender='Male', Eye color='-', Race='-', Hair color='-', Height='188', Publisher='Marvel Comics', Skin color='-', Alignment='bad', Weight='383'),\n",
       " Row(ID='218', name='Diamondback', Gender='Male', Eye color='brown', Race='Human', Hair color='Black', Height='193', Publisher='Marvel Comics', Skin color='-', Alignment='bad', Weight='90'),\n",
       " Row(ID='219', name='DL Hawkins', Gender='Male', Eye color='-', Race='-', Hair color='-', Height='-99', Publisher='NBC - Heroes', Skin color='-', Alignment='good', Weight='-99'),\n",
       " Row(ID='220', name='Doc Samson', Gender='Male', Eye color='blue', Race='Human / Radiation', Hair color='Green', Height='198', Publisher='Marvel Comics', Skin color='-', Alignment='good', Weight='171'),\n",
       " Row(ID='221', name='Doctor Doom', Gender='Male', Eye color='brown', Race='Human', Hair color='Brown', Height='201', Publisher='Marvel Comics', Skin color='-', Alignment='bad', Weight='187'),\n",
       " Row(ID='222', name='Doctor Doom II', Gender='Male', Eye color='brown', Race='-', Hair color='Brown', Height='201', Publisher='Marvel Comics', Skin color='-', Alignment='bad', Weight='132'),\n",
       " Row(ID='223', name='Doctor Fate', Gender='Male', Eye color='blue', Race='Human', Hair color='Blond', Height='188', Publisher='DC Comics', Skin color='-', Alignment='good', Weight='89'),\n",
       " Row(ID='224', name='Doctor Octopus', Gender='Male', Eye color='brown', Race='Human', Hair color='Brown', Height='175', Publisher='Marvel Comics', Skin color='-', Alignment='bad', Weight='110'),\n",
       " Row(ID='225', name='Doctor Strange', Gender='Male', Eye color='grey', Race='Human', Hair color='Black', Height='188', Publisher='Marvel Comics', Skin color='-', Alignment='good', Weight='81'),\n",
       " Row(ID='226', name='Domino', Gender='Female', Eye color='blue', Race='Human', Hair color='Black', Height='173', Publisher='Marvel Comics', Skin color='white', Alignment='good', Weight='54'),\n",
       " Row(ID='227', name='Donatello', Gender='Male', Eye color='green', Race='Mutant', Hair color='No Hair', Height='-99', Publisher='IDW Publishing', Skin color='green', Alignment='good', Weight='-99'),\n",
       " Row(ID='228', name='Donna Troy', Gender='Female', Eye color='blue', Race='Amazon', Hair color='Black', Height='175', Publisher='DC Comics', Skin color='-', Alignment='good', Weight='63'),\n",
       " Row(ID='229', name='Doomsday', Gender='Male', Eye color='red', Race='Alien', Hair color='White', Height='244', Publisher='DC Comics', Skin color='-', Alignment='bad', Weight='412'),\n",
       " Row(ID='230', name='Doppelganger', Gender='Male', Eye color='white', Race='-', Hair color='No Hair', Height='196', Publisher='Marvel Comics', Skin color='-', Alignment='bad', Weight='104'),\n",
       " Row(ID='231', name='Dormammu', Gender='Male', Eye color='yellow', Race='-', Hair color='No Hair', Height='185', Publisher='Marvel Comics', Skin color='-', Alignment='bad', Weight='-99'),\n",
       " Row(ID='232', name='Dr Manhattan', Gender='Male', Eye color='white', Race='Human / Cosmic', Hair color='No Hair', Height='-99', Publisher='DC Comics', Skin color='blue', Alignment='good', Weight='-99'),\n",
       " Row(ID='233', name='Drax the Destroyer', Gender='Male', Eye color='red', Race='Human / Altered', Hair color='No Hair', Height='193', Publisher='Marvel Comics', Skin color='green', Alignment='good', Weight='306'),\n",
       " Row(ID='234', name='Ego', Gender='-', Eye color='-', Race='-', Hair color='-', Height='-99', Publisher='Marvel Comics', Skin color='-', Alignment='bad', Weight='-99'),\n",
       " Row(ID='235', name='Elastigirl', Gender='Female', Eye color='brown', Race='Human', Hair color='Brown', Height='168', Publisher='Dark Horse Comics', Skin color='-', Alignment='good', Weight='56'),\n",
       " Row(ID='236', name='Electro', Gender='Male', Eye color='blue', Race='Human', Hair color='Auburn', Height='180', Publisher='Marvel Comics', Skin color='-', Alignment='bad', Weight='74'),\n",
       " Row(ID='237', name='Elektra', Gender='Female', Eye color='blue', Race='Human', Hair color='Black', Height='175', Publisher='Marvel Comics', Skin color='-', Alignment='good', Weight='59'),\n",
       " Row(ID='238', name='Elle Bishop', Gender='Female', Eye color='blue', Race='-', Hair color='Blond', Height='-99', Publisher='NBC - Heroes', Skin color='-', Alignment='bad', Weight='-99'),\n",
       " Row(ID='239', name='Elongated Man', Gender='Male', Eye color='blue', Race='-', Hair color='Red', Height='185', Publisher='DC Comics', Skin color='-', Alignment='good', Weight='80'),\n",
       " Row(ID='240', name='Emma Frost', Gender='Female', Eye color='blue', Race='-', Hair color='Blond', Height='178', Publisher='Marvel Comics', Skin color='-', Alignment='good', Weight='65'),\n",
       " Row(ID='241', name='Enchantress', Gender='Female', Eye color='blue', Race='Human', Hair color='Blond', Height='168', Publisher='DC Comics', Skin color='-', Alignment='good', Weight='57'),\n",
       " Row(ID='242', name='Energy', Gender='Female', Eye color='-', Race='-', Hair color='-', Height='-99', Publisher='HarperCollins', Skin color='-', Alignment='good', Weight='-99'),\n",
       " Row(ID='243', name='ERG-1', Gender='Male', Eye color='-', Race='-', Hair color='-', Height='-99', Publisher='DC Comics', Skin color='-', Alignment='good', Weight='-99'),\n",
       " Row(ID='244', name='Ethan Hunt', Gender='Male', Eye color='brown', Race='Human', Hair color='Brown', Height='168', Publisher=None, Skin color='-', Alignment='good', Weight='-99'),\n",
       " Row(ID='245', name='Etrigan', Gender='Male', Eye color='red', Race='Demon', Hair color='No Hair', Height='193', Publisher='DC Comics', Skin color='yellow', Alignment='neutral', Weight='203'),\n",
       " Row(ID='246', name='Evil Deadpool', Gender='Male', Eye color='white', Race='Mutant', Hair color='Red', Height='188', Publisher='Marvel Comics', Skin color='-', Alignment='bad', Weight='95'),\n",
       " Row(ID='247', name='Evilhawk', Gender='Male', Eye color='red', Race='Alien', Hair color='Black', Height='191', Publisher='Marvel Comics', Skin color='green', Alignment='bad', Weight='106'),\n",
       " Row(ID='248', name='Exodus', Gender='Male', Eye color='blue', Race='Mutant', Hair color='Black', Height='183', Publisher='Marvel Comics', Skin color='red', Alignment='bad', Weight='88'),\n",
       " Row(ID='249', name='Fabian Cortez', Gender='-', Eye color='blue', Race='-', Hair color='Brown', Height='196', Publisher='Marvel Comics', Skin color='-', Alignment='bad', Weight='96'),\n",
       " Row(ID='250', name='Falcon', Gender='Male', Eye color='brown', Race='Human', Hair color='Black', Height='188', Publisher='Marvel Comics', Skin color='-', Alignment='good', Weight='108'),\n",
       " Row(ID='251', name='Fallen One II', Gender='Male', Eye color='black', Race='-', Hair color='Blue', Height='-99', Publisher='Marvel Comics', Skin color='-', Alignment='bad', Weight='-99'),\n",
       " Row(ID='252', name='Faora', Gender='Female', Eye color='-', Race='Kryptonian', Hair color='-', Height='-99', Publisher='DC Comics', Skin color='-', Alignment='bad', Weight='-99'),\n",
       " Row(ID='253', name='Feral', Gender='-', Eye color='yellow (without irises)', Race='-', Hair color='Orange / White', Height='175', Publisher='Marvel Comics', Skin color='-', Alignment='good', Weight='50'),\n",
       " Row(ID='254', name='Fighting Spirit', Gender='Female', Eye color='-', Race='-', Hair color='Red', Height='-99', Publisher='DC Comics', Skin color='-', Alignment='good', Weight='-99'),\n",
       " Row(ID='255', name='Fin Fang Foom', Gender='Male', Eye color='red', Race='Kakarantharaian', Hair color='No Hair', Height='975', Publisher='Marvel Comics', Skin color='green', Alignment='good', Weight='18'),\n",
       " Row(ID='256', name='Firebird', Gender='Female', Eye color='brown', Race='-', Hair color='Black', Height='165', Publisher='Marvel Comics', Skin color='-', Alignment='good', Weight='56'),\n",
       " Row(ID='257', name='Firelord', Gender='-', Eye color='white', Race='-', Hair color='Yellow', Height='193', Publisher='Marvel Comics', Skin color='-', Alignment='good', Weight='99'),\n",
       " Row(ID='258', name='Firestar', Gender='Female', Eye color='green', Race='Mutant', Hair color='Red', Height='173', Publisher='Marvel Comics', Skin color='-', Alignment='good', Weight='56'),\n",
       " Row(ID='259', name='Firestorm', Gender='Male', Eye color='brown', Race='-', Hair color='Black', Height='-99', Publisher='DC Comics', Skin color='-', Alignment='good', Weight='-99'),\n",
       " Row(ID='260', name='Firestorm', Gender='Male', Eye color='blue', Race='Human', Hair color='Auburn', Height='188', Publisher='DC Comics', Skin color='-', Alignment='good', Weight='91'),\n",
       " Row(ID='261', name='Fixer', Gender='-', Eye color='red', Race='-', Hair color='No Hair', Height='-99', Publisher='Marvel Comics', Skin color='-', Alignment='bad', Weight='-99'),\n",
       " Row(ID='262', name='Flash', Gender='Male', Eye color='blue', Race='Human', Hair color='Brown / White', Height='180', Publisher='DC Comics', Skin color='-', Alignment='good', Weight='81'),\n",
       " Row(ID='263', name='Flash Gordon', Gender='Male', Eye color='-', Race='-', Hair color='-', Height='-99', Publisher=None, Skin color='-', Alignment='good', Weight='-99'),\n",
       " Row(ID='264', name='Flash II', Gender='Male', Eye color='blue', Race='Human', Hair color='Blond', Height='183', Publisher='DC Comics', Skin color='-', Alignment='good', Weight='88'),\n",
       " Row(ID='265', name='Flash III', Gender='Male', Eye color='-', Race='Human', Hair color='-', Height='183', Publisher='DC Comics', Skin color='-', Alignment='good', Weight='86'),\n",
       " Row(ID='266', name='Flash IV', Gender='Male', Eye color='yellow', Race='Human', Hair color='Auburn', Height='157', Publisher='DC Comics', Skin color='-', Alignment='good', Weight='52'),\n",
       " Row(ID='267', name='Forge', Gender='-', Eye color='brown', Race='-', Hair color='Black', Height='183', Publisher='Marvel Comics', Skin color='-', Alignment='good', Weight='81'),\n",
       " Row(ID='268', name='Franklin Richards', Gender='Male', Eye color='blue', Race='Mutant', Hair color='Blond', Height='142', Publisher='Marvel Comics', Skin color='-', Alignment='good', Weight='45'),\n",
       " Row(ID='269', name='Franklin Storm', Gender='-', Eye color='blue', Race='-', Hair color='Grey', Height='188', Publisher='Marvel Comics', Skin color='-', Alignment='good', Weight='92'),\n",
       " Row(ID='270', name='Frenzy', Gender='Female', Eye color='brown', Race='-', Hair color='Black', Height='211', Publisher='Marvel Comics', Skin color='-', Alignment='bad', Weight='104'),\n",
       " Row(ID='271', name='Frigga', Gender='Female', Eye color='blue', Race='-', Hair color='White', Height='180', Publisher='Marvel Comics', Skin color='-', Alignment='good', Weight='167'),\n",
       " Row(ID='272', name='Galactus', Gender='Male', Eye color='black', Race='Cosmic Entity', Hair color='Black', Height='876', Publisher='Marvel Comics', Skin color='-', Alignment='neutral', Weight='16'),\n",
       " Row(ID='273', name='Gambit', Gender='Male', Eye color='red', Race='Mutant', Hair color='Brown', Height='185', Publisher='Marvel Comics', Skin color='-', Alignment='good', Weight='81'),\n",
       " Row(ID='274', name='Gamora', Gender='Female', Eye color='yellow', Race='Zen-Whoberian', Hair color='Black', Height='183', Publisher='Marvel Comics', Skin color='green', Alignment='good', Weight='77'),\n",
       " Row(ID='275', name='Garbage Man', Gender='Male', Eye color='-', Race='Mutant', Hair color='-', Height='-99', Publisher='DC Comics', Skin color='-', Alignment='good', Weight='-99'),\n",
       " Row(ID='276', name='Gary Bell', Gender='Male', Eye color='-', Race='Alpha', Hair color='-', Height='-99', Publisher='SyFy', Skin color='-', Alignment='good', Weight='-99'),\n",
       " Row(ID='277', name='General Zod', Gender='Male', Eye color='black', Race='Kryptonian', Hair color='Black', Height='-99', Publisher='DC Comics', Skin color='-', Alignment='bad', Weight='-99'),\n",
       " Row(ID='278', name='Genesis', Gender='Male', Eye color='blue', Race='-', Hair color='Blond', Height='185', Publisher='Marvel Comics', Skin color='-', Alignment='good', Weight='86'),\n",
       " Row(ID='279', name='Ghost Rider', Gender='Male', Eye color='red', Race='Demon', Hair color='No Hair', Height='188', Publisher='Marvel Comics', Skin color='-', Alignment='good', Weight='99'),\n",
       " Row(ID='280', name='Ghost Rider II', Gender='-', Eye color='-', Race='-', Hair color='-', Height='-99', Publisher='Marvel Comics', Skin color='-', Alignment='good', Weight='-99'),\n",
       " Row(ID='281', name='Giant-Man', Gender='Male', Eye color='-', Race='Human', Hair color='-', Height='-99', Publisher='Marvel Comics', Skin color='-', Alignment='good', Weight='-99'),\n",
       " Row(ID='282', name='Giant-Man II', Gender='Male', Eye color='-', Race='-', Hair color='-', Height='-99', Publisher='Marvel Comics', Skin color='-', Alignment='good', Weight='-99'),\n",
       " Row(ID='283', name='Giganta', Gender='Female', Eye color='green', Race='-', Hair color='Red', Height='62.5', Publisher='DC Comics', Skin color='-', Alignment='bad', Weight='630'),\n",
       " Row(ID='284', name='Gladiator', Gender='Male', Eye color='blue', Race='Strontian', Hair color='Blue', Height='198', Publisher='Marvel Comics', Skin color='purple', Alignment='neutral', Weight='268'),\n",
       " Row(ID='285', name='Goblin Queen', Gender='Female', Eye color='green', Race='-', Hair color='Red', Height='168', Publisher='Marvel Comics', Skin color='-', Alignment='bad', Weight='50'),\n",
       " Row(ID='286', name='Godzilla', Gender='-', Eye color='-', Race='Kaiju', Hair color='-', Height='108', Publisher=None, Skin color='grey', Alignment='bad', Weight=None),\n",
       " Row(ID='287', name='Gog', Gender='Male', Eye color='-', Race='-', Hair color='-', Height='-99', Publisher='DC Comics', Skin color='-', Alignment='bad', Weight='-99'),\n",
       " Row(ID='288', name='Goku', Gender='Male', Eye color='-', Race='Saiyan', Hair color='-', Height='175', Publisher='Shueisha', Skin color='-', Alignment='good', Weight='62'),\n",
       " Row(ID='289', name='Goliath', Gender='Male', Eye color='-', Race='-', Hair color='-', Height='-99', Publisher='Marvel Comics', Skin color='-', Alignment='good', Weight='-99'),\n",
       " Row(ID='290', name='Goliath', Gender='Male', Eye color='-', Race='Human', Hair color='-', Height='-99', Publisher='Marvel Comics', Skin color='-', Alignment='good', Weight='-99'),\n",
       " Row(ID='291', name='Goliath', Gender='Male', Eye color='-', Race='Human', Hair color='-', Height='-99', Publisher='Marvel Comics', Skin color='-', Alignment='good', Weight='-99'),\n",
       " Row(ID='292', name='Goliath IV', Gender='Male', Eye color='brown', Race='-', Hair color='Black', Height='183', Publisher='Marvel Comics', Skin color='-', Alignment='good', Weight='90'),\n",
       " Row(ID='293', name='Gorilla Grodd', Gender='Male', Eye color='yellow', Race='Gorilla', Hair color='Black', Height='198', Publisher='DC Comics', Skin color='-', Alignment='bad', Weight='270'),\n",
       " Row(ID='294', name='Granny Goodness', Gender='Female', Eye color='blue', Race='-', Hair color='White', Height='178', Publisher='DC Comics', Skin color='-', Alignment='bad', Weight='115'),\n",
       " Row(ID='295', name='Gravity', Gender='Male', Eye color='blue', Race='Human', Hair color='Brown', Height='178', Publisher='Marvel Comics', Skin color='-', Alignment='good', Weight='79'),\n",
       " Row(ID='296', name='Greedo', Gender='Male', Eye color='purple', Race='Rodian', Hair color='-', Height='170', Publisher='George Lucas', Skin color='green', Alignment='bad', Weight='-99'),\n",
       " Row(ID='297', name='Green Arrow', Gender='Male', Eye color='green', Race='Human', Hair color='Blond', Height='188', Publisher='DC Comics', Skin color='-', Alignment='good', Weight='88'),\n",
       " Row(ID='298', name='Green Goblin', Gender='Male', Eye color='blue', Race='Human', Hair color='Auburn', Height='180', Publisher='Marvel Comics', Skin color='-', Alignment='bad', Weight='83'),\n",
       " Row(ID='299', name='Green Goblin II', Gender='Male', Eye color='blue', Race='-', Hair color='Auburn', Height='178', Publisher='Marvel Comics', Skin color='-', Alignment='bad', Weight='77'),\n",
       " Row(ID='300', name='Green Goblin III', Gender='Male', Eye color='-', Race='-', Hair color='-', Height='183', Publisher='Marvel Comics', Skin color='-', Alignment='good', Weight='88'),\n",
       " Row(ID='301', name='Green Goblin IV', Gender='Male', Eye color='green', Race='-', Hair color='Brown', Height='178', Publisher='Marvel Comics', Skin color='-', Alignment='good', Weight='79'),\n",
       " Row(ID='302', name='Groot', Gender='Male', Eye color='yellow', Race='Flora Colossus', Hair color='-', Height='701', Publisher='Marvel Comics', Skin color='-', Alignment='good', Weight='4'),\n",
       " Row(ID='303', name='Guardian', Gender='Male', Eye color='brown', Race='Human', Hair color='Black', Height='-99', Publisher='Marvel Comics', Skin color='-', Alignment='good', Weight='-99'),\n",
       " Row(ID='304', name='Guy Gardner', Gender='Male', Eye color='blue', Race='Human-Vuldarian', Hair color='Red', Height='188', Publisher='DC Comics', Skin color='-', Alignment='good', Weight='95'),\n",
       " Row(ID='305', name='Hal Jordan', Gender='Male', Eye color='brown', Race='Human', Hair color='Brown', Height='188', Publisher='DC Comics', Skin color='-', Alignment='good', Weight='90'),\n",
       " Row(ID='306', name='Han Solo', Gender='Male', Eye color='brown', Race='Human', Hair color='Brown', Height='183', Publisher='George Lucas', Skin color='-', Alignment='good', Weight='79'),\n",
       " Row(ID='307', name='Hancock', Gender='Male', Eye color='brown', Race='Human', Hair color='Black', Height='188', Publisher='Sony Pictures', Skin color='-', Alignment='good', Weight='-99'),\n",
       " Row(ID='308', name='Harley Quinn', Gender='Female', Eye color='blue', Race='Human', Hair color='Blond', Height='170', Publisher='DC Comics', Skin color='-', Alignment='bad', Weight='63'),\n",
       " Row(ID='309', name='Harry Potter', Gender='Male', Eye color='green', Race='Human', Hair color='Black', Height='-99', Publisher='J. K. Rowling', Skin color='-', Alignment='good', Weight='-99'),\n",
       " Row(ID='310', name='Havok', Gender='Male', Eye color='blue', Race='Mutant', Hair color='Blond', Height='183', Publisher='Marvel Comics', Skin color='-', Alignment='good', Weight='79'),\n",
       " Row(ID='311', name='Hawk', Gender='Male', Eye color='red', Race='-', Hair color='Brown', Height='185', Publisher='DC Comics', Skin color='-', Alignment='good', Weight='89'),\n",
       " Row(ID='312', name='Hawkeye', Gender='Male', Eye color='blue', Race='Human', Hair color='Blond', Height='191', Publisher='Marvel Comics', Skin color='-', Alignment='good', Weight='104'),\n",
       " Row(ID='313', name='Hawkeye II', Gender='Female', Eye color='blue', Race='Human', Hair color='Black', Height='165', Publisher='Marvel Comics', Skin color='-', Alignment='good', Weight='57'),\n",
       " Row(ID='314', name='Hawkgirl', Gender='Female', Eye color='green', Race='-', Hair color='Red', Height='175', Publisher='DC Comics', Skin color='-', Alignment='good', Weight='61'),\n",
       " Row(ID='315', name='Hawkman', Gender='Male', Eye color='blue', Race='-', Hair color='Brown', Height='185', Publisher='DC Comics', Skin color='-', Alignment='good', Weight='88'),\n",
       " Row(ID='316', name='Hawkwoman', Gender='Female', Eye color='green', Race='-', Hair color='Red', Height='175', Publisher='DC Comics', Skin color='-', Alignment='good', Weight='54'),\n",
       " Row(ID='317', name='Hawkwoman II', Gender='Female', Eye color='-', Race='-', Hair color='-', Height='-99', Publisher='DC Comics', Skin color='-', Alignment='good', Weight='-99'),\n",
       " Row(ID='318', name='Hawkwoman III', Gender='Female', Eye color='blue', Race='-', Hair color='Red', Height='170', Publisher='DC Comics', Skin color='-', Alignment='good', Weight='65'),\n",
       " Row(ID='319', name='Heat Wave', Gender='Male', Eye color='blue', Race='Human', Hair color='No Hair', Height='180', Publisher='DC Comics', Skin color='-', Alignment='bad', Weight='81'),\n",
       " Row(ID='320', name='Hela', Gender='Female', Eye color='green', Race='Asgardian', Hair color='Black', Height='213', Publisher='Marvel Comics', Skin color='-', Alignment='bad', Weight='225'),\n",
       " Row(ID='321', name='Hellboy', Gender='Male', Eye color='gold', Race='Demon', Hair color='Black', Height='259', Publisher='Dark Horse Comics', Skin color='-', Alignment='good', Weight='158'),\n",
       " Row(ID='322', name='Hellcat', Gender='Female', Eye color='blue', Race='Human', Hair color='Red', Height='173', Publisher='Marvel Comics', Skin color='-', Alignment='good', Weight='61'),\n",
       " Row(ID='323', name='Hellstorm', Gender='Male', Eye color='red', Race='-', Hair color='Red', Height='185', Publisher='Marvel Comics', Skin color='-', Alignment='good', Weight='81'),\n",
       " Row(ID='324', name='Hercules', Gender='Male', Eye color='blue', Race='Demi-God', Hair color='Brown', Height='196', Publisher='Marvel Comics', Skin color='-', Alignment='good', Weight='146'),\n",
       " Row(ID='325', name='Hiro Nakamura', Gender='Male', Eye color='-', Race='-', Hair color='-', Height='-99', Publisher='NBC - Heroes', Skin color='-', Alignment='good', Weight='-99'),\n",
       " Row(ID='326', name='Hit-Girl', Gender='Female', Eye color='-', Race='Human', Hair color='-', Height='-99', Publisher='Icon Comics', Skin color='-', Alignment='good', Weight='-99'),\n",
       " Row(ID='327', name='Hobgoblin', Gender='Male', Eye color='blue', Race='-', Hair color='Grey', Height='180', Publisher='Marvel Comics', Skin color='-', Alignment='bad', Weight='83'),\n",
       " Row(ID='328', name='Hollow', Gender='Female', Eye color='blue', Race='-', Hair color='Red', Height='170', Publisher='Marvel Comics', Skin color='-', Alignment='good', Weight='-99'),\n",
       " Row(ID='329', name='Hope Summers', Gender='Female', Eye color='green', Race='-', Hair color='Red', Height='168', Publisher='Marvel Comics', Skin color='-', Alignment='good', Weight='48'),\n",
       " Row(ID='330', name='Howard the Duck', Gender='Male', Eye color='brown', Race='-', Hair color='Yellow', Height='79', Publisher='Marvel Comics', Skin color='-', Alignment='good', Weight='18'),\n",
       " Row(ID='331', name='Hulk', Gender='Male', Eye color='green', Race='Human / Radiation', Hair color='Green', Height='244', Publisher='Marvel Comics', Skin color='green', Alignment='good', Weight='630'),\n",
       " Row(ID='332', name='Human Torch', Gender='Male', Eye color='blue', Race='Human / Radiation', Hair color='Blond', Height='178', Publisher='Marvel Comics', Skin color='-', Alignment='good', Weight='77'),\n",
       " Row(ID='333', name='Huntress', Gender='Female', Eye color='blue', Race='-', Hair color='Black', Height='180', Publisher='DC Comics', Skin color='-', Alignment='good', Weight='59'),\n",
       " Row(ID='334', name='Husk', Gender='Female', Eye color='blue', Race='Mutant', Hair color='Blond', Height='170', Publisher='Marvel Comics', Skin color='-', Alignment='good', Weight='58'),\n",
       " Row(ID='335', name='Hybrid', Gender='Male', Eye color='brown', Race='Symbiote', Hair color='Black', Height='175', Publisher='Marvel Comics', Skin color='-', Alignment='good', Weight='77'),\n",
       " Row(ID='336', name='Hydro-Man', Gender='Male', Eye color='brown', Race='-', Hair color='Brown', Height='188', Publisher='Marvel Comics', Skin color='-', Alignment='bad', Weight='119'),\n",
       " Row(ID='337', name='Hyperion', Gender='Male', Eye color='blue', Race='Eternal', Hair color='Red', Height='183', Publisher='Marvel Comics', Skin color='-', Alignment='good', Weight='207'),\n",
       " Row(ID='338', name='Iceman', Gender='Male', Eye color='brown', Race='Mutant', Hair color='Brown', Height='173', Publisher='Marvel Comics', Skin color='-', Alignment='good', Weight='65'),\n",
       " Row(ID='339', name='Impulse', Gender='Male', Eye color='yellow', Race='Human', Hair color='Auburn', Height='170', Publisher='DC Comics', Skin color='-', Alignment='good', Weight='65'),\n",
       " Row(ID='340', name='Indiana Jones', Gender='Male', Eye color='-', Race='Human', Hair color='-', Height='183', Publisher='George Lucas', Skin color='-', Alignment='good', Weight='79'),\n",
       " Row(ID='341', name='Indigo', Gender='Female', Eye color='-', Race='Alien', Hair color='Purple', Height='-99', Publisher='DC Comics', Skin color='-', Alignment='neutral', Weight='-99'),\n",
       " Row(ID='342', name='Ink', Gender='Male', Eye color='blue', Race='Mutant', Hair color='No Hair', Height='180', Publisher='Marvel Comics', Skin color='-', Alignment='good', Weight='81'),\n",
       " Row(ID='343', name='Invisible Woman', Gender='Female', Eye color='blue', Race='Human / Radiation', Hair color='Blond', Height='168', Publisher='Marvel Comics', Skin color='-', Alignment='good', Weight='54'),\n",
       " Row(ID='344', name='Iron Fist', Gender='Male', Eye color='blue', Race='Human', Hair color='Blond', Height='180', Publisher='Marvel Comics', Skin color='-', Alignment='good', Weight='79'),\n",
       " Row(ID='345', name='Iron Man', Gender='Male', Eye color='blue', Race='Human', Hair color='Black', Height='198', Publisher='Marvel Comics', Skin color='-', Alignment='good', Weight='191'),\n",
       " Row(ID='346', name='Iron Monger', Gender='Male', Eye color='blue', Race='-', Hair color='No Hair', Height='-99', Publisher='Marvel Comics', Skin color='-', Alignment='bad', Weight='2'),\n",
       " Row(ID='347', name='Isis', Gender='Female', Eye color='-', Race='-', Hair color='-', Height='-99', Publisher='DC Comics', Skin color='-', Alignment='good', Weight='-99'),\n",
       " Row(ID='348', name='Jack Bauer', Gender='Male', Eye color='-', Race='-', Hair color='-', Height='-99', Publisher=None, Skin color='-', Alignment='good', Weight='-99'),\n",
       " Row(ID='349', name='Jack of Hearts', Gender='Male', Eye color='blue / white', Race='Human', Hair color='Brown', Height='155', Publisher='Marvel Comics', Skin color='-', Alignment='good', Weight='79'),\n",
       " Row(ID='350', name='Jack-Jack', Gender='Male', Eye color='blue', Race='Human', Hair color='Brown', Height='71', Publisher='Dark Horse Comics', Skin color='-', Alignment='good', Weight='14'),\n",
       " Row(ID='351', name='James Bond', Gender='Male', Eye color='blue', Race='Human', Hair color='Blond', Height='183', Publisher='Titan Books', Skin color='-', Alignment='good', Weight='-99'),\n",
       " Row(ID='352', name='James T. Kirk', Gender='Male', Eye color='hazel', Race='Human', Hair color='Brown', Height='178', Publisher='Star Trek', Skin color='-', Alignment='good', Weight='77'),\n",
       " Row(ID='353', name='Jar Jar Binks', Gender='Male', Eye color='yellow', Race='Gungan', Hair color='-', Height='193', Publisher='George Lucas', Skin color='orange / white', Alignment='good', Weight='-99'),\n",
       " Row(ID='354', name='Jason Bourne', Gender='Male', Eye color='-', Race='Human', Hair color='-', Height='-99', Publisher=None, Skin color='-', Alignment='good', Weight='-99'),\n",
       " Row(ID='355', name='Jean Grey', Gender='Female', Eye color='green', Race='Mutant', Hair color='Red', Height='168', Publisher='Marvel Comics', Skin color='-', Alignment='good', Weight='52'),\n",
       " Row(ID='356', name='Jean-Luc Picard', Gender='Male', Eye color='-', Race='Human', Hair color='-', Height='-99', Publisher='Star Trek', Skin color='-', Alignment='good', Weight='-99'),\n",
       " Row(ID='357', name='Jennifer Kale', Gender='Female', Eye color='blue', Race='-', Hair color='Blond', Height='168', Publisher='Marvel Comics', Skin color='-', Alignment='good', Weight='55'),\n",
       " Row(ID='358', name='Jesse Quick', Gender='Female', Eye color='-', Race='Human', Hair color='-', Height='-99', Publisher='DC Comics', Skin color='-', Alignment='good', Weight='-99'),\n",
       " Row(ID='359', name='Jessica Cruz', Gender='Female', Eye color='green', Race='Human', Hair color='Brown', Height='-99', Publisher='DC Comics', Skin color='-', Alignment='good', Weight='-99'),\n",
       " Row(ID='360', name='Jessica Jones', Gender='Female', Eye color='brown', Race='Human', Hair color='Brown', Height='170', Publisher='Marvel Comics', Skin color='-', Alignment='good', Weight='56'),\n",
       " Row(ID='361', name='Jessica Sanders', Gender='Female', Eye color='-', Race='-', Hair color='-', Height='-99', Publisher='NBC - Heroes', Skin color='-', Alignment='good', Weight='-99'),\n",
       " Row(ID='362', name='Jigsaw', Gender='Male', Eye color='blue', Race='-', Hair color='Black', Height='188', Publisher='Marvel Comics', Skin color='-', Alignment='bad', Weight='113'),\n",
       " Row(ID='363', name='Jim Powell', Gender='Male', Eye color='-', Race='-', Hair color='-', Height='-99', Publisher='ABC Studios', Skin color='-', Alignment='good', Weight='-99'),\n",
       " Row(ID='364', name='JJ Powell', Gender='Male', Eye color='-', Race='-', Hair color='-', Height='-99', Publisher='ABC Studios', Skin color='-', Alignment='good', Weight='-99'),\n",
       " Row(ID='365', name='Johann Krauss', Gender='Male', Eye color='-', Race='-', Hair color='-', Height='-99', Publisher='Dark Horse Comics', Skin color='-', Alignment='good', Weight='-99'),\n",
       " Row(ID='366', name='John Constantine', Gender='Male', Eye color='blue', Race='Human', Hair color='Blond', Height='183', Publisher='DC Comics', Skin color='-', Alignment='good', Weight='-99'),\n",
       " Row(ID='367', name='John Stewart', Gender='Male', Eye color='green', Race='Human', Hair color='Black', Height='185', Publisher='DC Comics', Skin color='-', Alignment='good', Weight='90'),\n",
       " Row(ID='368', name='John Wraith', Gender='Male', Eye color='brown', Race='-', Hair color='Black', Height='183', Publisher='Marvel Comics', Skin color='-', Alignment='good', Weight='88'),\n",
       " Row(ID='369', name='Joker', Gender='Male', Eye color='green', Race='Human', Hair color='Green', Height='196', Publisher='DC Comics', Skin color='white', Alignment='bad', Weight='86'),\n",
       " Row(ID='370', name='Jolt', Gender='Female', Eye color='blue', Race='-', Hair color='Black', Height='165', Publisher='Marvel Comics', Skin color='-', Alignment='good', Weight='49'),\n",
       " Row(ID='371', name='Jubilee', Gender='Female', Eye color='red', Race='Mutant', Hair color='Black', Height='165', Publisher='Marvel Comics', Skin color='-', Alignment='good', Weight='52'),\n",
       " Row(ID='372', name='Judge Dredd', Gender='Male', Eye color='-', Race='Human', Hair color='-', Height='188', Publisher='Rebellion', Skin color='-', Alignment='good', Weight='-99'),\n",
       " Row(ID='373', name='Juggernaut', Gender='Male', Eye color='blue', Race='Human', Hair color='Red', Height='287', Publisher='Marvel Comics', Skin color='-', Alignment='neutral', Weight='855'),\n",
       " Row(ID='374', name='Junkpile', Gender='Male', Eye color='-', Race='Mutant', Hair color='-', Height='-99', Publisher='Marvel Comics', Skin color='-', Alignment='bad', Weight='-99'),\n",
       " Row(ID='375', name='Justice', Gender='Male', Eye color='hazel', Race='Human', Hair color='Brown', Height='178', Publisher='Marvel Comics', Skin color='-', Alignment='good', Weight='81'),\n",
       " Row(ID='376', name='Jyn Erso', Gender='Female', Eye color='green', Race='Human', Hair color='Brown', Height='-99', Publisher='George Lucas', Skin color='-', Alignment='good', Weight='-99'),\n",
       " Row(ID='377', name='K-2SO', Gender='Male', Eye color='white', Race='Android', Hair color='No Hair', Height='213', Publisher='George Lucas', Skin color='gray', Alignment='good', Weight='-99'),\n",
       " Row(ID='378', name='Kang', Gender='Male', Eye color='brown', Race='-', Hair color='Brown', Height='191', Publisher='Marvel Comics', Skin color='-', Alignment='bad', Weight='104'),\n",
       " Row(ID='379', name='Karate Kid', Gender='Male', Eye color='brown', Race='Human', Hair color='Brown', Height='173', Publisher='DC Comics', Skin color='-', Alignment='good', Weight='72'),\n",
       " Row(ID='380', name='Kathryn Janeway', Gender='Female', Eye color='-', Race='Human', Hair color='-', Height='-99', Publisher='Star Trek', Skin color='-', Alignment='good', Weight='-99'),\n",
       " Row(ID='381', name='Katniss Everdeen', Gender='Female', Eye color='-', Race='Human', Hair color='-', Height='-99', Publisher=None, Skin color='-', Alignment='good', Weight='-99'),\n",
       " Row(ID='382', name='Kevin 11', Gender='Male', Eye color='-', Race='Human', Hair color='Black', Height='-99', Publisher='DC Comics', Skin color='-', Alignment='good', Weight='-99'),\n",
       " Row(ID='383', name='Kick-Ass', Gender='Male', Eye color='blue', Race='Human', Hair color='Blond', Height='-99', Publisher='Icon Comics', Skin color='-', Alignment='good', Weight='-99'),\n",
       " Row(ID='384', name='Kid Flash', Gender='Male', Eye color='green', Race='Human', Hair color='Red', Height='-99', Publisher='DC Comics', Skin color='-', Alignment='good', Weight='-99'),\n",
       " Row(ID='385', name='Kid Flash II', Gender='Male', Eye color='-', Race='-', Hair color='-', Height='-99', Publisher='DC Comics', Skin color='-', Alignment='good', Weight='-99'),\n",
       " Row(ID='386', name='Killer Croc', Gender='Male', Eye color='red', Race='Metahuman', Hair color='No Hair', Height='244', Publisher='DC Comics', Skin color='green', Alignment='bad', Weight='356'),\n",
       " Row(ID='387', name='Killer Frost', Gender='Female', Eye color='blue', Race='Human', Hair color='Blond', Height='-99', Publisher='DC Comics', Skin color='blue', Alignment='bad', Weight='-99'),\n",
       " Row(ID='388', name='Kilowog', Gender='Male', Eye color='red', Race='Bolovaxian', Hair color='No Hair', Height='234', Publisher='DC Comics', Skin color='pink', Alignment='good', Weight='324'),\n",
       " Row(ID='389', name='King Kong', Gender='Male', Eye color='yellow', Race='Animal', Hair color='Black', Height='30.5', Publisher=None, Skin color='-', Alignment='good', Weight=None),\n",
       " Row(ID='390', name='King Shark', Gender='Male', Eye color='black', Race='Animal', Hair color='No Hair', Height='-99', Publisher='DC Comics', Skin color='-', Alignment='bad', Weight='-99'),\n",
       " Row(ID='391', name='Kingpin', Gender='Male', Eye color='blue', Race='Human', Hair color='No Hair', Height='201', Publisher='Marvel Comics', Skin color='-', Alignment='bad', Weight='203'),\n",
       " Row(ID='392', name='Klaw', Gender='Male', Eye color='red', Race='Human', Hair color='No Hair', Height='188', Publisher='Marvel Comics', Skin color='red', Alignment='bad', Weight='97'),\n",
       " Row(ID='393', name='Kool-Aid Man', Gender='Male', Eye color='black', Race='-', Hair color='No Hair', Height='-99', Publisher=None, Skin color='red', Alignment='good', Weight='-99'),\n",
       " Row(ID='394', name='Kraven II', Gender='Male', Eye color='brown', Race='Human', Hair color='Black', Height='191', Publisher='Marvel Comics', Skin color='-', Alignment='bad', Weight='99'),\n",
       " Row(ID='395', name='Kraven the Hunter', Gender='Male', Eye color='brown', Race='Human', Hair color='Black', Height='183', Publisher='Marvel Comics', Skin color='-', Alignment='bad', Weight='106'),\n",
       " Row(ID='396', name='Krypto', Gender='Male', Eye color='blue', Race='Kryptonian', Hair color='White', Height='64', Publisher='DC Comics', Skin color='-', Alignment='good', Weight='18'),\n",
       " Row(ID='397', name='Kyle Rayner', Gender='Male', Eye color='green', Race='Human', Hair color='Black', Height='180', Publisher='DC Comics', Skin color='-', Alignment='good', Weight='79'),\n",
       " Row(ID='398', name='Kylo Ren', Gender='Male', Eye color='-', Race='Human', Hair color='-', Height='-99', Publisher='George Lucas', Skin color='-', Alignment='bad', Weight='-99'),\n",
       " Row(ID='399', name='Lady Bullseye', Gender='Female', Eye color='-', Race='-', Hair color='Black', Height='-99', Publisher='Marvel Comics', Skin color='-', Alignment='bad', Weight='-99'),\n",
       " Row(ID='400', name='Lady Deathstrike', Gender='Female', Eye color='brown', Race='Cyborg', Hair color='Black', Height='175', Publisher='Marvel Comics', Skin color='-', Alignment='bad', Weight='58'),\n",
       " Row(ID='401', name='Leader', Gender='Male', Eye color='green', Race='-', Hair color='No Hair', Height='178', Publisher='Marvel Comics', Skin color='-', Alignment='bad', Weight='63'),\n",
       " Row(ID='402', name='Leech', Gender='Male', Eye color='-', Race='-', Hair color='-', Height='-99', Publisher='Marvel Comics', Skin color='-', Alignment='good', Weight='-99'),\n",
       " Row(ID='403', name='Legion', Gender='Male', Eye color='green / blue', Race='Mutant', Hair color='Black', Height='175', Publisher='Marvel Comics', Skin color='-', Alignment='good', Weight='59'),\n",
       " Row(ID='404', name='Leonardo', Gender='Male', Eye color='blue', Race='Mutant', Hair color='No Hair', Height='-99', Publisher='IDW Publishing', Skin color='green', Alignment='good', Weight='-99'),\n",
       " Row(ID='405', name='Lex Luthor', Gender='Male', Eye color='green', Race='Human', Hair color='No Hair', Height='188', Publisher='DC Comics', Skin color='-', Alignment='bad', Weight='95'),\n",
       " Row(ID='406', name='Light Lass', Gender='Female', Eye color='blue', Race='-', Hair color='Red', Height='165', Publisher='DC Comics', Skin color='-', Alignment='good', Weight='54'),\n",
       " Row(ID='407', name='Lightning Lad', Gender='Male', Eye color='blue', Race='-', Hair color='Red', Height='155', Publisher='DC Comics', Skin color='-', Alignment='good', Weight='65'),\n",
       " Row(ID='408', name='Lightning Lord', Gender='Male', Eye color='blue', Race='-', Hair color='Red', Height='191', Publisher='DC Comics', Skin color='-', Alignment='bad', Weight='95'),\n",
       " Row(ID='409', name='Living Brain', Gender='-', Eye color='yellow', Race='-', Hair color='-', Height='198', Publisher='Marvel Comics', Skin color='-', Alignment='bad', Weight='360'),\n",
       " Row(ID='410', name='Living Tribunal', Gender='-', Eye color='blue', Race='Cosmic Entity', Hair color='No Hair', Height='-99', Publisher='Marvel Comics', Skin color='gold', Alignment='neutral', Weight='-99'),\n",
       " Row(ID='411', name='Liz Sherman', Gender='Female', Eye color='-', Race='-', Hair color='-', Height='-99', Publisher='Dark Horse Comics', Skin color='-', Alignment='good', Weight='-99'),\n",
       " Row(ID='412', name='Lizard', Gender='Male', Eye color='red', Race='Human', Hair color='No Hair', Height='203', Publisher='Marvel Comics', Skin color='-', Alignment='bad', Weight='230'),\n",
       " Row(ID='413', name='Lobo', Gender='Male', Eye color='red', Race='Czarnian', Hair color='Black', Height='229', Publisher='DC Comics', Skin color='blue-white', Alignment='neutral', Weight='288'),\n",
       " Row(ID='414', name='Loki', Gender='Male', Eye color='green', Race='Asgardian', Hair color='Black', Height='193', Publisher='Marvel Comics', Skin color='-', Alignment='bad', Weight='236'),\n",
       " Row(ID='415', name='Longshot', Gender='Male', Eye color='blue', Race='Human', Hair color='Blond', Height='188', Publisher='Marvel Comics', Skin color='-', Alignment='good', Weight='36'),\n",
       " Row(ID='416', name='Luke Cage', Gender='Male', Eye color='brown', Race='Human', Hair color='Black', Height='198', Publisher='Marvel Comics', Skin color='-', Alignment='good', Weight='191'),\n",
       " Row(ID='417', name='Luke Campbell', Gender='Male', Eye color='-', Race='-', Hair color='-', Height='-99', Publisher='NBC - Heroes', Skin color='-', Alignment='bad', Weight='-99'),\n",
       " Row(ID='418', name='Luke Skywalker', Gender='Male', Eye color='blue', Race='Human', Hair color='Blond', Height='168', Publisher='George Lucas', Skin color='-', Alignment='good', Weight='77'),\n",
       " Row(ID='419', name='Luna', Gender='Female', Eye color='-', Race='Human', Hair color='-', Height='-99', Publisher='Marvel Comics', Skin color='-', Alignment='good', Weight='-99'),\n",
       " Row(ID='420', name='Lyja', Gender='Female', Eye color='green', Race='-', Hair color='Green', Height='-99', Publisher='Marvel Comics', Skin color='-', Alignment='good', Weight='-99'),\n",
       " Row(ID='421', name='Mach-IV', Gender='Male', Eye color='brown', Race='-', Hair color='Brown', Height='180', Publisher='Marvel Comics', Skin color='-', Alignment='bad', Weight='79'),\n",
       " Row(ID='422', name='Machine Man', Gender='-', Eye color='red', Race='-', Hair color='Black', Height='183', Publisher='Marvel Comics', Skin color='-', Alignment='good', Weight='383'),\n",
       " Row(ID='423', name='Magneto', Gender='Male', Eye color='grey', Race='Mutant', Hair color='White', Height='188', Publisher='Marvel Comics', Skin color='-', Alignment='bad', Weight='86'),\n",
       " Row(ID='424', name='Magog', Gender='Male', Eye color='blue', Race='-', Hair color='Blond', Height='-99', Publisher='DC Comics', Skin color='-', Alignment='good', Weight='-99'),\n",
       " Row(ID='425', name='Magus', Gender='Male', Eye color='black', Race='-', Hair color='-', Height='183', Publisher='Marvel Comics', Skin color='-', Alignment='bad', Weight='-99'),\n",
       " Row(ID='426', name='Man of Miracles', Gender='-', Eye color='blue', Race='God / Eternal', Hair color='Silver', Height='-99', Publisher='Image Comics', Skin color='-', Alignment='-', Weight='-99'),\n",
       " Row(ID='427', name='Man-Bat', Gender='Male', Eye color='brown', Race='Human', Hair color='Brown', Height='-99', Publisher='DC Comics', Skin color='-', Alignment='neutral', Weight='-99'),\n",
       " Row(ID='428', name='Man-Thing', Gender='Male', Eye color='red', Race='-', Hair color='No Hair', Height='213', Publisher='Marvel Comics', Skin color='green', Alignment='good', Weight='225'),\n",
       " Row(ID='429', name='Man-Wolf', Gender='Male', Eye color='brown', Race='-', Hair color='Auburn', Height='188', Publisher='Marvel Comics', Skin color='-', Alignment='good', Weight='90'),\n",
       " Row(ID='430', name='Mandarin', Gender='Male', Eye color='blue', Race='Human', Hair color='White', Height='188', Publisher='Marvel Comics', Skin color='-', Alignment='bad', Weight='97'),\n",
       " Row(ID='431', name='Mantis', Gender='Female', Eye color='green', Race='Human-Kree', Hair color='Black', Height='168', Publisher='Marvel Comics', Skin color='green', Alignment='good', Weight='52'),\n",
       " Row(ID='432', name='Martian Manhunter', Gender='Male', Eye color='red', Race='Martian', Hair color='No Hair', Height='201', Publisher='DC Comics', Skin color='green', Alignment='good', Weight='135'),\n",
       " Row(ID='433', name='Marvel Girl', Gender='Female', Eye color='green', Race='-', Hair color='Red', Height='170', Publisher='Marvel Comics', Skin color='-', Alignment='good', Weight='56'),\n",
       " Row(ID='434', name='Master Brood', Gender='Male', Eye color='blue', Race='-', Hair color='Black', Height='183', Publisher='Team Epic TV', Skin color='-', Alignment='good', Weight='81'),\n",
       " Row(ID='435', name='Master Chief', Gender='Male', Eye color='brown', Race='Human / Altered', Hair color='Brown', Height='213', Publisher='Microsoft', Skin color='-', Alignment='good', Weight='-99'),\n",
       " Row(ID='436', name='Match', Gender='Male', Eye color='black', Race='-', Hair color='Black', Height='-99', Publisher='DC Comics', Skin color='-', Alignment='bad', Weight='-99'),\n",
       " Row(ID='437', name='Matt Parkman', Gender='Male', Eye color='-', Race='-', Hair color='-', Height='-99', Publisher='NBC - Heroes', Skin color='-', Alignment='good', Weight='-99'),\n",
       " Row(ID='438', name='Maverick', Gender='Male', Eye color='blue', Race='-', Hair color='Black', Height='193', Publisher='Marvel Comics', Skin color='-', Alignment='good', Weight='110'),\n",
       " Row(ID='439', name='Maxima', Gender='Female', Eye color='brown', Race='-', Hair color='Red', Height='180', Publisher='DC Comics', Skin color='-', Alignment='bad', Weight='72'),\n",
       " Row(ID='440', name='Maya Herrera', Gender='Female', Eye color='-', Race='-', Hair color='-', Height='-99', Publisher='NBC - Heroes', Skin color='-', Alignment='good', Weight='-99'),\n",
       " Row(ID='441', name='Medusa', Gender='Female', Eye color='green', Race='Inhuman', Hair color='Red', Height='180', Publisher='Marvel Comics', Skin color='-', Alignment='good', Weight='59'),\n",
       " Row(ID='442', name='Meltdown', Gender='Female', Eye color='blue', Race='-', Hair color='Blond', Height='165', Publisher='Marvel Comics', Skin color='-', Alignment='good', Weight='54'),\n",
       " Row(ID='443', name='Mephisto', Gender='Male', Eye color='white', Race='-', Hair color='Black', Height='198', Publisher='Marvel Comics', Skin color='-', Alignment='bad', Weight='140'),\n",
       " Row(ID='444', name='Mera', Gender='Female', Eye color='blue', Race='Atlantean', Hair color='Red', Height='175', Publisher='DC Comics', Skin color='-', Alignment='good', Weight='72'),\n",
       " Row(ID='445', name='Metallo', Gender='Male', Eye color='green', Race='Android', Hair color='Brown', Height='196', Publisher='DC Comics', Skin color='-', Alignment='bad', Weight='90'),\n",
       " Row(ID='446', name='Metamorpho', Gender='Male', Eye color='black', Race='-', Hair color='No Hair', Height='185', Publisher='DC Comics', Skin color='-', Alignment='good', Weight='90'),\n",
       " Row(ID='447', name='Meteorite', Gender='Female', Eye color='-', Race='-', Hair color='-', Height='-99', Publisher='Marvel Comics', Skin color='-', Alignment='good', Weight='-99'),\n",
       " Row(ID='448', name='Metron', Gender='Male', Eye color='blue', Race='-', Hair color='Black', Height='185', Publisher='DC Comics', Skin color='-', Alignment='good', Weight='86'),\n",
       " Row(ID='449', name='Micah Sanders', Gender='Male', Eye color='brown', Race='-', Hair color='Black', Height='-99', Publisher='NBC - Heroes', Skin color='-', Alignment='good', Weight='-99'),\n",
       " Row(ID='450', name='Michelangelo', Gender='Male', Eye color='blue', Race='Mutant', Hair color='-', Height='-99', Publisher='IDW Publishing', Skin color='green', Alignment='good', Weight='-99'),\n",
       " Row(ID='451', name='Micro Lad', Gender='Male', Eye color='grey', Race='-', Hair color='Brown', Height='183', Publisher='DC Comics', Skin color='-', Alignment='good', Weight='77'),\n",
       " Row(ID='452', name='Mimic', Gender='Male', Eye color='brown', Race='-', Hair color='Brown', Height='188', Publisher='Marvel Comics', Skin color='-', Alignment='good', Weight='101'),\n",
       " Row(ID='453', name='Minna Murray', Gender='Female', Eye color='-', Race='-', Hair color='-', Height='-99', Publisher='Wildstorm', Skin color='-', Alignment='good', Weight='-99'),\n",
       " Row(ID='454', name='Misfit', Gender='Female', Eye color='blue', Race='-', Hair color='Red', Height='-99', Publisher='DC Comics', Skin color='-', Alignment='good', Weight='-99'),\n",
       " Row(ID='455', name='Miss Martian', Gender='Female', Eye color='red', Race='-', Hair color='Red', Height='178', Publisher='DC Comics', Skin color='-', Alignment='good', Weight='61'),\n",
       " Row(ID='456', name='Mister Fantastic', Gender='Male', Eye color='brown', Race='Human / Radiation', Hair color='Brown', Height='185', Publisher='Marvel Comics', Skin color='-', Alignment='good', Weight='81'),\n",
       " Row(ID='457', name='Mister Freeze', Gender='Male', Eye color='-', Race='Human', Hair color='-', Height='183', Publisher='DC Comics', Skin color='-', Alignment='bad', Weight='86'),\n",
       " Row(ID='458', name='Mister Knife', Gender='Male', Eye color='blue', Race='Spartoi', Hair color='Brown', Height='-99', Publisher='Marvel Comics', Skin color='-', Alignment='bad', Weight='-99'),\n",
       " Row(ID='459', name='Mister Mxyzptlk', Gender='Male', Eye color='-', Race='God / Eternal', Hair color='-', Height='-99', Publisher='DC Comics', Skin color='-', Alignment='bad', Weight='-99'),\n",
       " Row(ID='460', name='Mister Sinister', Gender='Male', Eye color='red', Race='Human / Altered', Hair color='Black', Height='196', Publisher='Marvel Comics', Skin color='-', Alignment='bad', Weight='128'),\n",
       " Row(ID='461', name='Mister Zsasz', Gender='Male', Eye color='blue', Race='Human', Hair color='Blond', Height='-99', Publisher='DC Comics', Skin color='-', Alignment='bad', Weight='-99'),\n",
       " Row(ID='462', name='Mockingbird', Gender='Female', Eye color='blue', Race='Human', Hair color='Blond', Height='175', Publisher='Marvel Comics', Skin color='-', Alignment='good', Weight='61'),\n",
       " Row(ID='463', name='MODOK', Gender='Male', Eye color='white', Race='Cyborg', Hair color='Brownn', Height='366', Publisher='Marvel Comics', Skin color='-', Alignment='bad', Weight='338'),\n",
       " Row(ID='464', name='Mogo', Gender='Male', Eye color='-', Race='Planet', Hair color='-', Height='-99', Publisher='DC Comics', Skin color='-', Alignment='good', Weight='-99'),\n",
       " Row(ID='465', name='Mohinder Suresh', Gender='Male', Eye color='-', Race='-', Hair color='-', Height='-99', Publisher='NBC - Heroes', Skin color='-', Alignment='good', Weight='-99'),\n",
       " Row(ID='466', name='Moloch', Gender='Male', Eye color='-', Race='-', Hair color='-', Height='-99', Publisher='DC Comics', Skin color='-', Alignment='bad', Weight='-99'),\n",
       " Row(ID='467', name='Molten Man', Gender='Male', Eye color='gold', Race='-', Hair color='Gold', Height='196', Publisher='Marvel Comics', Skin color='-', Alignment='bad', Weight='248'),\n",
       " Row(ID='468', name='Monarch', Gender='Male', Eye color='blue', Race='-', Hair color='White', Height='193', Publisher='DC Comics', Skin color='-', Alignment='good', Weight='90'),\n",
       " Row(ID='469', name='Monica Dawson', Gender='Female', Eye color='-', Race='-', Hair color='-', Height='-99', Publisher='NBC - Heroes', Skin color='-', Alignment='good', Weight='-99'),\n",
       " Row(ID='470', name='Moon Knight', Gender='Male', Eye color='brown', Race='Human', Hair color='Brown', Height='188', Publisher='Marvel Comics', Skin color='-', Alignment='good', Weight='101'),\n",
       " Row(ID='471', name='Moonstone', Gender='Female', Eye color='blue', Race='-', Hair color='Blond', Height='180', Publisher='Marvel Comics', Skin color='-', Alignment='bad', Weight='59'),\n",
       " Row(ID='472', name='Morlun', Gender='Male', Eye color='white / red', Race='-', Hair color='Black', Height='188', Publisher='Marvel Comics', Skin color='-', Alignment='bad', Weight='79'),\n",
       " Row(ID='473', name='Morph', Gender='Male', Eye color='white', Race='-', Hair color='No Hair', Height='178', Publisher='Marvel Comics', Skin color='-', Alignment='good', Weight='79'),\n",
       " Row(ID='474', name='Moses Magnum', Gender='Male', Eye color='brown', Race='-', Hair color='Black', Height='175', Publisher='Marvel Comics', Skin color='-', Alignment='bad', Weight='72'),\n",
       " Row(ID='475', name='Mr Immortal', Gender='Male', Eye color='blue', Race='Mutant', Hair color='Blond', Height='188', Publisher='Marvel Comics', Skin color='-', Alignment='good', Weight='70'),\n",
       " Row(ID='476', name='Mr Incredible', Gender='Male', Eye color='blue', Race='Human', Hair color='Blond', Height='201', Publisher='Dark Horse Comics', Skin color='-', Alignment='good', Weight='158'),\n",
       " Row(ID='477', name='Ms Marvel II', Gender='Female', Eye color='blue', Race='-', Hair color='Red', Height='173', Publisher='Marvel Comics', Skin color='-', Alignment='good', Weight='61'),\n",
       " Row(ID='478', name='Multiple Man', Gender='Male', Eye color='blue', Race='-', Hair color='Brown', Height='180', Publisher='Marvel Comics', Skin color='-', Alignment='good', Weight='70'),\n",
       " Row(ID='479', name='Mysterio', Gender='Male', Eye color='brown', Race='Human', Hair color='No Hair', Height='180', Publisher='Marvel Comics', Skin color='-', Alignment='bad', Weight='79'),\n",
       " Row(ID='480', name='Mystique', Gender='Female', Eye color='yellow (without irises)', Race='Mutant', Hair color='Red / Orange', Height='178', Publisher='Marvel Comics', Skin color='blue', Alignment='bad', Weight='54'),\n",
       " Row(ID='481', name='Namor', Gender='Male', Eye color='-', Race='-', Hair color='-', Height='-99', Publisher='Marvel Comics', Skin color='-', Alignment='good', Weight='-99'),\n",
       " Row(ID='482', name='Namor', Gender='Male', Eye color='grey', Race='Atlantean', Hair color='Black', Height='188', Publisher='Marvel Comics', Skin color='-', Alignment='good', Weight='125'),\n",
       " Row(ID='483', name='Namora', Gender='Female', Eye color='blue', Race='-', Hair color='Blond', Height='180', Publisher='Marvel Comics', Skin color='-', Alignment='good', Weight='85'),\n",
       " Row(ID='484', name='Namorita', Gender='Female', Eye color='blue', Race='-', Hair color='Blond', Height='168', Publisher='Marvel Comics', Skin color='-', Alignment='good', Weight='101'),\n",
       " Row(ID='485', name='Naruto Uzumaki', Gender='Male', Eye color='-', Race='Human', Hair color='-', Height='168', Publisher='Shueisha', Skin color='-', Alignment='good', Weight='54'),\n",
       " Row(ID='486', name='Nathan Petrelli', Gender='Male', Eye color='brown', Race='-', Hair color='-', Height='-99', Publisher='NBC - Heroes', Skin color='-', Alignment='good', Weight='-99'),\n",
       " Row(ID='487', name='Nebula', Gender='Female', Eye color='blue', Race='Luphomoid', Hair color='No Hair', Height='185', Publisher='Marvel Comics', Skin color='blue', Alignment='bad', Weight='83'),\n",
       " Row(ID='488', name='Negasonic Teenage Warhead', Gender='Female', Eye color='black', Race='Mutant', Hair color='Black', Height='-99', Publisher='Marvel Comics', Skin color='-', Alignment='good', Weight='-99'),\n",
       " Row(ID='489', name='Nick Fury', Gender='Male', Eye color='brown', Race='Human', Hair color='Brown / White', Height='185', Publisher='Marvel Comics', Skin color='-', Alignment='good', Weight='99'),\n",
       " Row(ID='490', name='Nightcrawler', Gender='Male', Eye color='yellow', Race='-', Hair color='Indigo', Height='175', Publisher='Marvel Comics', Skin color='-', Alignment='good', Weight='88'),\n",
       " Row(ID='491', name='Nightwing', Gender='Male', Eye color='blue', Race='Human', Hair color='Black', Height='178', Publisher='DC Comics', Skin color='-', Alignment='good', Weight='79'),\n",
       " Row(ID='492', name='Niki Sanders', Gender='Female', Eye color='blue', Race='-', Hair color='Blond', Height='-99', Publisher='NBC - Heroes', Skin color='-', Alignment='good', Weight='-99'),\n",
       " Row(ID='493', name='Nina Theroux', Gender='Female', Eye color='-', Race='Alpha', Hair color='-', Height='-99', Publisher='SyFy', Skin color='-', Alignment='good', Weight='-99'),\n",
       " Row(ID='494', name='Nite Owl II', Gender='Male', Eye color='-', Race='-', Hair color='-', Height='-99', Publisher='DC Comics', Skin color='-', Alignment='good', Weight='-99'),\n",
       " Row(ID='495', name='Northstar', Gender='Male', Eye color='blue', Race='-', Hair color='Black', Height='180', Publisher='Marvel Comics', Skin color='-', Alignment='good', Weight='83'),\n",
       " Row(ID='496', name='Nova', Gender='Male', Eye color='brown', Race='Human', Hair color='Brown', Height='185', Publisher='Marvel Comics', Skin color='-', Alignment='good', Weight='86'),\n",
       " Row(ID='497', name='Nova', Gender='Female', Eye color='white', Race='Human / Cosmic', Hair color='Red', Height='163', Publisher='Marvel Comics', Skin color='gold', Alignment='good', Weight='59'),\n",
       " Row(ID='498', name='Odin', Gender='Male', Eye color='blue', Race='God / Eternal', Hair color='White', Height='206', Publisher='Marvel Comics', Skin color='-', Alignment='good', Weight='293'),\n",
       " Row(ID='499', name='Offspring', Gender='Male', Eye color='-', Race='-', Hair color='-', Height='-99', Publisher='DC Comics', Skin color='-', Alignment='good', Weight='-99'),\n",
       " Row(ID='500', name='Omega Red', Gender='Male', Eye color='red', Race='-', Hair color='Blond', Height='211', Publisher='Marvel Comics', Skin color='-', Alignment='bad', Weight='191'),\n",
       " Row(ID='501', name='Omniscient', Gender='Male', Eye color='brown', Race='-', Hair color='Black', Height='180', Publisher='Team Epic TV', Skin color='-', Alignment='good', Weight='65'),\n",
       " Row(ID='502', name='One Punch Man', Gender='Male', Eye color='-', Race='Human', Hair color='No Hair', Height='175', Publisher='Shueisha', Skin color='-', Alignment='good', Weight='69'),\n",
       " Row(ID='503', name='One-Above-All', Gender='-', Eye color='-', Race='Cosmic Entity', Hair color='-', Height='-99', Publisher='Marvel Comics', Skin color='-', Alignment='neutral', Weight='-99'),\n",
       " Row(ID='504', name='Onslaught', Gender='Male', Eye color='red', Race='Mutant', Hair color='No Hair', Height='305', Publisher='Marvel Comics', Skin color='-', Alignment='bad', Weight='405'),\n",
       " Row(ID='505', name='Oracle', Gender='Female', Eye color='blue', Race='Human', Hair color='Red', Height='178', Publisher='DC Comics', Skin color='-', Alignment='good', Weight='59'),\n",
       " Row(ID='506', name='Osiris', Gender='Male', Eye color='brown', Race='-', Hair color='Brown', Height='-99', Publisher='DC Comics', Skin color='-', Alignment='good', Weight='-99'),\n",
       " Row(ID='507', name='Overtkill', Gender='Male', Eye color='-', Race='-', Hair color='-', Height='-99', Publisher='Image Comics', Skin color='-', Alignment='bad', Weight='-99'),\n",
       " Row(ID='508', name='Ozymandias', Gender='Male', Eye color='blue', Race='Human', Hair color='Blond', Height='-99', Publisher='DC Comics', Skin color='-', Alignment='bad', Weight='-99'),\n",
       " Row(ID='509', name='Parademon', Gender='-', Eye color='-', Race='Parademon', Hair color='-', Height='-99', Publisher='DC Comics', Skin color='-', Alignment='bad', Weight='-99'),\n",
       " Row(ID='510', name='Paul Blart', Gender='Male', Eye color='-', Race='Human', Hair color='-', Height='170', Publisher='Sony Pictures', Skin color='-', Alignment='good', Weight='117'),\n",
       " Row(ID='511', name='Penance', Gender='-', Eye color='-', Race='-', Hair color='-', Height='-99', Publisher='Marvel Comics', Skin color='-', Alignment='good', Weight='-99'),\n",
       " Row(ID='512', name='Penance I', Gender='Female', Eye color='-', Race='-', Hair color='-', Height='-99', Publisher='Marvel Comics', Skin color='-', Alignment='good', Weight='-99'),\n",
       " Row(ID='513', name='Penance II', Gender='Male', Eye color='blue', Race='-', Hair color='Blond', Height='183', Publisher='Marvel Comics', Skin color='-', Alignment='good', Weight='89'),\n",
       " Row(ID='514', name='Penguin', Gender='Male', Eye color='blue', Race='Human', Hair color='Black', Height='157', Publisher='DC Comics', Skin color='-', Alignment='bad', Weight='79'),\n",
       " Row(ID='515', name='Peter Petrelli', Gender='Male', Eye color='-', Race='-', Hair color='-', Height='-99', Publisher='NBC - Heroes', Skin color='-', Alignment='good', Weight='-99'),\n",
       " Row(ID='516', name='Phantom', Gender='Male', Eye color='-', Race='-', Hair color='-', Height='-99', Publisher='DC Comics', Skin color='-', Alignment='good', Weight='-99'),\n",
       " Row(ID='517', name='Phantom Girl', Gender='Female', Eye color='blue', Race='-', Hair color='Black', Height='168', Publisher='DC Comics', Skin color='-', Alignment='good', Weight='54'),\n",
       " Row(ID='518', name='Phoenix', Gender='Female', Eye color='green', Race='Mutant', Hair color='Red', Height='168', Publisher='Marvel Comics', Skin color='-', Alignment='good', Weight='52'),\n",
       " Row(ID='519', name='Plantman', Gender='Male', Eye color='green', Race='Mutant', Hair color='Grey', Height='183', Publisher='Marvel Comics', Skin color='-', Alignment='bad', Weight='87'),\n",
       " Row(ID='520', name='Plastic Lad', Gender='Male', Eye color='-', Race='-', Hair color='-', Height='-99', Publisher='DC Comics', Skin color='-', Alignment='good', Weight='-99'),\n",
       " Row(ID='521', name='Plastic Man', Gender='Male', Eye color='blue', Race='Human', Hair color='Black', Height='185', Publisher='DC Comics', Skin color='-', Alignment='good', Weight='80'),\n",
       " Row(ID='522', name='Plastique', Gender='Female', Eye color='blue', Race='-', Hair color='Red', Height='168', Publisher='DC Comics', Skin color='-', Alignment='bad', Weight='55'),\n",
       " Row(ID='523', name='Poison Ivy', Gender='Female', Eye color='green', Race='Human', Hair color='Red', Height='168', Publisher='DC Comics', Skin color='green', Alignment='bad', Weight='50'),\n",
       " Row(ID='524', name='Polaris', Gender='Female', Eye color='green', Race='Mutant', Hair color='Green', Height='170', Publisher='Marvel Comics', Skin color='-', Alignment='good', Weight='52'),\n",
       " Row(ID='525', name='Power Girl', Gender='Female', Eye color='blue', Race='Kryptonian', Hair color='blond', Height='180', Publisher='DC Comics', Skin color='-', Alignment='good', Weight='81'),\n",
       " Row(ID='526', name='Power Man', Gender='Male', Eye color='-', Race='Mutant', Hair color='-', Height='-99', Publisher='Marvel Comics', Skin color='-', Alignment='good', Weight='-99'),\n",
       " Row(ID='527', name='Predator', Gender='Male', Eye color='-', Race='Yautja', Hair color='-', Height='213', Publisher='Dark Horse Comics', Skin color='-', Alignment='bad', Weight='234'),\n",
       " Row(ID='528', name='Professor X', Gender='Male', Eye color='blue', Race='Mutant', Hair color='No Hair', Height='183', Publisher='Marvel Comics', Skin color='-', Alignment='good', Weight='86'),\n",
       " Row(ID='529', name='Professor Zoom', Gender='Male', Eye color='blue', Race='Human', Hair color='Strawberry Blond', Height='180', Publisher='DC Comics', Skin color='-', Alignment='bad', Weight='81'),\n",
       " Row(ID='530', name='Proto-Goblin', Gender='Male', Eye color='green', Race='-', Hair color='Blond', Height='-99', Publisher='Marvel Comics', Skin color='-', Alignment='bad', Weight='-99'),\n",
       " Row(ID='531', name='Psylocke', Gender='Female', Eye color='blue', Race='Mutant', Hair color='Purple', Height='180', Publisher='Marvel Comics', Skin color='-', Alignment='good', Weight='70'),\n",
       " Row(ID='532', name='Punisher', Gender='Male', Eye color='blue', Race='Human', Hair color='Black', Height='183', Publisher='Marvel Comics', Skin color='-', Alignment='good', Weight='90'),\n",
       " Row(ID='533', name='Purple Man', Gender='Male', Eye color='purple', Race='Human', Hair color='Purple', Height='180', Publisher='Marvel Comics', Skin color='purple', Alignment='bad', Weight='74'),\n",
       " Row(ID='534', name='Pyro', Gender='Male', Eye color='blue', Race='-', Hair color='Blond', Height='178', Publisher='Marvel Comics', Skin color='-', Alignment='bad', Weight='68'),\n",
       " Row(ID='535', name='Q', Gender='Male', Eye color='-', Race='God / Eternal', Hair color='-', Height='-99', Publisher='Star Trek', Skin color='-', Alignment='-', Weight='-99'),\n",
       " Row(ID='536', name='Quantum', Gender='Male', Eye color='-', Race='-', Hair color='-', Height='-99', Publisher='HarperCollins', Skin color='-', Alignment='good', Weight='-99'),\n",
       " Row(ID='537', name='Question', Gender='Male', Eye color='blue', Race='Human', Hair color='Blond', Height='188', Publisher='DC Comics', Skin color='-', Alignment='good', Weight='83'),\n",
       " Row(ID='538', name='Quicksilver', Gender='Male', Eye color='blue', Race='Mutant', Hair color='Silver', Height='183', Publisher='Marvel Comics', Skin color='-', Alignment='good', Weight='79'),\n",
       " Row(ID='539', name='Quill', Gender='Male', Eye color='brown', Race='-', Hair color='Brown', Height='163', Publisher='Marvel Comics', Skin color='-', Alignment='good', Weight='56'),\n",
       " Row(ID='540', name=\"Ra's Al Ghul\", Gender='Male', Eye color='green', Race='Human', Hair color='Grey', Height='193', Publisher='DC Comics', Skin color='-', Alignment='bad', Weight='97'),\n",
       " Row(ID='541', name='Rachel Pirzad', Gender='Female', Eye color='-', Race='Alpha', Hair color='-', Height='-99', Publisher='SyFy', Skin color='-', Alignment='good', Weight='-99'),\n",
       " Row(ID='542', name='Rambo', Gender='Male', Eye color='brown', Race='Human', Hair color='Black', Height='178', Publisher=None, Skin color='-', Alignment='good', Weight='83'),\n",
       " Row(ID='543', name='Raphael', Gender='Male', Eye color='-', Race='Mutant', Hair color='No Hair', Height='-99', Publisher='IDW Publishing', Skin color='green', Alignment='good', Weight='-99'),\n",
       " Row(ID='544', name='Raven', Gender='Female', Eye color='indigo', Race='Human', Hair color='Black', Height='165', Publisher='DC Comics', Skin color='-', Alignment='neutral', Weight='50'),\n",
       " Row(ID='545', name='Ray', Gender='Male', Eye color='green', Race='Human', Hair color='Red', Height='178', Publisher='DC Comics', Skin color='-', Alignment='good', Weight='70'),\n",
       " Row(ID='546', name='Razor-Fist II', Gender='Male', Eye color='blue', Race='-', Hair color='No Hair', Height='191', Publisher='Marvel Comics', Skin color='-', Alignment='bad', Weight='117'),\n",
       " Row(ID='547', name='Red Arrow', Gender='Male', Eye color='green', Race='Human', Hair color='Red', Height='180', Publisher='DC Comics', Skin color='-', Alignment='good', Weight='83'),\n",
       " Row(ID='548', name='Red Hood', Gender='Male', Eye color='blue', Race='Human', Hair color='Black', Height='183', Publisher='DC Comics', Skin color='-', Alignment='neutral', Weight='81'),\n",
       " Row(ID='549', name='Red Hulk', Gender='Male', Eye color='yellow', Race='Human / Radiation', Hair color='Black', Height='213', Publisher='Marvel Comics', Skin color='red', Alignment='neutral', Weight='630'),\n",
       " Row(ID='550', name='Red Mist', Gender='Male', Eye color='-', Race='-', Hair color='-', Height='-99', Publisher='Icon Comics', Skin color='-', Alignment='bad', Weight='-99'),\n",
       " Row(ID='551', name='Red Robin', Gender='Male', Eye color='blue', Race='Human', Hair color='Black', Height='165', Publisher='DC Comics', Skin color='-', Alignment='good', Weight='56'),\n",
       " Row(ID='552', name='Red Skull', Gender='Male', Eye color='blue', Race='-', Hair color='No Hair', Height='188', Publisher='Marvel Comics', Skin color='-', Alignment='bad', Weight='108'),\n",
       " Row(ID='553', name='Red Tornado', Gender='Male', Eye color='green', Race='Android', Hair color='No Hair', Height='185', Publisher='DC Comics', Skin color='-', Alignment='good', Weight='146'),\n",
       " Row(ID='554', name='Redeemer II', Gender='Male', Eye color='-', Race='-', Hair color='-', Height='-99', Publisher='Image Comics', Skin color='-', Alignment='bad', Weight='-99'),\n",
       " Row(ID='555', name='Redeemer III', Gender='Male', Eye color='-', Race='-', Hair color='-', Height='-99', Publisher='Image Comics', Skin color='-', Alignment='bad', Weight='-99'),\n",
       " Row(ID='556', name='Renata Soliz', Gender='Female', Eye color='-', Race='-', Hair color='-', Height='-99', Publisher='HarperCollins', Skin color='-', Alignment='good', Weight='-99'),\n",
       " Row(ID='557', name='Rey', Gender='Female', Eye color='hazel', Race='Human', Hair color='Brown', Height='297', Publisher='George Lucas', Skin color='-', Alignment='good', Weight='-99'),\n",
       " Row(ID='558', name='Rhino', Gender='Male', Eye color='brown', Race='Human / Radiation', Hair color='Brown', Height='196', Publisher='Marvel Comics', Skin color='-', Alignment='bad', Weight='320'),\n",
       " Row(ID='559', name='Rick Flag', Gender='Male', Eye color='blue', Race='-', Hair color='Brown', Height='185', Publisher='DC Comics', Skin color='-', Alignment='bad', Weight='85'),\n",
       " Row(ID='560', name='Riddler', Gender='Male', Eye color='-', Race='-', Hair color='-', Height='-99', Publisher='DC Comics', Skin color='-', Alignment='bad', Weight='-99'),\n",
       " Row(ID='561', name='Rip Hunter', Gender='Male', Eye color='blue', Race='Human', Hair color='Blond', Height='-99', Publisher='DC Comics', Skin color='-', Alignment='good', Weight='-99'),\n",
       " Row(ID='562', name='Ripcord', Gender='Female', Eye color='green', Race='-', Hair color='Black', Height='180', Publisher='Marvel Comics', Skin color='-', Alignment='good', Weight='72'),\n",
       " Row(ID='563', name='Robin', Gender='Male', Eye color='blue', Race='Human', Hair color='Black', Height='178', Publisher='DC Comics', Skin color='-', Alignment='good', Weight='79'),\n",
       " Row(ID='564', name='Robin II', Gender='Male', Eye color='blue', Race='Human', Hair color='Red', Height='183', Publisher='DC Comics', Skin color='-', Alignment='good', Weight='101'),\n",
       " Row(ID='565', name='Robin III', Gender='Male', Eye color='blue', Race='Human', Hair color='Black', Height='165', Publisher='DC Comics', Skin color='-', Alignment='good', Weight='56'),\n",
       " Row(ID='566', name='Robin V', Gender='Male', Eye color='blue', Race='Human', Hair color='Black', Height='137', Publisher='DC Comics', Skin color='-', Alignment='good', Weight='38'),\n",
       " Row(ID='567', name='Robin VI', Gender='Female', Eye color='green', Race='Human', Hair color='Red', Height='-99', Publisher='DC Comics', Skin color='-', Alignment='neutral', Weight='-99'),\n",
       " Row(ID='568', name='Rocket Raccoon', Gender='Male', Eye color='brown', Race='Animal', Hair color='Brown', Height='122', Publisher='Marvel Comics', Skin color='-', Alignment='good', Weight='25'),\n",
       " Row(ID='569', name='Rogue', Gender='Female', Eye color='green', Race='-', Hair color='Brown / White', Height='173', Publisher='Marvel Comics', Skin color='-', Alignment='good', Weight='54'),\n",
       " Row(ID='570', name='Ronin', Gender='Male', Eye color='blue', Race='Human', Hair color='Blond', Height='191', Publisher='Marvel Comics', Skin color='-', Alignment='good', Weight='104'),\n",
       " Row(ID='571', name='Rorschach', Gender='Male', Eye color='blue', Race='Human', Hair color='Red', Height='168', Publisher='DC Comics', Skin color='-', Alignment='good', Weight='63'),\n",
       " Row(ID='572', name='Sabretooth', Gender='Male', Eye color='amber', Race='Mutant', Hair color='Blond', Height='198', Publisher='Marvel Comics', Skin color='-', Alignment='bad', Weight='171'),\n",
       " Row(ID='573', name='Sage', Gender='Female', Eye color='blue', Race='-', Hair color='Black', Height='170', Publisher='Marvel Comics', Skin color='-', Alignment='good', Weight='61'),\n",
       " Row(ID='574', name='Sandman', Gender='Male', Eye color='brown', Race='Human', Hair color='Brown', Height='185', Publisher='Marvel Comics', Skin color='-', Alignment='neutral', Weight='203'),\n",
       " Row(ID='575', name='Sasquatch', Gender='Male', Eye color='red', Race='-', Hair color='Orange', Height='305', Publisher='Marvel Comics', Skin color='-', Alignment='good', Weight='900'),\n",
       " Row(ID='576', name='Sauron', Gender='Male', Eye color='-', Race='Maiar', Hair color='-', Height='279', Publisher='J. R. R. Tolkien', Skin color='-', Alignment='bad', Weight='-99'),\n",
       " Row(ID='577', name='Savage Dragon', Gender='Male', Eye color='-', Race='-', Hair color='-', Height='-99', Publisher='Image Comics', Skin color='-', Alignment='good', Weight='-99'),\n",
       " Row(ID='578', name='Scarecrow', Gender='Male', Eye color='blue', Race='Human', Hair color='Brown', Height='183', Publisher='DC Comics', Skin color='-', Alignment='bad', Weight='63'),\n",
       " Row(ID='579', name='Scarlet Spider', Gender='Male', Eye color='blue', Race='Human', Hair color='Blond', Height='178', Publisher='Marvel Comics', Skin color='-', Alignment='good', Weight='74'),\n",
       " Row(ID='580', name='Scarlet Spider II', Gender='Male', Eye color='brown', Race='Clone', Hair color='Brown', Height='193', Publisher='Marvel Comics', Skin color='-', Alignment='good', Weight='113'),\n",
       " Row(ID='581', name='Scarlet Witch', Gender='Female', Eye color='blue', Race='Mutant', Hair color='Brown', Height='170', Publisher='Marvel Comics', Skin color='-', Alignment='bad', Weight='59'),\n",
       " Row(ID='582', name='Scorpia', Gender='Female', Eye color='green', Race='-', Hair color='Red', Height='-99', Publisher='Marvel Comics', Skin color='-', Alignment='bad', Weight='-99'),\n",
       " Row(ID='583', name='Scorpion', Gender='Male', Eye color='brown', Race='Human', Hair color='Brown', Height='211', Publisher='Marvel Comics', Skin color='-', Alignment='bad', Weight='310'),\n",
       " Row(ID='584', name='Sebastian Shaw', Gender='Male', Eye color='-', Race='Mutant', Hair color='-', Height='-99', Publisher='Marvel Comics', Skin color='-', Alignment='bad', Weight='-99'),\n",
       " Row(ID='585', name='Sentry', Gender='Male', Eye color='blue', Race='Mutant', Hair color='Blond', Height='188', Publisher='Marvel Comics', Skin color='-', Alignment='neutral', Weight='87'),\n",
       " Row(ID='586', name='Shadow King', Gender='-', Eye color='red', Race='-', Hair color='-', Height='185', Publisher='Marvel Comics', Skin color='-', Alignment='good', Weight='149'),\n",
       " Row(ID='587', name='Shadow Lass', Gender='Female', Eye color='black', Race='Talokite', Hair color='Black', Height='173', Publisher='DC Comics', Skin color='blue', Alignment='good', Weight='54'),\n",
       " Row(ID='588', name='Shadowcat', Gender='Female', Eye color='hazel', Race='Mutant', Hair color='Brown', Height='168', Publisher='Marvel Comics', Skin color='-', Alignment='good', Weight='50'),\n",
       " Row(ID='589', name='Shang-Chi', Gender='Male', Eye color='brown', Race='Human', Hair color='Black', Height='178', Publisher='Marvel Comics', Skin color='-', Alignment='good', Weight='79'),\n",
       " Row(ID='590', name='Shatterstar', Gender='Male', Eye color='brown', Race='-', Hair color='Red', Height='191', Publisher='Marvel Comics', Skin color='-', Alignment='good', Weight='88'),\n",
       " Row(ID='591', name='She-Hulk', Gender='Female', Eye color='green', Race='Human', Hair color='Green', Height='201', Publisher='Marvel Comics', Skin color='-', Alignment='good', Weight='315'),\n",
       " Row(ID='592', name='She-Thing', Gender='Female', Eye color='blue', Race='Human / Radiation', Hair color='No Hair', Height='183', Publisher='Marvel Comics', Skin color='-', Alignment='good', Weight='153'),\n",
       " Row(ID='593', name='Shocker', Gender='Male', Eye color='brown', Race='Human', Hair color='Brown', Height='175', Publisher='Marvel Comics', Skin color='-', Alignment='bad', Weight='79'),\n",
       " Row(ID='594', name='Shriek', Gender='Female', Eye color='yellow / blue', Race='-', Hair color='Black', Height='173', Publisher='Marvel Comics', Skin color='-', Alignment='good', Weight='52'),\n",
       " Row(ID='595', name='Shrinking Violet', Gender='Female', Eye color='-', Race='-', Hair color='-', Height='-99', Publisher='DC Comics', Skin color='-', Alignment='good', Weight='-99'),\n",
       " Row(ID='596', name='Sif', Gender='Female', Eye color='blue', Race='Asgardian', Hair color='Black', Height='188', Publisher='Marvel Comics', Skin color='-', Alignment='good', Weight='191'),\n",
       " Row(ID='597', name='Silk', Gender='Female', Eye color='brown', Race='Human', Hair color='Black', Height='-99', Publisher='Marvel Comics', Skin color='-', Alignment='good', Weight='-99'),\n",
       " Row(ID='598', name='Silk Spectre', Gender='Female', Eye color='-', Race='-', Hair color='-', Height='-99', Publisher='DC Comics', Skin color='-', Alignment='good', Weight='-99'),\n",
       " Row(ID='599', name='Silk Spectre II', Gender='Female', Eye color='-', Race='-', Hair color='-', Height='-99', Publisher='DC Comics', Skin color='-', Alignment='good', Weight='-99'),\n",
       " Row(ID='600', name='Silver Surfer', Gender='Male', Eye color='white', Race='Alien', Hair color='No Hair', Height='193', Publisher='Marvel Comics', Skin color='silver', Alignment='good', Weight='101'),\n",
       " Row(ID='601', name='Silverclaw', Gender='Female', Eye color='brown', Race='-', Hair color='Black', Height='157', Publisher='Marvel Comics', Skin color='-', Alignment='good', Weight='50'),\n",
       " Row(ID='602', name='Simon Baz', Gender='Male', Eye color='bown', Race='Human', Hair color='Black', Height='-99', Publisher='DC Comics', Skin color='-', Alignment='good', Weight='-99'),\n",
       " Row(ID='603', name='Sinestro', Gender='Male', Eye color='black', Race='Korugaran', Hair color='Black', Height='201', Publisher='DC Comics', Skin color='red', Alignment='neutral', Weight='92'),\n",
       " Row(ID='604', name='Siren', Gender='Female', Eye color='blue', Race='Atlantean', Hair color='Purple', Height='175', Publisher='DC Comics', Skin color='-', Alignment='bad', Weight='72'),\n",
       " Row(ID='605', name='Siren II', Gender='Female', Eye color='black', Race='-', Hair color='-', Height='-99', Publisher='DC Comics', Skin color='-', Alignment='bad', Weight='-99'),\n",
       " Row(ID='606', name='Siryn', Gender='Female', Eye color='blue', Race='-', Hair color='Strawberry Blond', Height='168', Publisher='Marvel Comics', Skin color='-', Alignment='bad', Weight='52'),\n",
       " Row(ID='607', name='Skaar', Gender='Male', Eye color='green', Race='-', Hair color='Black', Height='198', Publisher='Marvel Comics', Skin color='-', Alignment='good', Weight='180'),\n",
       " Row(ID='608', name='Snake-Eyes', Gender='Male', Eye color='-', Race='Animal', Hair color='-', Height='-99', Publisher='Marvel Comics', Skin color='-', Alignment='bad', Weight='-99'),\n",
       " Row(ID='609', name='Snowbird', Gender='Female', Eye color='white', Race='-', Hair color='Blond', Height='178', Publisher='Marvel Comics', Skin color='-', Alignment='good', Weight='49'),\n",
       " Row(ID='610', name='Sobek', Gender='Male', Eye color='white', Race='-', Hair color='No Hair', Height='-99', Publisher='DC Comics', Skin color='-', Alignment='good', Weight='-99'),\n",
       " Row(ID='611', name='Solomon Grundy', Gender='Male', Eye color='black', Race='Zombie', Hair color='White', Height='279', Publisher='DC Comics', Skin color='-', Alignment='bad', Weight='437'),\n",
       " Row(ID='612', name='Songbird', Gender='Female', Eye color='green', Race='-', Hair color='Red / White', Height='165', Publisher='Marvel Comics', Skin color='-', Alignment='good', Weight='65'),\n",
       " Row(ID='613', name='Space Ghost', Gender='Male', Eye color='-', Race='Human', Hair color='-', Height='188', Publisher='DC Comics', Skin color='-', Alignment='good', Weight='113'),\n",
       " Row(ID='614', name='Spawn', Gender='Male', Eye color='brown', Race='Demon', Hair color='Black', Height='211', Publisher='Image Comics', Skin color='-', Alignment='good', Weight='405'),\n",
       " Row(ID='615', name='Spectre', Gender='Male', Eye color='white', Race='God / Eternal', Hair color='No Hair', Height='-99', Publisher='DC Comics', Skin color='white', Alignment='good', Weight='-99'),\n",
       " Row(ID='616', name='Speedball', Gender='Male', Eye color='-', Race='-', Hair color='-', Height='-99', Publisher='Marvel Comics', Skin color='-', Alignment='good', Weight='-99'),\n",
       " Row(ID='617', name='Speedy', Gender='Male', Eye color='-', Race='Human', Hair color='-', Height='-99', Publisher='DC Comics', Skin color='-', Alignment='good', Weight='-99'),\n",
       " Row(ID='618', name='Speedy', Gender='Female', Eye color='green', Race='Human', Hair color='Brown', Height='-99', Publisher='DC Comics', Skin color='-', Alignment='good', Weight='-99'),\n",
       " Row(ID='619', name='Spider-Carnage', Gender='Male', Eye color='-', Race='Symbiote', Hair color='-', Height='-99', Publisher='Marvel Comics', Skin color='-', Alignment='bad', Weight='-99'),\n",
       " Row(ID='620', name='Spider-Girl', Gender='Female', Eye color='blue', Race='Human', Hair color='Brown', Height='170', Publisher='Marvel Comics', Skin color='-', Alignment='good', Weight='54'),\n",
       " Row(ID='621', name='Spider-Gwen', Gender='Female', Eye color='blue', Race='Human', Hair color='Blond', Height='165', Publisher='Marvel Comics', Skin color='-', Alignment='good', Weight='56'),\n",
       " Row(ID='622', name='Spider-Man', Gender='Male', Eye color='hazel', Race='Human', Hair color='Brown', Height='178', Publisher='Marvel Comics', Skin color='-', Alignment='good', Weight='74'),\n",
       " Row(ID='623', name='Spider-Man', Gender='-', Eye color='red', Race='Human', Hair color='Brown', Height='178', Publisher='Marvel Comics', Skin color='-', Alignment='good', Weight='77'),\n",
       " Row(ID='624', name='Spider-Man', Gender='Male', Eye color='brown', Race='Human', Hair color='Black', Height='157', Publisher='Marvel Comics', Skin color='-', Alignment='good', Weight='56'),\n",
       " Row(ID='625', name='Spider-Woman', Gender='Female', Eye color='green', Race='Human', Hair color='Black', Height='178', Publisher='Marvel Comics', Skin color='-', Alignment='good', Weight='59'),\n",
       " Row(ID='626', name='Spider-Woman II', Gender='Female', Eye color='-', Race='-', Hair color='-', Height='-99', Publisher='Marvel Comics', Skin color='-', Alignment='good', Weight='-99'),\n",
       " Row(ID='627', name='Spider-Woman III', Gender='Female', Eye color='brown', Race='-', Hair color='Brown', Height='173', Publisher='Marvel Comics', Skin color='-', Alignment='good', Weight='55'),\n",
       " Row(ID='628', name='Spider-Woman IV', Gender='Female', Eye color='red', Race='-', Hair color='White', Height='178', Publisher='Marvel Comics', Skin color='-', Alignment='bad', Weight='58'),\n",
       " Row(ID='629', name='Spock', Gender='Male', Eye color='brown', Race='Human-Vulcan', Hair color='Black', Height='185', Publisher='Star Trek', Skin color='-', Alignment='good', Weight='81'),\n",
       " Row(ID='630', name='Spyke', Gender='Male', Eye color='brown', Race='Mutant', Hair color='Blond', Height='183', Publisher='Marvel Comics', Skin color='-', Alignment='good', Weight='83'),\n",
       " Row(ID='631', name='Stacy X', Gender='Female', Eye color='-', Race='-', Hair color='-', Height='-99', Publisher='Marvel Comics', Skin color='-', Alignment='good', Weight='-99'),\n",
       " Row(ID='632', name='Star-Lord', Gender='Male', Eye color='blue', Race='Human-Spartoi', Hair color='Blond', Height='188', Publisher='Marvel Comics', Skin color='-', Alignment='good', Weight='79'),\n",
       " Row(ID='633', name='Stardust', Gender='Male', Eye color='-', Race='-', Hair color='-', Height='-99', Publisher='Marvel Comics', Skin color='-', Alignment='good', Weight='-99'),\n",
       " Row(ID='634', name='Starfire', Gender='Female', Eye color='green', Race='Tamaranean', Hair color='Auburn', Height='193', Publisher='DC Comics', Skin color='orange', Alignment='good', Weight='71'),\n",
       " Row(ID='635', name='Stargirl', Gender='Female', Eye color='blue', Race='Human', Hair color='Blond', Height='165', Publisher='DC Comics', Skin color='-', Alignment='good', Weight='62'),\n",
       " Row(ID='636', name='Static', Gender='Male', Eye color='brown', Race='Mutant', Hair color='Black', Height='170', Publisher='DC Comics', Skin color='-', Alignment='good', Weight='63'),\n",
       " Row(ID='637', name='Steel', Gender='Male', Eye color='brown', Race='-', Hair color='No Hair', Height='201', Publisher='DC Comics', Skin color='-', Alignment='good', Weight='131'),\n",
       " Row(ID='638', name='Stephanie Powell', Gender='Female', Eye color='-', Race='-', Hair color='Blond', Height='-99', Publisher='ABC Studios', Skin color='-', Alignment='good', Weight='-99'),\n",
       " Row(ID='639', name='Steppenwolf', Gender='Male', Eye color='red', Race='New God', Hair color='Black', Height='183', Publisher='DC Comics', Skin color='white', Alignment='bad', Weight='91'),\n",
       " Row(ID='640', name='Storm', Gender='Female', Eye color='blue', Race='Mutant', Hair color='White', Height='180', Publisher='Marvel Comics', Skin color='-', Alignment='good', Weight='57'),\n",
       " Row(ID='641', name='Stormtrooper', Gender='Male', Eye color='-', Race='Human', Hair color='-', Height='183', Publisher='George Lucas', Skin color='-', Alignment='bad', Weight='-99'),\n",
       " Row(ID='642', name='Sunspot', Gender='Male', Eye color='brown', Race='Mutant', Hair color='black', Height='173', Publisher='Marvel Comics', Skin color='-', Alignment='good', Weight='77'),\n",
       " Row(ID='643', name='Superboy', Gender='Male', Eye color='blue', Race='-', Hair color='Black', Height='170', Publisher='DC Comics', Skin color='-', Alignment='good', Weight='68'),\n",
       " Row(ID='644', name='Superboy-Prime', Gender='Male', Eye color='blue', Race='Kryptonian', Hair color='Black / Blue', Height='180', Publisher='DC Comics', Skin color='-', Alignment='bad', Weight='77'),\n",
       " Row(ID='645', name='Supergirl', Gender='Female', Eye color='blue', Race='Kryptonian', Hair color='Blond', Height='165', Publisher='DC Comics', Skin color='-', Alignment='good', Weight='54'),\n",
       " Row(ID='646', name='Superman', Gender='Male', Eye color='blue', Race='Kryptonian', Hair color='Black', Height='191', Publisher='DC Comics', Skin color='-', Alignment='good', Weight='101'),\n",
       " Row(ID='647', name='Swamp Thing', Gender='Male', Eye color='red', Race='God / Eternal', Hair color='No Hair', Height='-99', Publisher='DC Comics', Skin color='green', Alignment='bad', Weight='-99'),\n",
       " Row(ID='648', name='Swarm', Gender='Male', Eye color='yellow', Race='Mutant', Hair color='No Hair', Height='196', Publisher='Marvel Comics', Skin color='yellow', Alignment='bad', Weight='47'),\n",
       " Row(ID='649', name='Sylar', Gender='Male', Eye color='-', Race='-', Hair color='-', Height='-99', Publisher='NBC - Heroes', Skin color='-', Alignment='bad', Weight='-99'),\n",
       " Row(ID='650', name='Synch', Gender='Male', Eye color='brown', Race='-', Hair color='Black', Height='180', Publisher='Marvel Comics', Skin color='-', Alignment='good', Weight='74'),\n",
       " Row(ID='651', name='T-1000', Gender='Male', Eye color='-', Race='Android', Hair color='-', Height='183', Publisher='Dark Horse Comics', Skin color='silver', Alignment='bad', Weight='146'),\n",
       " Row(ID='652', name='T-800', Gender='Male', Eye color='red', Race='Cyborg', Hair color='-', Height='-99', Publisher='Dark Horse Comics', Skin color='-', Alignment='bad', Weight='176'),\n",
       " Row(ID='653', name='T-850', Gender='Male', Eye color='red', Race='Cyborg', Hair color='-', Height='-99', Publisher='Dark Horse Comics', Skin color='-', Alignment='bad', Weight='198'),\n",
       " Row(ID='654', name='T-X', Gender='Female', Eye color='-', Race='Cyborg', Hair color='-', Height='-99', Publisher='Dark Horse Comics', Skin color='silver', Alignment='bad', Weight='149'),\n",
       " Row(ID='655', name='Taskmaster', Gender='Male', Eye color='brown', Race='Human', Hair color='Brown', Height='188', Publisher='Marvel Comics', Skin color='-', Alignment='bad', Weight='99'),\n",
       " Row(ID='656', name='Tempest', Gender='Female', Eye color='brown', Race='-', Hair color='Black', Height='163', Publisher='Marvel Comics', Skin color='-', Alignment='good', Weight='54'),\n",
       " Row(ID='657', name='Thanos', Gender='Male', Eye color='red', Race='Eternal', Hair color='No Hair', Height='201', Publisher='Marvel Comics', Skin color='purple', Alignment='bad', Weight='443'),\n",
       " Row(ID='658', name='The Cape', Gender='Male', Eye color='-', Race='-', Hair color='-', Height='-99', Publisher=None, Skin color='-', Alignment='good', Weight='-99'),\n",
       " Row(ID='659', name='The Comedian', Gender='Male', Eye color='brown', Race='Human', Hair color='Black', Height='188', Publisher='DC Comics', Skin color='-', Alignment='neutral', Weight='101'),\n",
       " Row(ID='660', name='Thing', Gender='Male', Eye color='blue', Race='Human / Radiation', Hair color='No Hair', Height='183', Publisher='Marvel Comics', Skin color='-', Alignment='good', Weight='225'),\n",
       " Row(ID='661', name='Thor', Gender='Male', Eye color='blue', Race='Asgardian', Hair color='Blond', Height='198', Publisher='Marvel Comics', Skin color='-', Alignment='good', Weight='288'),\n",
       " Row(ID='662', name='Thor Girl', Gender='Female', Eye color='blue', Race='Asgardian', Hair color='Blond', Height='175', Publisher='Marvel Comics', Skin color='-', Alignment='good', Weight='143'),\n",
       " Row(ID='663', name='Thunderbird', Gender='Male', Eye color='brown', Race='-', Hair color='Black', Height='185', Publisher='Marvel Comics', Skin color='-', Alignment='good', Weight='101'),\n",
       " Row(ID='664', name='Thunderbird II', Gender='Male', Eye color='-', Race='-', Hair color='-', Height='-99', Publisher='Marvel Comics', Skin color='-', Alignment='good', Weight='-99'),\n",
       " Row(ID='665', name='Thunderbird III', Gender='Male', Eye color='brown', Race='-', Hair color='Black', Height='175', Publisher='Marvel Comics', Skin color='-', Alignment='good', Weight='74'),\n",
       " Row(ID='666', name='Thunderstrike', Gender='Male', Eye color='blue', Race='-', Hair color='Blond', Height='198', Publisher='Marvel Comics', Skin color='-', Alignment='good', Weight='288'),\n",
       " Row(ID='667', name='Thundra', Gender='Female', Eye color='green', Race='-', Hair color='Red', Height='218', Publisher='Marvel Comics', Skin color='-', Alignment='good', Weight='158'),\n",
       " Row(ID='668', name='Tiger Shark', Gender='Male', Eye color='grey', Race='Human', Hair color='No Hair', Height='185', Publisher='Marvel Comics', Skin color='grey', Alignment='bad', Weight='203'),\n",
       " Row(ID='669', name='Tigra', Gender='Female', Eye color='green', Race='-', Hair color='Auburn', Height='178', Publisher='Marvel Comics', Skin color='-', Alignment='good', Weight='81'),\n",
       " Row(ID='670', name='Tinkerer', Gender='Male', Eye color='brown', Race='-', Hair color='White', Height='163', Publisher='Marvel Comics', Skin color='-', Alignment='bad', Weight='54'),\n",
       " Row(ID='671', name='Titan', Gender='Male', Eye color='-', Race='-', Hair color='-', Height='-99', Publisher='HarperCollins', Skin color='-', Alignment='good', Weight='-99'),\n",
       " Row(ID='672', name='Toad', Gender='Male', Eye color='black', Race='Mutant', Hair color='Brown', Height='175', Publisher='Marvel Comics', Skin color='green', Alignment='neutral', Weight='76'),\n",
       " Row(ID='673', name='Toxin', Gender='Male', Eye color='blue', Race='Symbiote', Hair color='Brown', Height='188', Publisher='Marvel Comics', Skin color='-', Alignment='good', Weight='97'),\n",
       " Row(ID='674', name='Toxin', Gender='Male', Eye color='black', Race='Symbiote', Hair color='Blond', Height='191', Publisher='Marvel Comics', Skin color='-', Alignment='good', Weight='117'),\n",
       " Row(ID='675', name='Tracy Strauss', Gender='Female', Eye color='-', Race='-', Hair color='-', Height='-99', Publisher='NBC - Heroes', Skin color='-', Alignment='good', Weight='-99'),\n",
       " Row(ID='676', name='Trickster', Gender='Male', Eye color='blue', Race='Human', Hair color='Blond', Height='183', Publisher='DC Comics', Skin color='-', Alignment='-', Weight='81'),\n",
       " Row(ID='677', name='Trigon', Gender='Male', Eye color='yellow', Race='God / Eternal', Hair color='Black', Height='-99', Publisher='DC Comics', Skin color='red', Alignment='bad', Weight='-99'),\n",
       " Row(ID='678', name='Triplicate Girl', Gender='Female', Eye color='purple', Race='-', Hair color='Brown', Height='168', Publisher='DC Comics', Skin color='-', Alignment='good', Weight='59'),\n",
       " Row(ID='679', name='Triton', Gender='Male', Eye color='green', Race='Inhuman', Hair color='No Hair', Height='188', Publisher='Marvel Comics', Skin color='green', Alignment='good', Weight='86'),\n",
       " Row(ID='680', name='Two-Face', Gender='Male', Eye color='-', Race='-', Hair color='-', Height='183', Publisher='DC Comics', Skin color='-', Alignment='bad', Weight='82'),\n",
       " Row(ID='681', name='Ultragirl', Gender='Female', Eye color='blue', Race='-', Hair color='Blond', Height='168', Publisher='Marvel Comics', Skin color='-', Alignment='good', Weight='105'),\n",
       " Row(ID='682', name='Ultron', Gender='Male', Eye color='red', Race='Android', Hair color='-', Height='206', Publisher='Marvel Comics', Skin color='silver', Alignment='bad', Weight='331'),\n",
       " Row(ID='683', name='Utgard-Loki', Gender='Male', Eye color='blue', Race='Frost Giant', Hair color='White', Height='15.2', Publisher='Marvel Comics', Skin color='-', Alignment='bad', Weight='58'),\n",
       " Row(ID='684', name='Vagabond', Gender='Female', Eye color='blue', Race='-', Hair color='Strawberry Blond', Height='168', Publisher='Marvel Comics', Skin color='-', Alignment='good', Weight='54'),\n",
       " Row(ID='685', name='Valerie Hart', Gender='Female', Eye color='hazel', Race='-', Hair color='Black', Height='175', Publisher='Team Epic TV', Skin color='-', Alignment='good', Weight='56'),\n",
       " Row(ID='686', name='Valkyrie', Gender='Female', Eye color='blue', Race='-', Hair color='Blond', Height='191', Publisher='Marvel Comics', Skin color='-', Alignment='good', Weight='214'),\n",
       " Row(ID='687', name='Vanisher', Gender='Male', Eye color='green', Race='-', Hair color='No Hair', Height='165', Publisher='Marvel Comics', Skin color='-', Alignment='bad', Weight='79'),\n",
       " Row(ID='688', name='Vegeta', Gender='Male', Eye color='-', Race='Saiyan', Hair color='Black', Height='168', Publisher='Shueisha', Skin color='-', Alignment='bad', Weight='73'),\n",
       " Row(ID='689', name='Venom', Gender='Male', Eye color='blue', Race='Symbiote', Hair color='Strawberry Blond', Height='191', Publisher='Marvel Comics', Skin color='-', Alignment='bad', Weight='117'),\n",
       " Row(ID='690', name='Venom II', Gender='Male', Eye color='brown', Race='-', Hair color='Black', Height='175', Publisher='Marvel Comics', Skin color='-', Alignment='bad', Weight='50'),\n",
       " Row(ID='691', name='Venom III', Gender='Male', Eye color='brown', Race='Symbiote', Hair color='Brown', Height='229', Publisher='Marvel Comics', Skin color='-', Alignment='bad', Weight='334'),\n",
       " Row(ID='692', name='Venompool', Gender='Male', Eye color='-', Race='Symbiote', Hair color='-', Height='226', Publisher='Marvel Comics', Skin color='-', Alignment='-', Weight='-99'),\n",
       " Row(ID='693', name='Vertigo II', Gender='Female', Eye color='blue', Race='-', Hair color='Silver', Height='168', Publisher='Marvel Comics', Skin color='-', Alignment='good', Weight='52'),\n",
       " Row(ID='694', name='Vibe', Gender='Male', Eye color='brown', Race='Human', Hair color='Black', Height='178', Publisher='DC Comics', Skin color='-', Alignment='good', Weight='71'),\n",
       " Row(ID='695', name='Vindicator', Gender='Female', Eye color='green', Race='Human', Hair color='Red', Height='165', Publisher='Marvel Comics', Skin color='-', Alignment='good', Weight='54'),\n",
       " Row(ID='696', name='Vindicator', Gender='Male', Eye color='-', Race='-', Hair color='-', Height='-99', Publisher='Marvel Comics', Skin color='-', Alignment='good', Weight='-99'),\n",
       " Row(ID='697', name='Violator', Gender='Male', Eye color='-', Race='-', Hair color='-', Height='-99', Publisher='Image Comics', Skin color='-', Alignment='bad', Weight='-99'),\n",
       " Row(ID='698', name='Violet Parr', Gender='Female', Eye color='violet', Race='Human', Hair color='Black', Height='137', Publisher='Dark Horse Comics', Skin color='-', Alignment='good', Weight='41'),\n",
       " Row(ID='699', name='Vision', Gender='Male', Eye color='gold', Race='Android', Hair color='No Hair', Height='191', Publisher='Marvel Comics', Skin color='red', Alignment='good', Weight='135'),\n",
       " Row(ID='700', name='Vision II', Gender='-', Eye color='red', Race='-', Hair color='No Hair', Height='191', Publisher='Marvel Comics', Skin color='-', Alignment='good', Weight='135'),\n",
       " Row(ID='701', name='Vixen', Gender='Female', Eye color='amber', Race='Human', Hair color='Black', Height='175', Publisher='DC Comics', Skin color='-', Alignment='good', Weight='63'),\n",
       " Row(ID='702', name='Vulcan', Gender='Male', Eye color='black', Race='-', Hair color='Black', Height='-99', Publisher='Marvel Comics', Skin color='-', Alignment='good', Weight='-99'),\n",
       " Row(ID='703', name='Vulture', Gender='Male', Eye color='brown', Race='Human', Hair color='No Hair', Height='180', Publisher='Marvel Comics', Skin color='-', Alignment='bad', Weight='79'),\n",
       " Row(ID='704', name='Walrus', Gender='Male', Eye color='blue', Race='Human', Hair color='Black', Height='183', Publisher='Marvel Comics', Skin color='-', Alignment='bad', Weight='162'),\n",
       " Row(ID='705', name='War Machine', Gender='Male', Eye color='brown', Race='Human', Hair color='Brown', Height='185', Publisher='Marvel Comics', Skin color='-', Alignment='good', Weight='95'),\n",
       " Row(ID='706', name='Warbird', Gender='Female', Eye color='blue', Race='-', Hair color='Blond', Height='180', Publisher='Marvel Comics', Skin color='-', Alignment='good', Weight='54'),\n",
       " Row(ID='707', name='Warlock', Gender='Male', Eye color='red', Race='-', Hair color='Blond', Height='188', Publisher='Marvel Comics', Skin color='-', Alignment='good', Weight='108'),\n",
       " Row(ID='708', name='Warp', Gender='Male', Eye color='brown', Race='-', Hair color='Black', Height='173', Publisher='DC Comics', Skin color='-', Alignment='bad', Weight='67'),\n",
       " Row(ID='709', name='Warpath', Gender='Male', Eye color='brown', Race='Mutant', Hair color='Black', Height='218', Publisher='Marvel Comics', Skin color='-', Alignment='good', Weight='158'),\n",
       " Row(ID='710', name='Wasp', Gender='Female', Eye color='blue', Race='Human', Hair color='Auburn', Height='163', Publisher='Marvel Comics', Skin color='-', Alignment='good', Weight='50'),\n",
       " Row(ID='711', name='Watcher', Gender='Male', Eye color='-', Race='-', Hair color='-', Height='-99', Publisher='Marvel Comics', Skin color='-', Alignment='good', Weight='-99'),\n",
       " Row(ID='712', name='Weapon XI', Gender='Male', Eye color='-', Race='-', Hair color='-', Height='-99', Publisher='Marvel Comics', Skin color='-', Alignment='bad', Weight='-99'),\n",
       " Row(ID='713', name='White Canary', Gender='Female', Eye color='brown', Race='Human', Hair color='Black', Height='-99', Publisher='DC Comics', Skin color='-', Alignment='bad', Weight='-99'),\n",
       " Row(ID='714', name='White Queen', Gender='Female', Eye color='blue', Race='-', Hair color='Blond', Height='178', Publisher='Marvel Comics', Skin color='-', Alignment='good', Weight='65'),\n",
       " Row(ID='715', name='Wildfire', Gender='Male', Eye color='-', Race='-', Hair color='-', Height='-99', Publisher='DC Comics', Skin color='-', Alignment='good', Weight='-99'),\n",
       " Row(ID='716', name='Winter Soldier', Gender='Male', Eye color='brown', Race='Human', Hair color='Brown', Height='175', Publisher='Marvel Comics', Skin color='-', Alignment='good', Weight='117'),\n",
       " Row(ID='717', name='Wiz Kid', Gender='-', Eye color='brown', Race='-', Hair color='Black', Height='140', Publisher='Marvel Comics', Skin color='-', Alignment='good', Weight='39'),\n",
       " Row(ID='718', name='Wolfsbane', Gender='Female', Eye color='green', Race='-', Hair color='Auburn', Height='366', Publisher='Marvel Comics', Skin color='-', Alignment='good', Weight='473'),\n",
       " Row(ID='719', name='Wolverine', Gender='Male', Eye color='blue', Race='Mutant', Hair color='Black', Height='160', Publisher='Marvel Comics', Skin color='-', Alignment='good', Weight='135'),\n",
       " Row(ID='720', name='Wonder Girl', Gender='Female', Eye color='blue', Race='Demi-God', Hair color='Blond', Height='165', Publisher='DC Comics', Skin color='-', Alignment='good', Weight='51'),\n",
       " Row(ID='721', name='Wonder Man', Gender='Male', Eye color='red', Race='-', Hair color='Black', Height='188', Publisher='Marvel Comics', Skin color='-', Alignment='good', Weight='171'),\n",
       " Row(ID='722', name='Wonder Woman', Gender='Female', Eye color='blue', Race='Amazon', Hair color='Black', Height='183', Publisher='DC Comics', Skin color='-', Alignment='good', Weight='74'),\n",
       " Row(ID='723', name='Wondra', Gender='Female', Eye color='-', Race='-', Hair color='-', Height='-99', Publisher='Marvel Comics', Skin color='-', Alignment='good', Weight='-99'),\n",
       " Row(ID='724', name='Wyatt Wingfoot', Gender='Male', Eye color='brown', Race='-', Hair color='Black', Height='196', Publisher='Marvel Comics', Skin color='-', Alignment='good', Weight='117'),\n",
       " Row(ID='725', name='X-23', Gender='Female', Eye color='green', Race='Mutant / Clone', Hair color='Black', Height='155', Publisher='Marvel Comics', Skin color='-', Alignment='good', Weight='50'),\n",
       " Row(ID='726', name='X-Man', Gender='Male', Eye color='blue', Race='-', Hair color='Brown', Height='175', Publisher='Marvel Comics', Skin color='-', Alignment='good', Weight='61'),\n",
       " Row(ID='727', name='Yellow Claw', Gender='Male', Eye color='blue', Race='-', Hair color='No Hair', Height='188', Publisher='Marvel Comics', Skin color='-', Alignment='bad', Weight='95'),\n",
       " Row(ID='728', name='Yellowjacket', Gender='Male', Eye color='blue', Race='Human', Hair color='Blond', Height='183', Publisher='Marvel Comics', Skin color='-', Alignment='good', Weight='83'),\n",
       " Row(ID='729', name='Yellowjacket II', Gender='Female', Eye color='blue', Race='Human', Hair color='Strawberry Blond', Height='165', Publisher='Marvel Comics', Skin color='-', Alignment='good', Weight='52'),\n",
       " Row(ID='730', name='Ymir', Gender='Male', Eye color='white', Race='Frost Giant', Hair color='No Hair', Height='304.8', Publisher='Marvel Comics', Skin color='white', Alignment='good', Weight='-99'),\n",
       " Row(ID='731', name='Yoda', Gender='Male', Eye color='brown', Race=\"Yoda's species\", Hair color='White', Height='66', Publisher='George Lucas', Skin color='green', Alignment='good', Weight='17'),\n",
       " Row(ID='732', name='Zatanna', Gender='Female', Eye color='blue', Race='Human', Hair color='Black', Height='170', Publisher='DC Comics', Skin color='-', Alignment='good', Weight='57'),\n",
       " Row(ID='733', name='Zoom', Gender='Male', Eye color='red', Race='-', Hair color='Brown', Height='185', Publisher='DC Comics', Skin color='-', Alignment='bad', Weight='81')]"
      ]
     },
     "execution_count": 13,
     "metadata": {},
     "output_type": "execute_result"
    }
   ],
   "source": [
    "heroes.collect() # BAD!!!1!"
   ]
  },
  {
   "cell_type": "markdown",
   "metadata": {},
   "source": [
    "## Converting to `pandas` using `pyarrow`\n",
    "\n",
    "If we have `pyarrow` installed, we can use the `toPandas` method to collect the data and convert to `pandas`"
   ]
  },
  {
   "cell_type": "markdown",
   "metadata": {},
   "source": [
    "#### Use `limit` to collect the head."
   ]
  },
  {
   "cell_type": "code",
   "execution_count": 14,
   "metadata": {},
   "outputs": [
    {
     "data": {
      "text/html": [
       "<div>\n",
       "<style scoped>\n",
       "    .dataframe tbody tr th:only-of-type {\n",
       "        vertical-align: middle;\n",
       "    }\n",
       "\n",
       "    .dataframe tbody tr th {\n",
       "        vertical-align: top;\n",
       "    }\n",
       "\n",
       "    .dataframe thead th {\n",
       "        text-align: right;\n",
       "    }\n",
       "</style>\n",
       "<table border=\"1\" class=\"dataframe\">\n",
       "  <thead>\n",
       "    <tr style=\"text-align: right;\">\n",
       "      <th></th>\n",
       "      <th>ID</th>\n",
       "      <th>name</th>\n",
       "      <th>Gender</th>\n",
       "      <th>Eye color</th>\n",
       "      <th>Race</th>\n",
       "      <th>Hair color</th>\n",
       "      <th>Height</th>\n",
       "      <th>Publisher</th>\n",
       "      <th>Skin color</th>\n",
       "      <th>Alignment</th>\n",
       "      <th>Weight</th>\n",
       "    </tr>\n",
       "  </thead>\n",
       "  <tbody>\n",
       "    <tr>\n",
       "      <th>0</th>\n",
       "      <td>0</td>\n",
       "      <td>A-Bomb</td>\n",
       "      <td>Male</td>\n",
       "      <td>yellow</td>\n",
       "      <td>Human</td>\n",
       "      <td>No Hair</td>\n",
       "      <td>203</td>\n",
       "      <td>Marvel Comics</td>\n",
       "      <td>-</td>\n",
       "      <td>good</td>\n",
       "      <td>441</td>\n",
       "    </tr>\n",
       "    <tr>\n",
       "      <th>1</th>\n",
       "      <td>1</td>\n",
       "      <td>Abe Sapien</td>\n",
       "      <td>Male</td>\n",
       "      <td>blue</td>\n",
       "      <td>Icthyo Sapien</td>\n",
       "      <td>No Hair</td>\n",
       "      <td>191</td>\n",
       "      <td>Dark Horse Comics</td>\n",
       "      <td>blue</td>\n",
       "      <td>good</td>\n",
       "      <td>65</td>\n",
       "    </tr>\n",
       "    <tr>\n",
       "      <th>2</th>\n",
       "      <td>2</td>\n",
       "      <td>Abin Sur</td>\n",
       "      <td>Male</td>\n",
       "      <td>blue</td>\n",
       "      <td>Ungaran</td>\n",
       "      <td>No Hair</td>\n",
       "      <td>185</td>\n",
       "      <td>DC Comics</td>\n",
       "      <td>red</td>\n",
       "      <td>good</td>\n",
       "      <td>90</td>\n",
       "    </tr>\n",
       "    <tr>\n",
       "      <th>3</th>\n",
       "      <td>3</td>\n",
       "      <td>Abomination</td>\n",
       "      <td>Male</td>\n",
       "      <td>green</td>\n",
       "      <td>Human / Radiation</td>\n",
       "      <td>No Hair</td>\n",
       "      <td>203</td>\n",
       "      <td>Marvel Comics</td>\n",
       "      <td>-</td>\n",
       "      <td>bad</td>\n",
       "      <td>441</td>\n",
       "    </tr>\n",
       "    <tr>\n",
       "      <th>4</th>\n",
       "      <td>4</td>\n",
       "      <td>Abraxas</td>\n",
       "      <td>Male</td>\n",
       "      <td>blue</td>\n",
       "      <td>Cosmic Entity</td>\n",
       "      <td>Black</td>\n",
       "      <td>-99</td>\n",
       "      <td>Marvel Comics</td>\n",
       "      <td>-</td>\n",
       "      <td>bad</td>\n",
       "      <td>-99</td>\n",
       "    </tr>\n",
       "  </tbody>\n",
       "</table>\n",
       "</div>"
      ],
      "text/plain": [
       "  ID         name Gender Eye color               Race Hair color Height  \\\n",
       "0  0       A-Bomb   Male    yellow              Human    No Hair    203   \n",
       "1  1   Abe Sapien   Male      blue      Icthyo Sapien    No Hair    191   \n",
       "2  2     Abin Sur   Male      blue            Ungaran    No Hair    185   \n",
       "3  3  Abomination   Male     green  Human / Radiation    No Hair    203   \n",
       "4  4      Abraxas   Male      blue      Cosmic Entity      Black    -99   \n",
       "\n",
       "           Publisher Skin color Alignment Weight  \n",
       "0      Marvel Comics          -      good    441  \n",
       "1  Dark Horse Comics       blue      good     65  \n",
       "2          DC Comics        red      good     90  \n",
       "3      Marvel Comics          -       bad    441  \n",
       "4      Marvel Comics          -       bad    -99  "
      ]
     },
     "execution_count": 14,
     "metadata": {},
     "output_type": "execute_result"
    }
   ],
   "source": [
    "heroes.limit(5).toPandas() # Good!"
   ]
  },
  {
   "cell_type": "markdown",
   "metadata": {},
   "source": [
    "#### Use `sample` and `toPandas` to get a random sample."
   ]
  },
  {
   "cell_type": "code",
   "execution_count": 15,
   "metadata": {},
   "outputs": [
    {
     "data": {
      "text/html": [
       "<div>\n",
       "<style scoped>\n",
       "    .dataframe tbody tr th:only-of-type {\n",
       "        vertical-align: middle;\n",
       "    }\n",
       "\n",
       "    .dataframe tbody tr th {\n",
       "        vertical-align: top;\n",
       "    }\n",
       "\n",
       "    .dataframe thead th {\n",
       "        text-align: right;\n",
       "    }\n",
       "</style>\n",
       "<table border=\"1\" class=\"dataframe\">\n",
       "  <thead>\n",
       "    <tr style=\"text-align: right;\">\n",
       "      <th></th>\n",
       "      <th>ID</th>\n",
       "      <th>name</th>\n",
       "      <th>Gender</th>\n",
       "      <th>Eye color</th>\n",
       "      <th>Race</th>\n",
       "      <th>Hair color</th>\n",
       "      <th>Height</th>\n",
       "      <th>Publisher</th>\n",
       "      <th>Skin color</th>\n",
       "      <th>Alignment</th>\n",
       "      <th>Weight</th>\n",
       "    </tr>\n",
       "  </thead>\n",
       "  <tbody>\n",
       "    <tr>\n",
       "      <th>0</th>\n",
       "      <td>175</td>\n",
       "      <td>Chuck Norris</td>\n",
       "      <td>Male</td>\n",
       "      <td>-</td>\n",
       "      <td>-</td>\n",
       "      <td>-</td>\n",
       "      <td>178</td>\n",
       "      <td>None</td>\n",
       "      <td>-</td>\n",
       "      <td>good</td>\n",
       "      <td>-99</td>\n",
       "    </tr>\n",
       "    <tr>\n",
       "      <th>1</th>\n",
       "      <td>210</td>\n",
       "      <td>Dazzler</td>\n",
       "      <td>Female</td>\n",
       "      <td>blue</td>\n",
       "      <td>Mutant</td>\n",
       "      <td>Blond</td>\n",
       "      <td>173</td>\n",
       "      <td>Marvel Comics</td>\n",
       "      <td>-</td>\n",
       "      <td>good</td>\n",
       "      <td>52</td>\n",
       "    </tr>\n",
       "    <tr>\n",
       "      <th>2</th>\n",
       "      <td>256</td>\n",
       "      <td>Firebird</td>\n",
       "      <td>Female</td>\n",
       "      <td>brown</td>\n",
       "      <td>-</td>\n",
       "      <td>Black</td>\n",
       "      <td>165</td>\n",
       "      <td>Marvel Comics</td>\n",
       "      <td>-</td>\n",
       "      <td>good</td>\n",
       "      <td>56</td>\n",
       "    </tr>\n",
       "    <tr>\n",
       "      <th>3</th>\n",
       "      <td>298</td>\n",
       "      <td>Green Goblin</td>\n",
       "      <td>Male</td>\n",
       "      <td>blue</td>\n",
       "      <td>Human</td>\n",
       "      <td>Auburn</td>\n",
       "      <td>180</td>\n",
       "      <td>Marvel Comics</td>\n",
       "      <td>-</td>\n",
       "      <td>bad</td>\n",
       "      <td>83</td>\n",
       "    </tr>\n",
       "    <tr>\n",
       "      <th>4</th>\n",
       "      <td>331</td>\n",
       "      <td>Hulk</td>\n",
       "      <td>Male</td>\n",
       "      <td>green</td>\n",
       "      <td>Human / Radiation</td>\n",
       "      <td>Green</td>\n",
       "      <td>244</td>\n",
       "      <td>Marvel Comics</td>\n",
       "      <td>green</td>\n",
       "      <td>good</td>\n",
       "      <td>630</td>\n",
       "    </tr>\n",
       "    <tr>\n",
       "      <th>5</th>\n",
       "      <td>583</td>\n",
       "      <td>Scorpion</td>\n",
       "      <td>Male</td>\n",
       "      <td>brown</td>\n",
       "      <td>Human</td>\n",
       "      <td>Brown</td>\n",
       "      <td>211</td>\n",
       "      <td>Marvel Comics</td>\n",
       "      <td>-</td>\n",
       "      <td>bad</td>\n",
       "      <td>310</td>\n",
       "    </tr>\n",
       "    <tr>\n",
       "      <th>6</th>\n",
       "      <td>586</td>\n",
       "      <td>Shadow King</td>\n",
       "      <td>-</td>\n",
       "      <td>red</td>\n",
       "      <td>-</td>\n",
       "      <td>-</td>\n",
       "      <td>185</td>\n",
       "      <td>Marvel Comics</td>\n",
       "      <td>-</td>\n",
       "      <td>good</td>\n",
       "      <td>149</td>\n",
       "    </tr>\n",
       "    <tr>\n",
       "      <th>7</th>\n",
       "      <td>640</td>\n",
       "      <td>Storm</td>\n",
       "      <td>Female</td>\n",
       "      <td>blue</td>\n",
       "      <td>Mutant</td>\n",
       "      <td>White</td>\n",
       "      <td>180</td>\n",
       "      <td>Marvel Comics</td>\n",
       "      <td>-</td>\n",
       "      <td>good</td>\n",
       "      <td>57</td>\n",
       "    </tr>\n",
       "  </tbody>\n",
       "</table>\n",
       "</div>"
      ],
      "text/plain": [
       "    ID          name  Gender Eye color               Race Hair color Height  \\\n",
       "0  175  Chuck Norris    Male         -                  -          -    178   \n",
       "1  210       Dazzler  Female      blue             Mutant      Blond    173   \n",
       "2  256      Firebird  Female     brown                  -      Black    165   \n",
       "3  298  Green Goblin    Male      blue              Human     Auburn    180   \n",
       "4  331          Hulk    Male     green  Human / Radiation      Green    244   \n",
       "5  583      Scorpion    Male     brown              Human      Brown    211   \n",
       "6  586   Shadow King       -       red                  -          -    185   \n",
       "7  640         Storm  Female      blue             Mutant      White    180   \n",
       "\n",
       "       Publisher Skin color Alignment Weight  \n",
       "0           None          -      good    -99  \n",
       "1  Marvel Comics          -      good     52  \n",
       "2  Marvel Comics          -      good     56  \n",
       "3  Marvel Comics          -       bad     83  \n",
       "4  Marvel Comics      green      good    630  \n",
       "5  Marvel Comics          -       bad    310  \n",
       "6  Marvel Comics          -      good    149  \n",
       "7  Marvel Comics          -      good     57  "
      ]
     },
     "execution_count": 15,
     "metadata": {},
     "output_type": "execute_result"
    }
   ],
   "source": [
    "(sample := \n",
    " heroes\n",
    " .sample(fraction=0.01)\n",
    ").toPandas()"
   ]
  },
  {
   "cell_type": "markdown",
   "metadata": {},
   "source": [
    "#### Use `toPandas` to collect the whole table (careful...)"
   ]
  },
  {
   "cell_type": "code",
   "execution_count": 16,
   "metadata": {},
   "outputs": [
    {
     "data": {
      "text/html": [
       "<div>\n",
       "<style scoped>\n",
       "    .dataframe tbody tr th:only-of-type {\n",
       "        vertical-align: middle;\n",
       "    }\n",
       "\n",
       "    .dataframe tbody tr th {\n",
       "        vertical-align: top;\n",
       "    }\n",
       "\n",
       "    .dataframe thead th {\n",
       "        text-align: right;\n",
       "    }\n",
       "</style>\n",
       "<table border=\"1\" class=\"dataframe\">\n",
       "  <thead>\n",
       "    <tr style=\"text-align: right;\">\n",
       "      <th></th>\n",
       "      <th>ID</th>\n",
       "      <th>name</th>\n",
       "      <th>Gender</th>\n",
       "      <th>Eye color</th>\n",
       "      <th>Race</th>\n",
       "      <th>Hair color</th>\n",
       "      <th>Height</th>\n",
       "      <th>Publisher</th>\n",
       "      <th>Skin color</th>\n",
       "      <th>Alignment</th>\n",
       "      <th>Weight</th>\n",
       "    </tr>\n",
       "  </thead>\n",
       "  <tbody>\n",
       "    <tr>\n",
       "      <th>0</th>\n",
       "      <td>0</td>\n",
       "      <td>A-Bomb</td>\n",
       "      <td>Male</td>\n",
       "      <td>yellow</td>\n",
       "      <td>Human</td>\n",
       "      <td>No Hair</td>\n",
       "      <td>203</td>\n",
       "      <td>Marvel Comics</td>\n",
       "      <td>-</td>\n",
       "      <td>good</td>\n",
       "      <td>441</td>\n",
       "    </tr>\n",
       "    <tr>\n",
       "      <th>1</th>\n",
       "      <td>1</td>\n",
       "      <td>Abe Sapien</td>\n",
       "      <td>Male</td>\n",
       "      <td>blue</td>\n",
       "      <td>Icthyo Sapien</td>\n",
       "      <td>No Hair</td>\n",
       "      <td>191</td>\n",
       "      <td>Dark Horse Comics</td>\n",
       "      <td>blue</td>\n",
       "      <td>good</td>\n",
       "      <td>65</td>\n",
       "    </tr>\n",
       "    <tr>\n",
       "      <th>2</th>\n",
       "      <td>2</td>\n",
       "      <td>Abin Sur</td>\n",
       "      <td>Male</td>\n",
       "      <td>blue</td>\n",
       "      <td>Ungaran</td>\n",
       "      <td>No Hair</td>\n",
       "      <td>185</td>\n",
       "      <td>DC Comics</td>\n",
       "      <td>red</td>\n",
       "      <td>good</td>\n",
       "      <td>90</td>\n",
       "    </tr>\n",
       "    <tr>\n",
       "      <th>3</th>\n",
       "      <td>3</td>\n",
       "      <td>Abomination</td>\n",
       "      <td>Male</td>\n",
       "      <td>green</td>\n",
       "      <td>Human / Radiation</td>\n",
       "      <td>No Hair</td>\n",
       "      <td>203</td>\n",
       "      <td>Marvel Comics</td>\n",
       "      <td>-</td>\n",
       "      <td>bad</td>\n",
       "      <td>441</td>\n",
       "    </tr>\n",
       "    <tr>\n",
       "      <th>4</th>\n",
       "      <td>4</td>\n",
       "      <td>Abraxas</td>\n",
       "      <td>Male</td>\n",
       "      <td>blue</td>\n",
       "      <td>Cosmic Entity</td>\n",
       "      <td>Black</td>\n",
       "      <td>-99</td>\n",
       "      <td>Marvel Comics</td>\n",
       "      <td>-</td>\n",
       "      <td>bad</td>\n",
       "      <td>-99</td>\n",
       "    </tr>\n",
       "    <tr>\n",
       "      <th>...</th>\n",
       "      <td>...</td>\n",
       "      <td>...</td>\n",
       "      <td>...</td>\n",
       "      <td>...</td>\n",
       "      <td>...</td>\n",
       "      <td>...</td>\n",
       "      <td>...</td>\n",
       "      <td>...</td>\n",
       "      <td>...</td>\n",
       "      <td>...</td>\n",
       "      <td>...</td>\n",
       "    </tr>\n",
       "    <tr>\n",
       "      <th>729</th>\n",
       "      <td>729</td>\n",
       "      <td>Yellowjacket II</td>\n",
       "      <td>Female</td>\n",
       "      <td>blue</td>\n",
       "      <td>Human</td>\n",
       "      <td>Strawberry Blond</td>\n",
       "      <td>165</td>\n",
       "      <td>Marvel Comics</td>\n",
       "      <td>-</td>\n",
       "      <td>good</td>\n",
       "      <td>52</td>\n",
       "    </tr>\n",
       "    <tr>\n",
       "      <th>730</th>\n",
       "      <td>730</td>\n",
       "      <td>Ymir</td>\n",
       "      <td>Male</td>\n",
       "      <td>white</td>\n",
       "      <td>Frost Giant</td>\n",
       "      <td>No Hair</td>\n",
       "      <td>304.8</td>\n",
       "      <td>Marvel Comics</td>\n",
       "      <td>white</td>\n",
       "      <td>good</td>\n",
       "      <td>-99</td>\n",
       "    </tr>\n",
       "    <tr>\n",
       "      <th>731</th>\n",
       "      <td>731</td>\n",
       "      <td>Yoda</td>\n",
       "      <td>Male</td>\n",
       "      <td>brown</td>\n",
       "      <td>Yoda's species</td>\n",
       "      <td>White</td>\n",
       "      <td>66</td>\n",
       "      <td>George Lucas</td>\n",
       "      <td>green</td>\n",
       "      <td>good</td>\n",
       "      <td>17</td>\n",
       "    </tr>\n",
       "    <tr>\n",
       "      <th>732</th>\n",
       "      <td>732</td>\n",
       "      <td>Zatanna</td>\n",
       "      <td>Female</td>\n",
       "      <td>blue</td>\n",
       "      <td>Human</td>\n",
       "      <td>Black</td>\n",
       "      <td>170</td>\n",
       "      <td>DC Comics</td>\n",
       "      <td>-</td>\n",
       "      <td>good</td>\n",
       "      <td>57</td>\n",
       "    </tr>\n",
       "    <tr>\n",
       "      <th>733</th>\n",
       "      <td>733</td>\n",
       "      <td>Zoom</td>\n",
       "      <td>Male</td>\n",
       "      <td>red</td>\n",
       "      <td>-</td>\n",
       "      <td>Brown</td>\n",
       "      <td>185</td>\n",
       "      <td>DC Comics</td>\n",
       "      <td>-</td>\n",
       "      <td>bad</td>\n",
       "      <td>81</td>\n",
       "    </tr>\n",
       "  </tbody>\n",
       "</table>\n",
       "<p>734 rows × 11 columns</p>\n",
       "</div>"
      ],
      "text/plain": [
       "      ID             name  Gender Eye color               Race  \\\n",
       "0      0           A-Bomb    Male    yellow              Human   \n",
       "1      1       Abe Sapien    Male      blue      Icthyo Sapien   \n",
       "2      2         Abin Sur    Male      blue            Ungaran   \n",
       "3      3      Abomination    Male     green  Human / Radiation   \n",
       "4      4          Abraxas    Male      blue      Cosmic Entity   \n",
       "..   ...              ...     ...       ...                ...   \n",
       "729  729  Yellowjacket II  Female      blue              Human   \n",
       "730  730             Ymir    Male     white        Frost Giant   \n",
       "731  731             Yoda    Male     brown     Yoda's species   \n",
       "732  732          Zatanna  Female      blue              Human   \n",
       "733  733             Zoom    Male       red                  -   \n",
       "\n",
       "           Hair color Height          Publisher Skin color Alignment Weight  \n",
       "0             No Hair    203      Marvel Comics          -      good    441  \n",
       "1             No Hair    191  Dark Horse Comics       blue      good     65  \n",
       "2             No Hair    185          DC Comics        red      good     90  \n",
       "3             No Hair    203      Marvel Comics          -       bad    441  \n",
       "4               Black    -99      Marvel Comics          -       bad    -99  \n",
       "..                ...    ...                ...        ...       ...    ...  \n",
       "729  Strawberry Blond    165      Marvel Comics          -      good     52  \n",
       "730           No Hair  304.8      Marvel Comics      white      good    -99  \n",
       "731             White     66       George Lucas      green      good     17  \n",
       "732             Black    170          DC Comics          -      good     57  \n",
       "733             Brown    185          DC Comics          -       bad     81  \n",
       "\n",
       "[734 rows x 11 columns]"
      ]
     },
     "execution_count": 16,
     "metadata": {},
     "output_type": "execute_result"
    }
   ],
   "source": [
    "heroes.toPandas()"
   ]
  },
  {
   "cell_type": "markdown",
   "metadata": {
    "id": "zndd6lmLRy3H"
   },
   "source": [
    "## Houston, we have a problem! (Did you notice?)\n",
    "\n",
    "<img src=\"https://github.com/wsu-stat489/module5_intro_to_pyspark/blob/main/img/pyspark_missing_values.png?raw=1\" width=400>"
   ]
  },
  {
   "cell_type": "markdown",
   "metadata": {
    "id": "rCqrpp4aRy3I"
   },
   "source": [
    "### Specifying a `nullValue`"
   ]
  },
  {
   "cell_type": "code",
   "execution_count": 17,
   "metadata": {
    "colab": {
     "base_uri": "https://localhost:8080/",
     "height": 204
    },
    "id": "043y77KwRy3J",
    "outputId": "7df9356e-1b88-4bdf-c8ae-2983607c2a75"
   },
   "outputs": [
    {
     "data": {
      "text/html": [
       "<div>\n",
       "<style scoped>\n",
       "    .dataframe tbody tr th:only-of-type {\n",
       "        vertical-align: middle;\n",
       "    }\n",
       "\n",
       "    .dataframe tbody tr th {\n",
       "        vertical-align: top;\n",
       "    }\n",
       "\n",
       "    .dataframe thead th {\n",
       "        text-align: right;\n",
       "    }\n",
       "</style>\n",
       "<table border=\"1\" class=\"dataframe\">\n",
       "  <thead>\n",
       "    <tr style=\"text-align: right;\">\n",
       "      <th></th>\n",
       "      <th>ID</th>\n",
       "      <th>name</th>\n",
       "      <th>Gender</th>\n",
       "      <th>Eye color</th>\n",
       "      <th>Race</th>\n",
       "      <th>Hair color</th>\n",
       "      <th>Height</th>\n",
       "      <th>Publisher</th>\n",
       "      <th>Skin color</th>\n",
       "      <th>Alignment</th>\n",
       "      <th>Weight</th>\n",
       "    </tr>\n",
       "  </thead>\n",
       "  <tbody>\n",
       "    <tr>\n",
       "      <th>0</th>\n",
       "      <td>0</td>\n",
       "      <td>A-Bomb</td>\n",
       "      <td>Male</td>\n",
       "      <td>yellow</td>\n",
       "      <td>Human</td>\n",
       "      <td>No Hair</td>\n",
       "      <td>203</td>\n",
       "      <td>Marvel Comics</td>\n",
       "      <td>None</td>\n",
       "      <td>good</td>\n",
       "      <td>441</td>\n",
       "    </tr>\n",
       "    <tr>\n",
       "      <th>1</th>\n",
       "      <td>1</td>\n",
       "      <td>Abe Sapien</td>\n",
       "      <td>Male</td>\n",
       "      <td>blue</td>\n",
       "      <td>Icthyo Sapien</td>\n",
       "      <td>No Hair</td>\n",
       "      <td>191</td>\n",
       "      <td>Dark Horse Comics</td>\n",
       "      <td>blue</td>\n",
       "      <td>good</td>\n",
       "      <td>65</td>\n",
       "    </tr>\n",
       "    <tr>\n",
       "      <th>2</th>\n",
       "      <td>2</td>\n",
       "      <td>Abin Sur</td>\n",
       "      <td>Male</td>\n",
       "      <td>blue</td>\n",
       "      <td>Ungaran</td>\n",
       "      <td>No Hair</td>\n",
       "      <td>185</td>\n",
       "      <td>DC Comics</td>\n",
       "      <td>red</td>\n",
       "      <td>good</td>\n",
       "      <td>90</td>\n",
       "    </tr>\n",
       "    <tr>\n",
       "      <th>3</th>\n",
       "      <td>3</td>\n",
       "      <td>Abomination</td>\n",
       "      <td>Male</td>\n",
       "      <td>green</td>\n",
       "      <td>Human / Radiation</td>\n",
       "      <td>No Hair</td>\n",
       "      <td>203</td>\n",
       "      <td>Marvel Comics</td>\n",
       "      <td>None</td>\n",
       "      <td>bad</td>\n",
       "      <td>441</td>\n",
       "    </tr>\n",
       "    <tr>\n",
       "      <th>4</th>\n",
       "      <td>4</td>\n",
       "      <td>Abraxas</td>\n",
       "      <td>Male</td>\n",
       "      <td>blue</td>\n",
       "      <td>Cosmic Entity</td>\n",
       "      <td>Black</td>\n",
       "      <td>-99</td>\n",
       "      <td>Marvel Comics</td>\n",
       "      <td>None</td>\n",
       "      <td>bad</td>\n",
       "      <td>-99</td>\n",
       "    </tr>\n",
       "  </tbody>\n",
       "</table>\n",
       "</div>"
      ],
      "text/plain": [
       "  ID         name Gender Eye color               Race Hair color Height  \\\n",
       "0  0       A-Bomb   Male    yellow              Human    No Hair    203   \n",
       "1  1   Abe Sapien   Male      blue      Icthyo Sapien    No Hair    191   \n",
       "2  2     Abin Sur   Male      blue            Ungaran    No Hair    185   \n",
       "3  3  Abomination   Male     green  Human / Radiation    No Hair    203   \n",
       "4  4      Abraxas   Male      blue      Cosmic Entity      Black    -99   \n",
       "\n",
       "           Publisher Skin color Alignment Weight  \n",
       "0      Marvel Comics       None      good    441  \n",
       "1  Dark Horse Comics       blue      good     65  \n",
       "2          DC Comics        red      good     90  \n",
       "3      Marvel Comics       None       bad    441  \n",
       "4      Marvel Comics       None       bad    -99  "
      ]
     },
     "execution_count": 17,
     "metadata": {},
     "output_type": "execute_result"
    }
   ],
   "source": [
    "(heroes := \n",
    " spark.read.csv('./data/heroes_information.csv', header=True, nullValue='-')\n",
    ").limit(5).toPandas()"
   ]
  },
  {
   "cell_type": "markdown",
   "metadata": {
    "id": "bt-HmftzRy3K"
   },
   "source": [
    "### Did you notice?\n",
    "\n",
    "<img src=\"https://github.com/wsu-stat489/module5_intro_to_pyspark/blob/main/img/pyspark_default_types.png?raw=1\" width=400>\n",
    "\n",
    "Default type is a string"
   ]
  },
  {
   "cell_type": "markdown",
   "metadata": {
    "id": "wqF2ZmQTRy3L"
   },
   "source": [
    "### Letting `spark` guess the types\n",
    "\n",
    "Set `inferScheme=True` "
   ]
  },
  {
   "cell_type": "code",
   "execution_count": 18,
   "metadata": {
    "colab": {
     "base_uri": "https://localhost:8080/"
    },
    "id": "L0n7j00LRy3L",
    "outputId": "a19118c7-db70-4854-82d7-e93624639ff0"
   },
   "outputs": [
    {
     "data": {
      "text/plain": [
       "DataFrame[ID: int, name: string, Gender: string, Eye color: string, Race: string, Hair color: string, Height: double, Publisher: string, Skin color: string, Alignment: string, Weight: int]"
      ]
     },
     "execution_count": 18,
     "metadata": {},
     "output_type": "execute_result"
    }
   ],
   "source": [
    "(heroes := \n",
    " spark.read.csv('./data/heroes_information.csv', header=True, inferSchema=True, nullValue='-')\n",
    ")"
   ]
  },
  {
   "cell_type": "markdown",
   "metadata": {
    "id": "77ULZOaHRy3L"
   },
   "source": [
    "## Checking the column types after `inferScheme`\n",
    "\n",
    "In this case, `spark` guessed correctly"
   ]
  },
  {
   "cell_type": "code",
   "execution_count": 19,
   "metadata": {
    "colab": {
     "base_uri": "https://localhost:8080/"
    },
    "id": "W_U8DQmzRy3M",
    "outputId": "59702167-afff-471d-a6f6-9537e8097a0b"
   },
   "outputs": [
    {
     "name": "stdout",
     "output_type": "stream",
     "text": [
      "root\n",
      " |-- ID: integer (nullable = true)\n",
      " |-- name: string (nullable = true)\n",
      " |-- Gender: string (nullable = true)\n",
      " |-- Eye color: string (nullable = true)\n",
      " |-- Race: string (nullable = true)\n",
      " |-- Hair color: string (nullable = true)\n",
      " |-- Height: double (nullable = true)\n",
      " |-- Publisher: string (nullable = true)\n",
      " |-- Skin color: string (nullable = true)\n",
      " |-- Alignment: string (nullable = true)\n",
      " |-- Weight: integer (nullable = true)\n",
      "\n"
     ]
    }
   ],
   "source": [
    "heroes.printSchema()"
   ]
  },
  {
   "cell_type": "markdown",
   "metadata": {
    "id": "Fkheoz2-Ry3M"
   },
   "source": [
    "## Inspecting the content - `limit(5).toPandas()`"
   ]
  },
  {
   "cell_type": "code",
   "execution_count": 20,
   "metadata": {
    "colab": {
     "base_uri": "https://localhost:8080/"
    },
    "id": "RpX44QYnRy3M",
    "outputId": "24b31847-b756-4e3c-8965-bedd2aafb1ce"
   },
   "outputs": [
    {
     "data": {
      "text/html": [
       "<div>\n",
       "<style scoped>\n",
       "    .dataframe tbody tr th:only-of-type {\n",
       "        vertical-align: middle;\n",
       "    }\n",
       "\n",
       "    .dataframe tbody tr th {\n",
       "        vertical-align: top;\n",
       "    }\n",
       "\n",
       "    .dataframe thead th {\n",
       "        text-align: right;\n",
       "    }\n",
       "</style>\n",
       "<table border=\"1\" class=\"dataframe\">\n",
       "  <thead>\n",
       "    <tr style=\"text-align: right;\">\n",
       "      <th></th>\n",
       "      <th>ID</th>\n",
       "      <th>name</th>\n",
       "      <th>Gender</th>\n",
       "      <th>Eye color</th>\n",
       "      <th>Race</th>\n",
       "      <th>Hair color</th>\n",
       "      <th>Height</th>\n",
       "      <th>Publisher</th>\n",
       "      <th>Skin color</th>\n",
       "      <th>Alignment</th>\n",
       "      <th>Weight</th>\n",
       "    </tr>\n",
       "  </thead>\n",
       "  <tbody>\n",
       "    <tr>\n",
       "      <th>0</th>\n",
       "      <td>0</td>\n",
       "      <td>A-Bomb</td>\n",
       "      <td>Male</td>\n",
       "      <td>yellow</td>\n",
       "      <td>Human</td>\n",
       "      <td>No Hair</td>\n",
       "      <td>203.0</td>\n",
       "      <td>Marvel Comics</td>\n",
       "      <td>None</td>\n",
       "      <td>good</td>\n",
       "      <td>441</td>\n",
       "    </tr>\n",
       "    <tr>\n",
       "      <th>1</th>\n",
       "      <td>1</td>\n",
       "      <td>Abe Sapien</td>\n",
       "      <td>Male</td>\n",
       "      <td>blue</td>\n",
       "      <td>Icthyo Sapien</td>\n",
       "      <td>No Hair</td>\n",
       "      <td>191.0</td>\n",
       "      <td>Dark Horse Comics</td>\n",
       "      <td>blue</td>\n",
       "      <td>good</td>\n",
       "      <td>65</td>\n",
       "    </tr>\n",
       "    <tr>\n",
       "      <th>2</th>\n",
       "      <td>2</td>\n",
       "      <td>Abin Sur</td>\n",
       "      <td>Male</td>\n",
       "      <td>blue</td>\n",
       "      <td>Ungaran</td>\n",
       "      <td>No Hair</td>\n",
       "      <td>185.0</td>\n",
       "      <td>DC Comics</td>\n",
       "      <td>red</td>\n",
       "      <td>good</td>\n",
       "      <td>90</td>\n",
       "    </tr>\n",
       "    <tr>\n",
       "      <th>3</th>\n",
       "      <td>3</td>\n",
       "      <td>Abomination</td>\n",
       "      <td>Male</td>\n",
       "      <td>green</td>\n",
       "      <td>Human / Radiation</td>\n",
       "      <td>No Hair</td>\n",
       "      <td>203.0</td>\n",
       "      <td>Marvel Comics</td>\n",
       "      <td>None</td>\n",
       "      <td>bad</td>\n",
       "      <td>441</td>\n",
       "    </tr>\n",
       "    <tr>\n",
       "      <th>4</th>\n",
       "      <td>4</td>\n",
       "      <td>Abraxas</td>\n",
       "      <td>Male</td>\n",
       "      <td>blue</td>\n",
       "      <td>Cosmic Entity</td>\n",
       "      <td>Black</td>\n",
       "      <td>-99.0</td>\n",
       "      <td>Marvel Comics</td>\n",
       "      <td>None</td>\n",
       "      <td>bad</td>\n",
       "      <td>-99</td>\n",
       "    </tr>\n",
       "  </tbody>\n",
       "</table>\n",
       "</div>"
      ],
      "text/plain": [
       "   ID         name Gender Eye color               Race Hair color  Height  \\\n",
       "0   0       A-Bomb   Male    yellow              Human    No Hair   203.0   \n",
       "1   1   Abe Sapien   Male      blue      Icthyo Sapien    No Hair   191.0   \n",
       "2   2     Abin Sur   Male      blue            Ungaran    No Hair   185.0   \n",
       "3   3  Abomination   Male     green  Human / Radiation    No Hair   203.0   \n",
       "4   4      Abraxas   Male      blue      Cosmic Entity      Black   -99.0   \n",
       "\n",
       "           Publisher Skin color Alignment  Weight  \n",
       "0      Marvel Comics       None      good     441  \n",
       "1  Dark Horse Comics       blue      good      65  \n",
       "2          DC Comics        red      good      90  \n",
       "3      Marvel Comics       None       bad     441  \n",
       "4      Marvel Comics       None       bad     -99  "
      ]
     },
     "execution_count": 20,
     "metadata": {},
     "output_type": "execute_result"
    }
   ],
   "source": [
    "heroes.limit(5).toPandas()"
   ]
  },
  {
   "cell_type": "markdown",
   "metadata": {
    "id": "AN6uO88SRy3N"
   },
   "source": [
    "## Explicit `schema` specification\n",
    "\n",
    "Format is `add(name, type, nullable?)`"
   ]
  },
  {
   "cell_type": "code",
   "execution_count": 21,
   "metadata": {
    "colab": {
     "base_uri": "https://localhost:8080/"
    },
    "id": "iKU5rzjfRy3N",
    "outputId": "fbed303c-9314-4a71-e63b-ba44f485926a"
   },
   "outputs": [
    {
     "data": {
      "text/html": [
       "<div>\n",
       "<style scoped>\n",
       "    .dataframe tbody tr th:only-of-type {\n",
       "        vertical-align: middle;\n",
       "    }\n",
       "\n",
       "    .dataframe tbody tr th {\n",
       "        vertical-align: top;\n",
       "    }\n",
       "\n",
       "    .dataframe thead th {\n",
       "        text-align: right;\n",
       "    }\n",
       "</style>\n",
       "<table border=\"1\" class=\"dataframe\">\n",
       "  <thead>\n",
       "    <tr style=\"text-align: right;\">\n",
       "      <th></th>\n",
       "      <th>Id</th>\n",
       "      <th>name</th>\n",
       "      <th>Gender</th>\n",
       "      <th>Eye color</th>\n",
       "      <th>Race</th>\n",
       "      <th>Hair color</th>\n",
       "      <th>Height</th>\n",
       "      <th>Publisher</th>\n",
       "      <th>Skin color</th>\n",
       "      <th>Alignment</th>\n",
       "      <th>Weight</th>\n",
       "    </tr>\n",
       "  </thead>\n",
       "  <tbody>\n",
       "    <tr>\n",
       "      <th>0</th>\n",
       "      <td>0</td>\n",
       "      <td>A-Bomb</td>\n",
       "      <td>Male</td>\n",
       "      <td>yellow</td>\n",
       "      <td>Human</td>\n",
       "      <td>No Hair</td>\n",
       "      <td>203.0</td>\n",
       "      <td>Marvel Comics</td>\n",
       "      <td>None</td>\n",
       "      <td>good</td>\n",
       "      <td>441.0</td>\n",
       "    </tr>\n",
       "    <tr>\n",
       "      <th>1</th>\n",
       "      <td>1</td>\n",
       "      <td>Abe Sapien</td>\n",
       "      <td>Male</td>\n",
       "      <td>blue</td>\n",
       "      <td>Icthyo Sapien</td>\n",
       "      <td>No Hair</td>\n",
       "      <td>191.0</td>\n",
       "      <td>Dark Horse Comics</td>\n",
       "      <td>blue</td>\n",
       "      <td>good</td>\n",
       "      <td>65.0</td>\n",
       "    </tr>\n",
       "    <tr>\n",
       "      <th>2</th>\n",
       "      <td>2</td>\n",
       "      <td>Abin Sur</td>\n",
       "      <td>Male</td>\n",
       "      <td>blue</td>\n",
       "      <td>Ungaran</td>\n",
       "      <td>No Hair</td>\n",
       "      <td>185.0</td>\n",
       "      <td>DC Comics</td>\n",
       "      <td>red</td>\n",
       "      <td>good</td>\n",
       "      <td>90.0</td>\n",
       "    </tr>\n",
       "    <tr>\n",
       "      <th>3</th>\n",
       "      <td>3</td>\n",
       "      <td>Abomination</td>\n",
       "      <td>Male</td>\n",
       "      <td>green</td>\n",
       "      <td>Human / Radiation</td>\n",
       "      <td>No Hair</td>\n",
       "      <td>203.0</td>\n",
       "      <td>Marvel Comics</td>\n",
       "      <td>None</td>\n",
       "      <td>bad</td>\n",
       "      <td>441.0</td>\n",
       "    </tr>\n",
       "    <tr>\n",
       "      <th>4</th>\n",
       "      <td>4</td>\n",
       "      <td>Abraxas</td>\n",
       "      <td>Male</td>\n",
       "      <td>blue</td>\n",
       "      <td>Cosmic Entity</td>\n",
       "      <td>Black</td>\n",
       "      <td>-99.0</td>\n",
       "      <td>Marvel Comics</td>\n",
       "      <td>None</td>\n",
       "      <td>bad</td>\n",
       "      <td>-99.0</td>\n",
       "    </tr>\n",
       "  </tbody>\n",
       "</table>\n",
       "</div>"
      ],
      "text/plain": [
       "   Id         name Gender Eye color               Race Hair color  Height  \\\n",
       "0   0       A-Bomb   Male    yellow              Human    No Hair   203.0   \n",
       "1   1   Abe Sapien   Male      blue      Icthyo Sapien    No Hair   191.0   \n",
       "2   2     Abin Sur   Male      blue            Ungaran    No Hair   185.0   \n",
       "3   3  Abomination   Male     green  Human / Radiation    No Hair   203.0   \n",
       "4   4      Abraxas   Male      blue      Cosmic Entity      Black   -99.0   \n",
       "\n",
       "           Publisher Skin color Alignment  Weight  \n",
       "0      Marvel Comics       None      good   441.0  \n",
       "1  Dark Horse Comics       blue      good    65.0  \n",
       "2          DC Comics        red      good    90.0  \n",
       "3      Marvel Comics       None       bad   441.0  \n",
       "4      Marvel Comics       None       bad   -99.0  "
      ]
     },
     "execution_count": 21,
     "metadata": {},
     "output_type": "execute_result"
    }
   ],
   "source": [
    "from pyspark.sql.types import StructType\n",
    "from pyspark.sql.types import DoubleType, StringType, IntegerType\n",
    "\n",
    "hero_schema = (StructType()\n",
    "  .add('Id', IntegerType(), False)\n",
    "  .add('name', StringType(), True)\n",
    "  .add('Gender', StringType(), True)\n",
    "  .add('Eye color', StringType(), True)\n",
    "  .add('Race', StringType(), True)\n",
    "  .add('Hair color', StringType(), True)\n",
    "  .add('Height', DoubleType(), True)\n",
    "  .add('Publisher', StringType(), True)\n",
    "  .add('Skin color', StringType(), True)\n",
    "  .add('Alignment', StringType(), True)\n",
    "  .add('Weight', DoubleType(), True))\n",
    "\n",
    "(heros := \n",
    " spark.read.csv('./data/heroes_information.csv', header=True, schema=hero_schema, nullValue='-')\n",
    ").limit(5).toPandas()"
   ]
  },
  {
   "cell_type": "markdown",
   "metadata": {
    "id": "8tYN8gakRy3O"
   },
   "source": [
    "## `pyspark.sql` queries are like `SQL` queries"
   ]
  },
  {
   "cell_type": "markdown",
   "metadata": {
    "id": "zOIpIXD3Ry3P"
   },
   "source": [
    "#### Filter, group, and aggregate (categorical)"
   ]
  },
  {
   "cell_type": "code",
   "execution_count": 22,
   "metadata": {
    "colab": {
     "base_uri": "https://localhost:8080/",
     "height": 204
    },
    "id": "E9_8IAAVRy3P",
    "outputId": "26a8069c-4006-4eba-821e-7f39168f062b"
   },
   "outputs": [
    {
     "data": {
      "text/html": [
       "<div>\n",
       "<style scoped>\n",
       "    .dataframe tbody tr th:only-of-type {\n",
       "        vertical-align: middle;\n",
       "    }\n",
       "\n",
       "    .dataframe tbody tr th {\n",
       "        vertical-align: top;\n",
       "    }\n",
       "\n",
       "    .dataframe thead th {\n",
       "        text-align: right;\n",
       "    }\n",
       "</style>\n",
       "<table border=\"1\" class=\"dataframe\">\n",
       "  <thead>\n",
       "    <tr style=\"text-align: right;\">\n",
       "      <th></th>\n",
       "      <th>Eye color</th>\n",
       "      <th>count</th>\n",
       "    </tr>\n",
       "  </thead>\n",
       "  <tbody>\n",
       "    <tr>\n",
       "      <th>0</th>\n",
       "      <td>grey</td>\n",
       "      <td>6</td>\n",
       "    </tr>\n",
       "    <tr>\n",
       "      <th>1</th>\n",
       "      <td>green</td>\n",
       "      <td>30</td>\n",
       "    </tr>\n",
       "    <tr>\n",
       "      <th>2</th>\n",
       "      <td>yellow</td>\n",
       "      <td>16</td>\n",
       "    </tr>\n",
       "    <tr>\n",
       "      <th>3</th>\n",
       "      <td>bown</td>\n",
       "      <td>1</td>\n",
       "    </tr>\n",
       "    <tr>\n",
       "      <th>4</th>\n",
       "      <td>None</td>\n",
       "      <td>121</td>\n",
       "    </tr>\n",
       "  </tbody>\n",
       "</table>\n",
       "</div>"
      ],
      "text/plain": [
       "  Eye color  count\n",
       "0      grey      6\n",
       "1     green     30\n",
       "2    yellow     16\n",
       "3      bown      1\n",
       "4      None    121"
      ]
     },
     "execution_count": 22,
     "metadata": {},
     "output_type": "execute_result"
    }
   ],
   "source": [
    "(heroes\n",
    ".where(col('Gender') == 'Male')\n",
    ".groupby('Eye color')\n",
    ".count()\n",
    ".limit(5)\n",
    ").toPandas()"
   ]
  },
  {
   "cell_type": "markdown",
   "metadata": {
    "id": "_A-XJLCaRy3P"
   },
   "source": [
    "#### Group by multiple and aggregate (categorical)"
   ]
  },
  {
   "cell_type": "code",
   "execution_count": 23,
   "metadata": {},
   "outputs": [
    {
     "data": {
      "text/html": [
       "<div>\n",
       "<style scoped>\n",
       "    .dataframe tbody tr th:only-of-type {\n",
       "        vertical-align: middle;\n",
       "    }\n",
       "\n",
       "    .dataframe tbody tr th {\n",
       "        vertical-align: top;\n",
       "    }\n",
       "\n",
       "    .dataframe thead th {\n",
       "        text-align: right;\n",
       "    }\n",
       "</style>\n",
       "<table border=\"1\" class=\"dataframe\">\n",
       "  <thead>\n",
       "    <tr style=\"text-align: right;\">\n",
       "      <th></th>\n",
       "      <th>Eye color</th>\n",
       "      <th>Gender</th>\n",
       "      <th>count</th>\n",
       "    </tr>\n",
       "  </thead>\n",
       "  <tbody>\n",
       "    <tr>\n",
       "      <th>0</th>\n",
       "      <td>yellow (without irises)</td>\n",
       "      <td>None</td>\n",
       "      <td>1</td>\n",
       "    </tr>\n",
       "    <tr>\n",
       "      <th>1</th>\n",
       "      <td>green</td>\n",
       "      <td>Male</td>\n",
       "      <td>30</td>\n",
       "    </tr>\n",
       "    <tr>\n",
       "      <th>2</th>\n",
       "      <td>violet</td>\n",
       "      <td>Female</td>\n",
       "      <td>2</td>\n",
       "    </tr>\n",
       "    <tr>\n",
       "      <th>3</th>\n",
       "      <td>hazel</td>\n",
       "      <td>Female</td>\n",
       "      <td>3</td>\n",
       "    </tr>\n",
       "    <tr>\n",
       "      <th>4</th>\n",
       "      <td>blue</td>\n",
       "      <td>Male</td>\n",
       "      <td>143</td>\n",
       "    </tr>\n",
       "  </tbody>\n",
       "</table>\n",
       "</div>"
      ],
      "text/plain": [
       "                 Eye color  Gender  count\n",
       "0  yellow (without irises)    None      1\n",
       "1                    green    Male     30\n",
       "2                   violet  Female      2\n",
       "3                    hazel  Female      3\n",
       "4                     blue    Male    143"
      ]
     },
     "execution_count": 23,
     "metadata": {},
     "output_type": "execute_result"
    }
   ],
   "source": [
    "(heroes\n",
    " .groupby('Eye color', 'Gender')\n",
    " .count()\n",
    " .limit(5)\n",
    ").toPandas()"
   ]
  },
  {
   "cell_type": "markdown",
   "metadata": {
    "id": "ajOYRVqQRy3Q"
   },
   "source": [
    "## <font color=\"red\"> Exercise 4.2 </font>\n",
    "\n",
    "First, define a `schema` and read in `./data/super_hero_powers.csv`, then perform `pyspark.sql` queries to answer each of the following questions.\n",
    "\n",
    "1. How many heroes have both Super Strength and Super Speed?\n",
    "2. How many heroes have names that start with the word *Black*\n",
    "3. Are heroes with Agility more likely to have Stealth?\n",
    "4. What fraction of all heroes that can fly also have Super Strength?\n",
    "5. Consider heroes that have names that contain `\"girl\"`, `\"boy\"`, `\"woman\"`, or `\"man\"`.  Compute the following ratio\n",
    "\n",
    "$$\\frac{N(\\text{boy or man})}{N(\\text{girl or woman}}$$\n",
    "\n",
    "**Hint:** You will need to use some combination of `where`, `group_by`, and `count` for each part."
   ]
  },
  {
   "cell_type": "code",
   "execution_count": 24,
   "metadata": {},
   "outputs": [
    {
     "name": "stdout",
     "output_type": "stream",
     "text": [
      "-rwxrwxrwx 1 jb5983on     46276 Nov 11 21:30 heroes_information.csv\n",
      "-rwxrwxrwx 1 jb5983on    672305 Nov 11 21:30 super_hero_powers.csv\n"
     ]
    }
   ],
   "source": [
    "%%bash\n",
    "\n",
    "ls -alG data | grep hero"
   ]
  },
  {
   "cell_type": "code",
   "execution_count": 31,
   "metadata": {
    "id": "LnmzuneIRy3O"
   },
   "outputs": [
    {
     "name": "stdout",
     "output_type": "stream",
     "text": [
      "root\n",
      " |-- hero_names: string (nullable = true)\n",
      " |-- Agility: boolean (nullable = true)\n",
      " |-- Accelerated Healing: boolean (nullable = true)\n",
      " |-- Lantern Power Ring: boolean (nullable = true)\n",
      " |-- Dimensional Awareness: boolean (nullable = true)\n",
      " |-- Cold Resistance: boolean (nullable = true)\n",
      " |-- Durability: boolean (nullable = true)\n",
      " |-- Stealth: boolean (nullable = true)\n",
      " |-- Energy Absorption: boolean (nullable = true)\n",
      " |-- Flight: boolean (nullable = true)\n",
      " |-- Danger Sense: boolean (nullable = true)\n",
      " |-- Underwater breathing: boolean (nullable = true)\n",
      " |-- Marksmanship: boolean (nullable = true)\n",
      " |-- Weapons Master: boolean (nullable = true)\n",
      " |-- Power Augmentation: boolean (nullable = true)\n",
      " |-- Animal Attributes: boolean (nullable = true)\n",
      " |-- Longevity: boolean (nullable = true)\n",
      " |-- Intelligence: boolean (nullable = true)\n",
      " |-- Super Strength: boolean (nullable = true)\n",
      " |-- Cryokinesis: boolean (nullable = true)\n",
      " |-- Telepathy: boolean (nullable = true)\n",
      " |-- Energy Armor: boolean (nullable = true)\n",
      " |-- Energy Blasts: boolean (nullable = true)\n",
      " |-- Duplication: boolean (nullable = true)\n",
      " |-- Size Changing: boolean (nullable = true)\n",
      " |-- Density Control: boolean (nullable = true)\n",
      " |-- Stamina: boolean (nullable = true)\n",
      " |-- Astral Travel: boolean (nullable = true)\n",
      " |-- Audio Control: boolean (nullable = true)\n",
      " |-- Dexterity: boolean (nullable = true)\n",
      " |-- Omnitrix: boolean (nullable = true)\n",
      " |-- Super Speed: boolean (nullable = true)\n",
      " |-- Possession: boolean (nullable = true)\n",
      " |-- Animal Oriented Powers: boolean (nullable = true)\n",
      " |-- Weapon-based Powers: boolean (nullable = true)\n",
      " |-- Electrokinesis: boolean (nullable = true)\n",
      " |-- Darkforce Manipulation: boolean (nullable = true)\n",
      " |-- Death Touch: boolean (nullable = true)\n",
      " |-- Teleportation: boolean (nullable = true)\n",
      " |-- Enhanced Senses: boolean (nullable = true)\n",
      " |-- Telekinesis: boolean (nullable = true)\n",
      " |-- Energy Beams: boolean (nullable = true)\n",
      " |-- Magic: boolean (nullable = true)\n",
      " |-- Hyperkinesis: boolean (nullable = true)\n",
      " |-- Jump: boolean (nullable = true)\n",
      " |-- Clairvoyance: boolean (nullable = true)\n",
      " |-- Dimensional Travel: boolean (nullable = true)\n",
      " |-- Power Sense: boolean (nullable = true)\n",
      " |-- Shapeshifting: boolean (nullable = true)\n",
      " |-- Peak Human Condition: boolean (nullable = true)\n",
      " |-- Immortality: boolean (nullable = true)\n",
      " |-- Camouflage: boolean (nullable = true)\n",
      " |-- Element Control: boolean (nullable = true)\n",
      " |-- Phasing: boolean (nullable = true)\n",
      " |-- Astral Projection: boolean (nullable = true)\n",
      " |-- Electrical Transport: boolean (nullable = true)\n",
      " |-- Fire Control: boolean (nullable = true)\n",
      " |-- Projection: boolean (nullable = true)\n",
      " |-- Summoning: boolean (nullable = true)\n",
      " |-- Enhanced Memory: boolean (nullable = true)\n",
      " |-- Reflexes: boolean (nullable = true)\n",
      " |-- Invulnerability: boolean (nullable = true)\n",
      " |-- Energy Constructs: boolean (nullable = true)\n",
      " |-- Force Fields: boolean (nullable = true)\n",
      " |-- Self-Sustenance: boolean (nullable = true)\n",
      " |-- Anti-Gravity: boolean (nullable = true)\n",
      " |-- Empathy: boolean (nullable = true)\n",
      " |-- Power Nullifier: boolean (nullable = true)\n",
      " |-- Radiation Control: boolean (nullable = true)\n",
      " |-- Psionic Powers: boolean (nullable = true)\n",
      " |-- Elasticity: boolean (nullable = true)\n",
      " |-- Substance Secretion: boolean (nullable = true)\n",
      " |-- Elemental Transmogrification: boolean (nullable = true)\n",
      " |-- Technopath/Cyberpath: boolean (nullable = true)\n",
      " |-- Photographic Reflexes: boolean (nullable = true)\n",
      " |-- Seismic Power: boolean (nullable = true)\n",
      " |-- Animation: boolean (nullable = true)\n",
      " |-- Precognition: boolean (nullable = true)\n",
      " |-- Mind Control: boolean (nullable = true)\n",
      " |-- Fire Resistance: boolean (nullable = true)\n",
      " |-- Power Absorption: boolean (nullable = true)\n",
      " |-- Enhanced Hearing: boolean (nullable = true)\n",
      " |-- Nova Force: boolean (nullable = true)\n",
      " |-- Insanity: boolean (nullable = true)\n",
      " |-- Hypnokinesis: boolean (nullable = true)\n",
      " |-- Animal Control: boolean (nullable = true)\n",
      " |-- Natural Armor: boolean (nullable = true)\n",
      " |-- Intangibility: boolean (nullable = true)\n",
      " |-- Enhanced Sight: boolean (nullable = true)\n",
      " |-- Molecular Manipulation: boolean (nullable = true)\n",
      " |-- Heat Generation: boolean (nullable = true)\n",
      " |-- Adaptation: boolean (nullable = true)\n",
      " |-- Gliding: boolean (nullable = true)\n",
      " |-- Power Suit: boolean (nullable = true)\n",
      " |-- Mind Blast: boolean (nullable = true)\n",
      " |-- Probability Manipulation: boolean (nullable = true)\n",
      " |-- Gravity Control: boolean (nullable = true)\n",
      " |-- Regeneration: boolean (nullable = true)\n",
      " |-- Light Control: boolean (nullable = true)\n",
      " |-- Echolocation: boolean (nullable = true)\n",
      " |-- Levitation: boolean (nullable = true)\n",
      " |-- Toxin and Disease Control: boolean (nullable = true)\n",
      " |-- Banish: boolean (nullable = true)\n",
      " |-- Energy Manipulation: boolean (nullable = true)\n",
      " |-- Heat Resistance: boolean (nullable = true)\n",
      " |-- Natural Weapons: boolean (nullable = true)\n",
      " |-- Time Travel: boolean (nullable = true)\n",
      " |-- Enhanced Smell: boolean (nullable = true)\n",
      " |-- Illusions: boolean (nullable = true)\n",
      " |-- Thirstokinesis: boolean (nullable = true)\n",
      " |-- Hair Manipulation: boolean (nullable = true)\n",
      " |-- Illumination: boolean (nullable = true)\n",
      " |-- Omnipotent: boolean (nullable = true)\n",
      " |-- Cloaking: boolean (nullable = true)\n",
      " |-- Changing Armor: boolean (nullable = true)\n",
      " |-- Power Cosmic: boolean (nullable = true)\n",
      " |-- Biokinesis: boolean (nullable = true)\n",
      " |-- Water Control: boolean (nullable = true)\n",
      " |-- Radiation Immunity: boolean (nullable = true)\n",
      " |-- Vision - Telescopic: boolean (nullable = true)\n",
      " |-- Toxin and Disease Resistance: boolean (nullable = true)\n",
      " |-- Spatial Awareness: boolean (nullable = true)\n",
      " |-- Energy Resistance: boolean (nullable = true)\n",
      " |-- Telepathy Resistance: boolean (nullable = true)\n",
      " |-- Molecular Combustion: boolean (nullable = true)\n",
      " |-- Omnilingualism: boolean (nullable = true)\n",
      " |-- Portal Creation: boolean (nullable = true)\n",
      " |-- Magnetism: boolean (nullable = true)\n",
      " |-- Mind Control Resistance: boolean (nullable = true)\n",
      " |-- Plant Control: boolean (nullable = true)\n",
      " |-- Sonar: boolean (nullable = true)\n",
      " |-- Sonic Scream: boolean (nullable = true)\n",
      " |-- Time Manipulation: boolean (nullable = true)\n",
      " |-- Enhanced Touch: boolean (nullable = true)\n",
      " |-- Magic Resistance: boolean (nullable = true)\n",
      " |-- Invisibility: boolean (nullable = true)\n",
      " |-- Sub-Mariner: boolean (nullable = true)\n",
      " |-- Radiation Absorption: boolean (nullable = true)\n",
      " |-- Intuitive aptitude: boolean (nullable = true)\n",
      " |-- Vision - Microscopic: boolean (nullable = true)\n",
      " |-- Melting: boolean (nullable = true)\n",
      " |-- Wind Control: boolean (nullable = true)\n",
      " |-- Super Breath: boolean (nullable = true)\n",
      " |-- Wallcrawling: boolean (nullable = true)\n",
      " |-- Vision - Night: boolean (nullable = true)\n",
      " |-- Vision - Infrared: boolean (nullable = true)\n",
      " |-- Grim Reaping: boolean (nullable = true)\n",
      " |-- Matter Absorption: boolean (nullable = true)\n",
      " |-- The Force: boolean (nullable = true)\n",
      " |-- Resurrection: boolean (nullable = true)\n",
      " |-- Terrakinesis: boolean (nullable = true)\n",
      " |-- Vision - Heat: boolean (nullable = true)\n",
      " |-- Vitakinesis: boolean (nullable = true)\n",
      " |-- Radar Sense: boolean (nullable = true)\n",
      " |-- Qwardian Power Ring: boolean (nullable = true)\n",
      " |-- Weather Control: boolean (nullable = true)\n",
      " |-- Vision - X-Ray: boolean (nullable = true)\n",
      " |-- Vision - Thermal: boolean (nullable = true)\n",
      " |-- Web Creation: boolean (nullable = true)\n",
      " |-- Reality Warping: boolean (nullable = true)\n",
      " |-- Odin Force: boolean (nullable = true)\n",
      " |-- Symbiote Costume: boolean (nullable = true)\n",
      " |-- Speed Force: boolean (nullable = true)\n",
      " |-- Phoenix Force: boolean (nullable = true)\n",
      " |-- Molecular Dissipation: boolean (nullable = true)\n",
      " |-- Vision - Cryo: boolean (nullable = true)\n",
      " |-- Omnipresent: boolean (nullable = true)\n",
      " |-- Omniscient: boolean (nullable = true)\n",
      "\n"
     ]
    }
   ],
   "source": [
    "from pyspark.sql.types import StructType\n",
    "from pyspark.sql.types import BooleanType, StringType \n",
    "\n",
    "(powers := \n",
    " spark.read.csv('./data/super_hero_powers.csv', header=True, inferSchema=True, nullValue='-')\n",
    ")\n",
    "\n",
    "powers.printSchema()"
   ]
  },
  {
   "cell_type": "code",
   "execution_count": 32,
   "metadata": {
    "id": "2ugIMUfSRy3Q"
   },
   "outputs": [
    {
     "data": {
      "text/html": [
       "<div>\n",
       "<style scoped>\n",
       "    .dataframe tbody tr th:only-of-type {\n",
       "        vertical-align: middle;\n",
       "    }\n",
       "\n",
       "    .dataframe tbody tr th {\n",
       "        vertical-align: top;\n",
       "    }\n",
       "\n",
       "    .dataframe thead th {\n",
       "        text-align: right;\n",
       "    }\n",
       "</style>\n",
       "<table border=\"1\" class=\"dataframe\">\n",
       "  <thead>\n",
       "    <tr style=\"text-align: right;\">\n",
       "      <th></th>\n",
       "      <th>hero_names</th>\n",
       "      <th>Agility</th>\n",
       "      <th>Accelerated Healing</th>\n",
       "      <th>Lantern Power Ring</th>\n",
       "      <th>Dimensional Awareness</th>\n",
       "      <th>Cold Resistance</th>\n",
       "      <th>Durability</th>\n",
       "      <th>Stealth</th>\n",
       "      <th>Energy Absorption</th>\n",
       "      <th>Flight</th>\n",
       "      <th>...</th>\n",
       "      <th>Web Creation</th>\n",
       "      <th>Reality Warping</th>\n",
       "      <th>Odin Force</th>\n",
       "      <th>Symbiote Costume</th>\n",
       "      <th>Speed Force</th>\n",
       "      <th>Phoenix Force</th>\n",
       "      <th>Molecular Dissipation</th>\n",
       "      <th>Vision - Cryo</th>\n",
       "      <th>Omnipresent</th>\n",
       "      <th>Omniscient</th>\n",
       "    </tr>\n",
       "  </thead>\n",
       "  <tbody>\n",
       "    <tr>\n",
       "      <th>0</th>\n",
       "      <td>3-D Man</td>\n",
       "      <td>True</td>\n",
       "      <td>False</td>\n",
       "      <td>False</td>\n",
       "      <td>False</td>\n",
       "      <td>False</td>\n",
       "      <td>False</td>\n",
       "      <td>False</td>\n",
       "      <td>False</td>\n",
       "      <td>False</td>\n",
       "      <td>...</td>\n",
       "      <td>False</td>\n",
       "      <td>False</td>\n",
       "      <td>False</td>\n",
       "      <td>False</td>\n",
       "      <td>False</td>\n",
       "      <td>False</td>\n",
       "      <td>False</td>\n",
       "      <td>False</td>\n",
       "      <td>False</td>\n",
       "      <td>False</td>\n",
       "    </tr>\n",
       "    <tr>\n",
       "      <th>1</th>\n",
       "      <td>A-Bomb</td>\n",
       "      <td>False</td>\n",
       "      <td>True</td>\n",
       "      <td>False</td>\n",
       "      <td>False</td>\n",
       "      <td>False</td>\n",
       "      <td>True</td>\n",
       "      <td>False</td>\n",
       "      <td>False</td>\n",
       "      <td>False</td>\n",
       "      <td>...</td>\n",
       "      <td>False</td>\n",
       "      <td>False</td>\n",
       "      <td>False</td>\n",
       "      <td>False</td>\n",
       "      <td>False</td>\n",
       "      <td>False</td>\n",
       "      <td>False</td>\n",
       "      <td>False</td>\n",
       "      <td>False</td>\n",
       "      <td>False</td>\n",
       "    </tr>\n",
       "    <tr>\n",
       "      <th>2</th>\n",
       "      <td>Abe Sapien</td>\n",
       "      <td>True</td>\n",
       "      <td>True</td>\n",
       "      <td>False</td>\n",
       "      <td>False</td>\n",
       "      <td>True</td>\n",
       "      <td>True</td>\n",
       "      <td>False</td>\n",
       "      <td>False</td>\n",
       "      <td>False</td>\n",
       "      <td>...</td>\n",
       "      <td>False</td>\n",
       "      <td>False</td>\n",
       "      <td>False</td>\n",
       "      <td>False</td>\n",
       "      <td>False</td>\n",
       "      <td>False</td>\n",
       "      <td>False</td>\n",
       "      <td>False</td>\n",
       "      <td>False</td>\n",
       "      <td>False</td>\n",
       "    </tr>\n",
       "    <tr>\n",
       "      <th>3</th>\n",
       "      <td>Abin Sur</td>\n",
       "      <td>False</td>\n",
       "      <td>False</td>\n",
       "      <td>True</td>\n",
       "      <td>False</td>\n",
       "      <td>False</td>\n",
       "      <td>False</td>\n",
       "      <td>False</td>\n",
       "      <td>False</td>\n",
       "      <td>False</td>\n",
       "      <td>...</td>\n",
       "      <td>False</td>\n",
       "      <td>False</td>\n",
       "      <td>False</td>\n",
       "      <td>False</td>\n",
       "      <td>False</td>\n",
       "      <td>False</td>\n",
       "      <td>False</td>\n",
       "      <td>False</td>\n",
       "      <td>False</td>\n",
       "      <td>False</td>\n",
       "    </tr>\n",
       "    <tr>\n",
       "      <th>4</th>\n",
       "      <td>Abomination</td>\n",
       "      <td>False</td>\n",
       "      <td>True</td>\n",
       "      <td>False</td>\n",
       "      <td>False</td>\n",
       "      <td>False</td>\n",
       "      <td>False</td>\n",
       "      <td>False</td>\n",
       "      <td>False</td>\n",
       "      <td>False</td>\n",
       "      <td>...</td>\n",
       "      <td>False</td>\n",
       "      <td>False</td>\n",
       "      <td>False</td>\n",
       "      <td>False</td>\n",
       "      <td>False</td>\n",
       "      <td>False</td>\n",
       "      <td>False</td>\n",
       "      <td>False</td>\n",
       "      <td>False</td>\n",
       "      <td>False</td>\n",
       "    </tr>\n",
       "  </tbody>\n",
       "</table>\n",
       "<p>5 rows × 168 columns</p>\n",
       "</div>"
      ],
      "text/plain": [
       "    hero_names  Agility  Accelerated Healing  Lantern Power Ring  \\\n",
       "0      3-D Man     True                False               False   \n",
       "1       A-Bomb    False                 True               False   \n",
       "2   Abe Sapien     True                 True               False   \n",
       "3     Abin Sur    False                False                True   \n",
       "4  Abomination    False                 True               False   \n",
       "\n",
       "   Dimensional Awareness  Cold Resistance  Durability  Stealth  \\\n",
       "0                  False            False       False    False   \n",
       "1                  False            False        True    False   \n",
       "2                  False             True        True    False   \n",
       "3                  False            False       False    False   \n",
       "4                  False            False       False    False   \n",
       "\n",
       "   Energy Absorption  Flight  ...  Web Creation  Reality Warping  Odin Force  \\\n",
       "0              False   False  ...         False            False       False   \n",
       "1              False   False  ...         False            False       False   \n",
       "2              False   False  ...         False            False       False   \n",
       "3              False   False  ...         False            False       False   \n",
       "4              False   False  ...         False            False       False   \n",
       "\n",
       "   Symbiote Costume  Speed Force  Phoenix Force  Molecular Dissipation  \\\n",
       "0             False        False          False                  False   \n",
       "1             False        False          False                  False   \n",
       "2             False        False          False                  False   \n",
       "3             False        False          False                  False   \n",
       "4             False        False          False                  False   \n",
       "\n",
       "   Vision - Cryo  Omnipresent  Omniscient  \n",
       "0          False        False       False  \n",
       "1          False        False       False  \n",
       "2          False        False       False  \n",
       "3          False        False       False  \n",
       "4          False        False       False  \n",
       "\n",
       "[5 rows x 168 columns]"
      ]
     },
     "execution_count": 32,
     "metadata": {},
     "output_type": "execute_result"
    }
   ],
   "source": [
    "powers.limit(5).toPandas()"
   ]
  },
  {
   "cell_type": "code",
   "execution_count": 57,
   "metadata": {},
   "outputs": [
    {
     "data": {
      "text/plain": [
       "219"
      ]
     },
     "execution_count": 57,
     "metadata": {},
     "output_type": "execute_result"
    }
   ],
   "source": [
    "#1\n",
    "(powers\n",
    ".where((col('Super Strength') == True) & (col('Super Speed') == True))\n",
    ".count()\n",
    ")\n",
    "\n",
    "#219 superheros"
   ]
  },
  {
   "cell_type": "code",
   "execution_count": 65,
   "metadata": {},
   "outputs": [
    {
     "data": {
      "text/plain": [
       "16"
      ]
     },
     "execution_count": 65,
     "metadata": {},
     "output_type": "execute_result"
    }
   ],
   "source": [
    "#2\n",
    "(powers\n",
    ".where(col('hero_names').startswith('Black'))\n",
    ".count()\n",
    ")\n",
    "\n",
    "#16 superheros"
   ]
  },
  {
   "cell_type": "code",
   "execution_count": 64,
   "metadata": {},
   "outputs": [
    {
     "data": {
      "text/plain": [
       "0.3925619834710744"
      ]
     },
     "execution_count": 64,
     "metadata": {},
     "output_type": "execute_result"
    }
   ],
   "source": [
    "#3\n",
    "agility = (powers\n",
    "           .where(col('Agility') == True)\n",
    "           .count()\n",
    "           )\n",
    "\n",
    "agility_stealth = (powers\n",
    "                  .where((col('Agility') == True) & \n",
    "                         (col('Stealth') == True))\n",
    "                  .count()\n",
    "                  )\n",
    "\n",
    "likelihood = agility_stealth / agility\n",
    "\n",
    "likelihood\n",
    "\n",
    "#NO, only 39% of superheros with agility also have stealth"
   ]
  },
  {
   "cell_type": "code",
   "execution_count": 70,
   "metadata": {},
   "outputs": [
    {
     "data": {
      "text/plain": [
       "0.6933962264150944"
      ]
     },
     "execution_count": 70,
     "metadata": {},
     "output_type": "execute_result"
    }
   ],
   "source": [
    "#4\n",
    "fly = (powers\n",
    "      .where(col('Flight') == True)\n",
    "      .count()\n",
    "      )\n",
    "\n",
    "fly_strength = (powers\n",
    "               .where((col('Flight') == True) & \n",
    "                      (col('Super Strength') == True))\n",
    "               .count()\n",
    "               )\n",
    "\n",
    "fraction = fly_strength / fly\n",
    "\n",
    "fraction\n",
    "\n",
    "#69% of superheros that can fly also have super strength"
   ]
  },
  {
   "cell_type": "code",
   "execution_count": 77,
   "metadata": {},
   "outputs": [
    {
     "data": {
      "text/plain": [
       "2.9"
      ]
     },
     "execution_count": 77,
     "metadata": {},
     "output_type": "execute_result"
    }
   ],
   "source": [
    "#5\n",
    "man = (powers\n",
    "      .where(((col('hero_names')).contains('boy')) | \n",
    "             ((col('hero_names')).contains('man')))\n",
    "      .count()\n",
    "      )\n",
    "\n",
    "woman = (powers\n",
    "      .where(((col('hero_names')).contains('girl')) | \n",
    "             ((col('hero_names')).contains('woman')))\n",
    "      .count()\n",
    "      )\n",
    "       \n",
    "ratio = man / woman\n",
    "\n",
    "ratio"
   ]
  },
  {
   "cell_type": "markdown",
   "metadata": {
    "id": "GdXTzICWRy3Q"
   },
   "source": [
    "# Appendix"
   ]
  },
  {
   "cell_type": "markdown",
   "metadata": {
    "id": "J_00BgsBRy2z"
   },
   "source": [
    "## Creating a `Row` of data\n",
    "\n",
    "* Use the `Row` class\n",
    "* Pass data using keywords\n",
    "    * key == column name\n",
    "    * value == cell value"
   ]
  },
  {
   "cell_type": "code",
   "execution_count": null,
   "metadata": {
    "colab": {
     "base_uri": "https://localhost:8080/"
    },
    "id": "nYA3aFPZRy2z",
    "outputId": "d23b0d11-980e-4bdb-92a8-319f7d701b37"
   },
   "outputs": [],
   "source": [
    "department1 = Row(id='123456', name='Computer Science')\n",
    "department1"
   ]
  },
  {
   "cell_type": "markdown",
   "metadata": {
    "id": "v2IUtKK2Ry20"
   },
   "source": [
    "## Unpacking a `Row` dictionary\n",
    "\n",
    "* Data is in a row dictionary\n",
    "* Unpack keywords using `**`"
   ]
  },
  {
   "cell_type": "code",
   "execution_count": null,
   "metadata": {
    "colab": {
     "base_uri": "https://localhost:8080/"
    },
    "id": "Sh10MUdoRy20",
    "outputId": "b05e9d73-dd63-4d00-eb3a-4b54b488ce9c",
    "scrolled": true
   },
   "outputs": [],
   "source": [
    "dept2_info = {'id':'789012', 'name':'Mechanical Engineering'}\n",
    "department2 = Row(**dept2_info)\n",
    "department2"
   ]
  },
  {
   "cell_type": "markdown",
   "metadata": {
    "id": "3rgaAdSMRy21"
   },
   "source": [
    "## Unpacking a list of row dictionaries"
   ]
  },
  {
   "cell_type": "code",
   "execution_count": null,
   "metadata": {
    "colab": {
     "base_uri": "https://localhost:8080/"
    },
    "id": "8zphHlUuRy22",
    "outputId": "92d5a800-49f9-4fe4-aa45-4425f3a032e9",
    "scrolled": true
   },
   "outputs": [],
   "source": [
    "dept_info = [{'id':123456, 'name':'Computer Science'},\n",
    "             {'id':789012, 'name':'Mechanical Engineering'},\n",
    "             {'id':345678, 'name':'Theater and Drama'},\n",
    "             {'id':901234, 'name':'Indoor Recreation'}]\n",
    "\n",
    "dept_rows = [Row(**r) for r in dept_info]\n",
    "dept_rows"
   ]
  },
  {
   "cell_type": "markdown",
   "metadata": {
    "id": "qfuTevyXRy23"
   },
   "source": [
    "## Access `Row` content with column attributes"
   ]
  },
  {
   "cell_type": "code",
   "execution_count": null,
   "metadata": {
    "colab": {
     "base_uri": "https://localhost:8080/"
    },
    "id": "hmfDZh-_Ry23",
    "outputId": "afecf886-2df7-4dbd-bf0b-eea540f547ba"
   },
   "outputs": [],
   "source": [
    "[dept.id for dept in dept_rows]"
   ]
  },
  {
   "cell_type": "code",
   "execution_count": null,
   "metadata": {
    "colab": {
     "base_uri": "https://localhost:8080/"
    },
    "id": "udaaiTSfRy24",
    "outputId": "54b3168b-d4e7-47cd-b977-3d399182a3c8",
    "scrolled": true
   },
   "outputs": [],
   "source": [
    "[dept.name for dept in dept_rows]"
   ]
  },
  {
   "cell_type": "markdown",
   "metadata": {
    "id": "DqRGmJk4Ry25"
   },
   "source": [
    "## Creating a `pyspark.DataFrame`\n",
    "\n",
    "* A `DataFrame` is a collection of `Row`s\n",
    "* Create with spark.createDataFrame\n",
    "* Need to have a "
   ]
  },
  {
   "cell_type": "code",
   "execution_count": null,
   "metadata": {
    "colab": {
     "base_uri": "https://localhost:8080/"
    },
    "id": "2h-qJ8rbRy25",
    "outputId": "5d53526b-c4f1-4b20-c355-849b0af38d34"
   },
   "outputs": [],
   "source": [
    "df = spark.createDataFrame(dept_rows)\n",
    "df"
   ]
  },
  {
   "cell_type": "markdown",
   "metadata": {
    "id": "GdXTzICWRy3Q"
   },
   "source": [
    "## Creating rows from list of data"
   ]
  },
  {
   "cell_type": "markdown",
   "metadata": {
    "id": "Hu-N03ygRy3R"
   },
   "source": [
    "## Creating a Row class\n",
    "\n",
    "* Pass `Row` the columns names\n",
    "* Creates a specialized `Row` class"
   ]
  },
  {
   "cell_type": "code",
   "execution_count": null,
   "metadata": {
    "colab": {
     "base_uri": "https://localhost:8080/"
    },
    "id": "1ZO3CiYYRy3R",
    "outputId": "97ac94a4-1cf4-4bff-9152-1ac38dfc7fad"
   },
   "outputs": [],
   "source": [
    "Employee = Row(\"firstName\", \"lastName\", \"email\", \"salary\")\n",
    "Employee"
   ]
  },
  {
   "cell_type": "markdown",
   "metadata": {
    "id": "MrAAWT4nRy3S"
   },
   "source": [
    "## Creating a `Employee` instance\n",
    "\n",
    "* Pass the data to `Employee` to make a row\n",
    "* Order matters ... use the same order as names"
   ]
  },
  {
   "cell_type": "code",
   "execution_count": null,
   "metadata": {
    "colab": {
     "base_uri": "https://localhost:8080/"
    },
    "id": "auFhqmbNRy3S",
    "outputId": "69e0ffbe-5c3e-421e-8701-7d3150de1968"
   },
   "outputs": [],
   "source": [
    "Employee = Row(\"firstName\", \"lastName\", \"email\", \"salary\")\n",
    "employee1 = Employee('michael', 'armbrust', 'no-reply@berkeley.edu', 100000)\n",
    "employee1"
   ]
  },
  {
   "cell_type": "markdown",
   "metadata": {
    "id": "t-3Q8QpZRy3S"
   },
   "source": [
    "## Unpacking a data list\n",
    "\n",
    "* Suppose the data is in a list/tuple.\n",
    "* Use sequence unpacking with `*`"
   ]
  },
  {
   "cell_type": "code",
   "execution_count": null,
   "metadata": {
    "colab": {
     "base_uri": "https://localhost:8080/"
    },
    "id": "PJv1aQpRRy3T",
    "outputId": "4a45810f-e83f-4bdb-cbf5-1766a154165f"
   },
   "outputs": [],
   "source": [
    "empl2_info = ('xiangrui', 'meng', 'no-reply@stanford.edu', 120000)\n",
    "empl2_info"
   ]
  },
  {
   "cell_type": "code",
   "execution_count": null,
   "metadata": {
    "colab": {
     "base_uri": "https://localhost:8080/"
    },
    "id": "4dRAOZ-CRy3T",
    "outputId": "89b53a0f-b753-4f3f-ec0f-27b0fe9528da"
   },
   "outputs": [],
   "source": [
    "employee2 = Employee(*empl2_info)\n",
    "employee2"
   ]
  },
  {
   "cell_type": "markdown",
   "metadata": {
    "id": "igGducXvRy3T"
   },
   "source": [
    "## Unpacking "
   ]
  },
  {
   "cell_type": "code",
   "execution_count": null,
   "metadata": {
    "colab": {
     "base_uri": "https://localhost:8080/"
    },
    "id": "g64SPRukRy3U",
    "outputId": "1d46f0ac-ada3-496d-d572-7864a4826a41"
   },
   "outputs": [],
   "source": [
    "# Create the Employees\n",
    "Employee = Row(\"firstName\", \"lastName\", \"email\", \"salary\")\n",
    "employees = [('michael', 'armbrust', 'no-reply@berkeley.edu', 100000),\n",
    "             ('xiangrui', 'meng', 'no-reply@stanford.edu', 120000),\n",
    "             ('matei', None, 'no-reply@waterloo.edu', 140000),\n",
    "             (None, 'wendell', 'no-reply@berkeley.edu', 160000)]\n",
    "emp_rows = [Employee(*r) for r in employees]\n",
    "emp_rows"
   ]
  }
 ],
 "metadata": {
  "celltoolbar": "Slideshow",
  "colab": {
   "provenance": []
  },
  "kernelspec": {
   "display_name": "Python 3 (ipykernel)",
   "language": "python",
   "name": "python3"
  },
  "language_info": {
   "codemirror_mode": {
    "name": "ipython",
    "version": 3
   },
   "file_extension": ".py",
   "mimetype": "text/x-python",
   "name": "python",
   "nbconvert_exporter": "python",
   "pygments_lexer": "ipython3",
   "version": "3.12.7"
  },
  "varInspector": {
   "cols": {
    "lenName": 16,
    "lenType": 16,
    "lenVar": 40
   },
   "kernels_config": {
    "python": {
     "delete_cmd_postfix": "",
     "delete_cmd_prefix": "del ",
     "library": "var_list.py",
     "varRefreshCmd": "print(var_dic_list())"
    },
    "r": {
     "delete_cmd_postfix": ") ",
     "delete_cmd_prefix": "rm(",
     "library": "var_list.r",
     "varRefreshCmd": "cat(var_dic_list()) "
    }
   },
   "types_to_exclude": [
    "module",
    "function",
    "builtin_function_or_method",
    "instance",
    "_Feature"
   ],
   "window_display": false
  }
 },
 "nbformat": 4,
 "nbformat_minor": 4
}
